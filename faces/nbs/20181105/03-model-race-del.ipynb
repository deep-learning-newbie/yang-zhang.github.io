{
 "cells": [
  {
   "cell_type": "code",
   "execution_count": 1,
   "metadata": {},
   "outputs": [],
   "source": [
    "%load_ext autoreload\n",
    "%autoreload 2\n",
    "%matplotlib inline\n",
    "%config InlineBackend.figure_format = 'retina'\n",
    "\n",
    "import os, sys\n",
    "from pathlib import Path\n",
    "from tqdm import tqdm\n",
    "from collections import defaultdict, Counter\n",
    "import pickle\n",
    "import pdb\n",
    "import datetime\n",
    "from glob import glob\n",
    "import string\n",
    "\n",
    "import numpy as np\n",
    "import pandas as pd\n",
    "import matplotlib.pyplot as plt\n",
    "import seaborn as sns\n",
    "from IPython.display import display, Image as IImage\n",
    "\n",
    "\n",
    "def show_dct(dct, n=3):\n",
    "    return dict(list(dct.items())[:n])\n",
    "\n",
    "\n",
    "pdata = Path('/data/utkface/')\n",
    "p = Path('.')\n",
    "from fastai import *\n",
    "from fastai.vision import *"
   ]
  },
  {
   "cell_type": "code",
   "execution_count": 2,
   "metadata": {},
   "outputs": [],
   "source": [
    "target = 'race'"
   ]
  },
  {
   "cell_type": "code",
   "execution_count": 3,
   "metadata": {},
   "outputs": [],
   "source": [
    "df = pd.read_csv('img2targets.csv', usecols=['img_name', target, 'is_train'])\n",
    "# df = pd.read_csv('img2targets.csv', usecols=['img_name', target, 'is_train']).sample(1000)\n",
    "\n",
    "classes = sorted(set(df[target]))\n",
    "\n",
    "def get_dataset(df, classes=None):\n",
    "    return ImageClassificationDataset(df.img_name, df[target], classes)\n",
    "\n",
    "train_ds = get_dataset(df[df.is_train==1], classes)\n",
    "valid_ds = get_dataset(df[df.is_train==0], classes)\n",
    "\n",
    "def get_data(sz, bs):\n",
    "    return ImageDataBunch.create(train_ds, valid_ds, path=p, bs=bs, size=sz,\n",
    "                            ds_tfms=get_transforms(), tfms=imagenet_norm)"
   ]
  },
  {
   "cell_type": "code",
   "execution_count": null,
   "metadata": {},
   "outputs": [],
   "source": [
    "data = get_data(sz=200, bs=64)\n",
    "\n",
    "i = np.random.choice(len(data.valid_ds))\n",
    "img,label = data.valid_ds[i]\n",
    "\n",
    "img.show(title=classes[label])"
   ]
  },
  {
   "cell_type": "code",
   "execution_count": 5,
   "metadata": {},
   "outputs": [],
   "source": [
    "learn = ConvLearner(data, tvm.resnet50, metrics=accuracy)"
   ]
  },
  {
   "cell_type": "code",
   "execution_count": 7,
   "metadata": {},
   "outputs": [],
   "source": [
    "def train_size(sz, bs, lr):\n",
    "    learn.data=get_data(sz, bs)\n",
    "    learn.freeze()\n",
    "    learn.fit_one_cycle(5, slice(lr))\n",
    "    learn.unfreeze()\n",
    "    learn.fit_one_cycle(5, slice(lr/20, lr/2), pct_start=0.1)\n",
    "    learn.save(f\"{target}-{sz}\")"
   ]
  },
  {
   "cell_type": "code",
   "execution_count": null,
   "metadata": {},
   "outputs": [
    {
     "data": {
      "application/vnd.jupyter.widget-view+json": {
       "model_id": "9bf7bb1e6bae4726be1f405aaacf1d0c",
       "version_major": 2,
       "version_minor": 0
      },
      "text/plain": [
       "VBox(children=(HBox(children=(IntProgress(value=0, max=1), HTML(value='0.00% [0/1 00:00<00:00]'))), HTML(value…"
      ]
     },
     "metadata": {},
     "output_type": "display_data"
    }
   ],
   "source": [
    "sz, bs = 200, 128 \n",
    "\n",
    "learn.data=get_data(sz, bs)\n",
    "\n",
    "learn.lr_find(start_lr=1e-6)\n",
    "learn.recorder.plot()"
   ]
  },
  {
   "cell_type": "code",
   "execution_count": null,
   "metadata": {},
   "outputs": [],
   "source": [
    "lr="
   ]
  },
  {
   "cell_type": "code",
   "execution_count": null,
   "metadata": {},
   "outputs": [],
   "source": [
    "train_size(sz, bs, lr)"
   ]
  }
 ],
 "metadata": {
  "kernelspec": {
   "display_name": "Python [conda env:fastaiv1]",
   "language": "python",
   "name": "conda-env-fastaiv1-py"
  },
  "language_info": {
   "codemirror_mode": {
    "name": "ipython",
    "version": 3
   },
   "file_extension": ".py",
   "mimetype": "text/x-python",
   "name": "python",
   "nbconvert_exporter": "python",
   "pygments_lexer": "ipython3",
   "version": "3.7.0"
  },
  "toc": {
   "base_numbering": 1,
   "nav_menu": {},
   "number_sections": true,
   "sideBar": true,
   "skip_h1_title": false,
   "title_cell": "Table of Contents",
   "title_sidebar": "Contents",
   "toc_cell": false,
   "toc_position": {},
   "toc_section_display": true,
   "toc_window_display": false
  }
 },
 "nbformat": 4,
 "nbformat_minor": 2
}
