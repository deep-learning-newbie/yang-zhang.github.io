{
 "cells": [
  {
   "cell_type": "code",
   "execution_count": 108,
   "metadata": {},
   "outputs": [],
   "source": [
    "class Tree():\n",
    "    def __init__(self, data):\n",
    "        self.data = data\n",
    "        self.left = None\n",
    "        self.right = None\n",
    "\n",
    "tree = Tree(1)\n",
    "tree.left = Tree(2)\n",
    "tree.right = Tree(3)\n",
    "tree.left.left = Tree(4)\n",
    "tree.left.right = Tree(5)"
   ]
  },
  {
   "cell_type": "markdown",
   "metadata": {},
   "source": [
    "## BFS"
   ]
  },
  {
   "cell_type": "code",
   "execution_count": 109,
   "metadata": {},
   "outputs": [
    {
     "name": "stdout",
     "output_type": "stream",
     "text": [
      "1\n",
      "2\n",
      "3\n",
      "4\n",
      "5\n"
     ]
    }
   ],
   "source": [
    "from queue import Queue\n",
    "def bfs(tree):\n",
    "    q = Queue()\n",
    "    q.put(tree)\n",
    "    while q.qsize():\n",
    "        node = q.get()\n",
    "        print(node.data)\n",
    "        if node.left: q.put(node.left)\n",
    "        if node.right: q.put(node.right)\n",
    "        \n",
    "        \n",
    "bfs(tree) "
   ]
  },
  {
   "cell_type": "code",
   "execution_count": 110,
   "metadata": {},
   "outputs": [
    {
     "data": {
      "text/plain": [
       "[1, 2, 3, 4, 5]"
      ]
     },
     "execution_count": 110,
     "metadata": {},
     "output_type": "execute_result"
    }
   ],
   "source": [
    "from queue import Queue\n",
    "def bfs(tree):\n",
    "    rslt = []\n",
    "    q = Queue()\n",
    "    q.put(tree)\n",
    "    while q.qsize():\n",
    "        node = q.get()\n",
    "        rslt.append(node.data)\n",
    "        if node.left: q.put(node.left)\n",
    "        if node.right: q.put(node.right)\n",
    "    return rslt\n",
    "        \n",
    "bfs(tree) "
   ]
  },
  {
   "cell_type": "markdown",
   "metadata": {},
   "source": [
    "## DFS"
   ]
  },
  {
   "cell_type": "markdown",
   "metadata": {},
   "source": [
    "### preorder"
   ]
  },
  {
   "cell_type": "code",
   "execution_count": 111,
   "metadata": {},
   "outputs": [
    {
     "name": "stdout",
     "output_type": "stream",
     "text": [
      "1\n",
      "2\n",
      "4\n",
      "5\n",
      "3\n"
     ]
    }
   ],
   "source": [
    "def trav_preorder(tree):\n",
    "    if tree is None: return\n",
    "    print(tree.data)\n",
    "    trav_preorder(tree.left)\n",
    "    trav_preorder(tree.right)\n",
    "\n",
    "trav_preorder(tree)"
   ]
  },
  {
   "cell_type": "code",
   "execution_count": 112,
   "metadata": {},
   "outputs": [
    {
     "data": {
      "text/plain": [
       "[1, 2, 4, 5, 3]"
      ]
     },
     "execution_count": 112,
     "metadata": {},
     "output_type": "execute_result"
    }
   ],
   "source": [
    "def trav_preorder(tree):\n",
    "    rslt = []\n",
    "    \n",
    "    def trav(tree):\n",
    "        if tree is None: return\n",
    "        rslt.append(tree.data)\n",
    "        trav(tree.left)\n",
    "        trav(tree.right)\n",
    "    \n",
    "    trav(tree)\n",
    "    return rslt\n",
    "\n",
    "trav_preorder(tree)"
   ]
  },
  {
   "cell_type": "markdown",
   "metadata": {},
   "source": [
    "### inorder"
   ]
  },
  {
   "cell_type": "code",
   "execution_count": 113,
   "metadata": {},
   "outputs": [
    {
     "name": "stdout",
     "output_type": "stream",
     "text": [
      "4\n",
      "2\n",
      "5\n",
      "1\n",
      "3\n"
     ]
    }
   ],
   "source": [
    "def trav_inorder(tree):\n",
    "    if tree is None: return\n",
    "    trav_inorder(tree.left)\n",
    "    print(tree.data)\n",
    "    trav_inorder(tree.right)\n",
    "\n",
    "trav_inorder(tree)"
   ]
  },
  {
   "cell_type": "code",
   "execution_count": 114,
   "metadata": {},
   "outputs": [
    {
     "data": {
      "text/plain": [
       "[4, 2, 5, 1, 3]"
      ]
     },
     "execution_count": 114,
     "metadata": {},
     "output_type": "execute_result"
    }
   ],
   "source": [
    "def trav_inorder(tree):\n",
    "    rslt = []\n",
    "    \n",
    "    def trav(tree):\n",
    "        if tree is None: return\n",
    "        trav(tree.left)\n",
    "        rslt.append(tree.data)\n",
    "        trav(tree.right)\n",
    "    \n",
    "    trav(tree)\n",
    "    return rslt\n",
    "\n",
    "trav_inorder(tree)"
   ]
  },
  {
   "cell_type": "markdown",
   "metadata": {},
   "source": [
    "### postorder"
   ]
  },
  {
   "cell_type": "code",
   "execution_count": 115,
   "metadata": {},
   "outputs": [
    {
     "name": "stdout",
     "output_type": "stream",
     "text": [
      "4\n",
      "5\n",
      "2\n",
      "3\n",
      "1\n"
     ]
    }
   ],
   "source": [
    "def trav_postorder(tree):\n",
    "    if tree is None: return\n",
    "    trav_postorder(tree.left)\n",
    "    trav_postorder(tree.right)\n",
    "    print(tree.data)\n",
    "\n",
    "trav_postorder(tree)"
   ]
  },
  {
   "cell_type": "code",
   "execution_count": 116,
   "metadata": {},
   "outputs": [
    {
     "data": {
      "text/plain": [
       "[4, 5, 2, 3, 1]"
      ]
     },
     "execution_count": 116,
     "metadata": {},
     "output_type": "execute_result"
    }
   ],
   "source": [
    "def trav_postorder(tree):\n",
    "    rslt = []\n",
    "    \n",
    "    def trav(tree):\n",
    "        if tree is None: return\n",
    "        trav(tree.left)\n",
    "        trav(tree.right)\n",
    "        rslt.append(tree.data)\n",
    "    \n",
    "    trav(tree)\n",
    "    return rslt\n",
    "\n",
    "trav_postorder(tree)"
   ]
  },
  {
   "cell_type": "code",
   "execution_count": null,
   "metadata": {},
   "outputs": [],
   "source": []
  },
  {
   "cell_type": "code",
   "execution_count": null,
   "metadata": {},
   "outputs": [],
   "source": []
  }
 ],
 "metadata": {
  "kernelspec": {
   "display_name": "Python [conda env:anaconda3]",
   "language": "python",
   "name": "conda-env-anaconda3-py"
  },
  "language_info": {
   "codemirror_mode": {
    "name": "ipython",
    "version": 3
   },
   "file_extension": ".py",
   "mimetype": "text/x-python",
   "name": "python",
   "nbconvert_exporter": "python",
   "pygments_lexer": "ipython3",
   "version": "3.6.4"
  },
  "toc": {
   "base_numbering": 1,
   "nav_menu": {},
   "number_sections": true,
   "sideBar": true,
   "skip_h1_title": false,
   "title_cell": "Table of Contents",
   "title_sidebar": "Contents",
   "toc_cell": false,
   "toc_position": {},
   "toc_section_display": true,
   "toc_window_display": false
  }
 },
 "nbformat": 4,
 "nbformat_minor": 2
}
