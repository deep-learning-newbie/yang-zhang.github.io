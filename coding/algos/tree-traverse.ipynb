{
 "cells": [
  {
   "cell_type": "code",
   "execution_count": 152,
   "metadata": {},
   "outputs": [],
   "source": [
    "class Tree():\n",
    "    def __init__(self, data):\n",
    "        self.data = data\n",
    "        self.left = None\n",
    "        self.right = None\n",
    "\n",
    "tree = Tree(1)\n",
    "tree.left = Tree(2)\n",
    "tree.right = Tree(3)\n",
    "tree.left.left = Tree(4)\n",
    "tree.left.right = Tree(5)\n",
    "tree.right.left = Tree(6)\n",
    "tree.right.right = Tree(7)"
   ]
  },
  {
   "cell_type": "markdown",
   "metadata": {},
   "source": [
    "## BFS"
   ]
  },
  {
   "cell_type": "code",
   "execution_count": 153,
   "metadata": {},
   "outputs": [
    {
     "name": "stdout",
     "output_type": "stream",
     "text": [
      "1\n",
      "2\n",
      "3\n",
      "4\n",
      "5\n",
      "6\n",
      "7\n"
     ]
    }
   ],
   "source": [
    "def bfs(tree):\n",
    "    q = []\n",
    "    q.append(tree)\n",
    "    while len(q):\n",
    "        current = q.pop(0)\n",
    "        print(current.data)\n",
    "        if current.left: q.append(current.left)\n",
    "        if current.right: q.append(current.right)\n",
    "        \n",
    "        \n",
    "bfs(tree) "
   ]
  },
  {
   "cell_type": "code",
   "execution_count": 154,
   "metadata": {},
   "outputs": [
    {
     "data": {
      "text/plain": [
       "[1, 2, 3, 4, 5, 6, 7]"
      ]
     },
     "execution_count": 154,
     "metadata": {},
     "output_type": "execute_result"
    }
   ],
   "source": [
    "def bfs(tree):\n",
    "    rslt = []\n",
    "    q = []\n",
    "    q.append(tree)\n",
    "    while len(q):\n",
    "        current = q.pop(0)\n",
    "        rslt.append(current.data)\n",
    "        if current.left: q.append(current.left)\n",
    "        if current.right: q.append(current.right)\n",
    "    return rslt\n",
    "        \n",
    "bfs(tree) "
   ]
  },
  {
   "cell_type": "markdown",
   "metadata": {},
   "source": [
    "## DFS"
   ]
  },
  {
   "cell_type": "markdown",
   "metadata": {},
   "source": [
    "### preorder"
   ]
  },
  {
   "cell_type": "code",
   "execution_count": 155,
   "metadata": {},
   "outputs": [
    {
     "name": "stdout",
     "output_type": "stream",
     "text": [
      "1\n",
      "2\n",
      "4\n",
      "5\n",
      "3\n",
      "6\n",
      "7\n"
     ]
    }
   ],
   "source": [
    "def trav_preorder(tree):\n",
    "    if tree is None: return\n",
    "    print(tree.data)\n",
    "    trav_preorder(tree.left)\n",
    "    trav_preorder(tree.right)\n",
    "\n",
    "trav_preorder(tree)"
   ]
  },
  {
   "cell_type": "code",
   "execution_count": 156,
   "metadata": {},
   "outputs": [
    {
     "data": {
      "text/plain": [
       "[1, 2, 4, 5, 3, 6, 7]"
      ]
     },
     "execution_count": 156,
     "metadata": {},
     "output_type": "execute_result"
    }
   ],
   "source": [
    "def trav_preorder(tree):\n",
    "    rslt = []\n",
    "    \n",
    "    def trav(tree):\n",
    "        if tree is None: return\n",
    "        rslt.append(tree.data)\n",
    "        trav(tree.left)\n",
    "        trav(tree.right)\n",
    "    \n",
    "    trav(tree)\n",
    "    return rslt\n",
    "\n",
    "trav_preorder(tree)"
   ]
  },
  {
   "cell_type": "markdown",
   "metadata": {},
   "source": [
    "### inorder"
   ]
  },
  {
   "cell_type": "code",
   "execution_count": 157,
   "metadata": {},
   "outputs": [
    {
     "name": "stdout",
     "output_type": "stream",
     "text": [
      "4\n",
      "2\n",
      "5\n",
      "1\n",
      "6\n",
      "3\n",
      "7\n"
     ]
    }
   ],
   "source": [
    "def trav_inorder(tree):\n",
    "    if tree is None: return\n",
    "    trav_inorder(tree.left)\n",
    "    print(tree.data)\n",
    "    trav_inorder(tree.right)\n",
    "\n",
    "trav_inorder(tree)"
   ]
  },
  {
   "cell_type": "code",
   "execution_count": 158,
   "metadata": {},
   "outputs": [
    {
     "data": {
      "text/plain": [
       "[4, 2, 5, 1, 6, 3, 7]"
      ]
     },
     "execution_count": 158,
     "metadata": {},
     "output_type": "execute_result"
    }
   ],
   "source": [
    "def trav_inorder(tree):\n",
    "    rslt = []\n",
    "    \n",
    "    def trav(tree):\n",
    "        if tree is None: return\n",
    "        trav(tree.left)\n",
    "        rslt.append(tree.data)\n",
    "        trav(tree.right)\n",
    "    \n",
    "    trav(tree)\n",
    "    return rslt\n",
    "\n",
    "trav_inorder(tree)"
   ]
  },
  {
   "cell_type": "markdown",
   "metadata": {},
   "source": [
    "### postorder"
   ]
  },
  {
   "cell_type": "code",
   "execution_count": 159,
   "metadata": {},
   "outputs": [
    {
     "name": "stdout",
     "output_type": "stream",
     "text": [
      "4\n",
      "5\n",
      "2\n",
      "6\n",
      "7\n",
      "3\n",
      "1\n"
     ]
    }
   ],
   "source": [
    "def trav_postorder(tree):\n",
    "    if tree is None: return\n",
    "    trav_postorder(tree.left)\n",
    "    trav_postorder(tree.right)\n",
    "    print(tree.data)\n",
    "\n",
    "trav_postorder(tree)"
   ]
  },
  {
   "cell_type": "code",
   "execution_count": 160,
   "metadata": {},
   "outputs": [
    {
     "data": {
      "text/plain": [
       "[4, 5, 2, 6, 7, 3, 1]"
      ]
     },
     "execution_count": 160,
     "metadata": {},
     "output_type": "execute_result"
    }
   ],
   "source": [
    "def trav_postorder(tree):\n",
    "    rslt = []\n",
    "    def trav(tree):\n",
    "        if tree is None: return\n",
    "        trav(tree.left)\n",
    "        trav(tree.right)\n",
    "        rslt.append(tree.data)\n",
    "    \n",
    "    trav(tree)\n",
    "    return rslt\n",
    "\n",
    "trav_postorder(tree)"
   ]
  },
  {
   "cell_type": "markdown",
   "metadata": {},
   "source": [
    "## DFS using stack"
   ]
  },
  {
   "cell_type": "markdown",
   "metadata": {},
   "source": [
    "### preorder"
   ]
  },
  {
   "cell_type": "markdown",
   "metadata": {},
   "source": [
    "https://www.geeksforgeeks.org/inorder-tree-traversal-without-recursion/"
   ]
  },
  {
   "cell_type": "code",
   "execution_count": 169,
   "metadata": {},
   "outputs": [
    {
     "data": {
      "text/plain": [
       "[1, 2, 4, 5, 3, 6, 7]"
      ]
     },
     "execution_count": 169,
     "metadata": {},
     "output_type": "execute_result"
    }
   ],
   "source": [
    "def trav_preorder(tree):\n",
    "    rslt = []\n",
    "    stk = []\n",
    "    current = tree\n",
    "    while current is not None or len(stk)>0:\n",
    "        while current is not None:\n",
    "            rslt.append(current.data)\n",
    "            stk.append(current)\n",
    "            current = current.left\n",
    "        tmp = stk.pop()\n",
    "        current = tmp.right\n",
    "    return rslt\n",
    "\n",
    "trav_preorder(tree)"
   ]
  },
  {
   "cell_type": "code",
   "execution_count": 170,
   "metadata": {},
   "outputs": [
    {
     "data": {
      "text/plain": [
       "[1, 2, 4, 5, 3, 6, 7]"
      ]
     },
     "execution_count": 170,
     "metadata": {},
     "output_type": "execute_result"
    }
   ],
   "source": [
    "def trav_preorder(tree):\n",
    "    rslt = []\n",
    "    stk = []\n",
    "    current = tree\n",
    "    while current is not None or len(stk)>0:\n",
    "        if current is not None:\n",
    "            rslt.append(current.data)\n",
    "            stk.append(current)\n",
    "            current = current.left\n",
    "        else:\n",
    "            tmp = stk.pop()\n",
    "            current = tmp.right\n",
    "    return rslt\n",
    "\n",
    "trav_preorder(tree)"
   ]
  },
  {
   "cell_type": "markdown",
   "metadata": {},
   "source": [
    "### inorder"
   ]
  },
  {
   "cell_type": "markdown",
   "metadata": {},
   "source": [
    "https://www.geeksforgeeks.org/inorder-tree-traversal-without-recursion/"
   ]
  },
  {
   "cell_type": "code",
   "execution_count": 171,
   "metadata": {},
   "outputs": [
    {
     "data": {
      "text/plain": [
       "[4, 2, 5, 1, 6, 3, 7]"
      ]
     },
     "execution_count": 171,
     "metadata": {},
     "output_type": "execute_result"
    }
   ],
   "source": [
    "def trav_inorder(tree):\n",
    "    rslt = []\n",
    "    stk = []\n",
    "    current = tree\n",
    "    while current is not None or len(stk)>0:\n",
    "        while current is not None:\n",
    "            stk.append(current)\n",
    "            current = current.left\n",
    "        tmp = stk.pop()\n",
    "        rslt.append(tmp.data)\n",
    "        current = tmp.right\n",
    "    return rslt\n",
    "\n",
    "trav_inorder(tree)"
   ]
  },
  {
   "cell_type": "code",
   "execution_count": 172,
   "metadata": {},
   "outputs": [
    {
     "data": {
      "text/plain": [
       "[4, 2, 5, 1, 6, 3, 7]"
      ]
     },
     "execution_count": 172,
     "metadata": {},
     "output_type": "execute_result"
    }
   ],
   "source": [
    "def trav_inorder(tree):\n",
    "    rslt = []\n",
    "    stk = []\n",
    "    current = tree\n",
    "    while current is not None or len(stk)>0:\n",
    "        if current is not None:\n",
    "            stk.append(current)\n",
    "            current = current.left\n",
    "        else:\n",
    "            tmp = stk.pop()\n",
    "            rslt.append(tmp.data)\n",
    "            current = tmp.right\n",
    "    return rslt\n",
    "\n",
    "trav_inorder(tree)"
   ]
  },
  {
   "cell_type": "markdown",
   "metadata": {},
   "source": [
    "### postorder"
   ]
  },
  {
   "cell_type": "markdown",
   "metadata": {},
   "source": [
    "https://www.geeksforgeeks.org/inorder-tree-traversal-without-recursion/"
   ]
  },
  {
   "cell_type": "code",
   "execution_count": 175,
   "metadata": {},
   "outputs": [
    {
     "data": {
      "text/plain": [
       "[4, 5, 2, 6, 7, 3, 1]"
      ]
     },
     "execution_count": 175,
     "metadata": {},
     "output_type": "execute_result"
    }
   ],
   "source": [
    "def trav_postorder(tree):\n",
    "    current = tree\n",
    "    rslt = []\n",
    "    stk = []\n",
    "    last_visited = None\n",
    "    current = tree\n",
    "    while current is not None or len(stk)>0:\n",
    "        if current is not None:\n",
    "            stk.append(current)\n",
    "            current = current.left\n",
    "        else:\n",
    "            tmp = stk[-1]\n",
    "            if tmp.right is not None and tmp.right!=last_visited:\n",
    "                current = tmp.right\n",
    "            else:\n",
    "                tmp = stk.pop()\n",
    "                last_visited = tmp\n",
    "                rslt.append(tmp.data)\n",
    "    return rslt\n",
    "\n",
    "trav_postorder(tree)"
   ]
  },
  {
   "cell_type": "code",
   "execution_count": null,
   "metadata": {},
   "outputs": [],
   "source": []
  }
 ],
 "metadata": {
  "kernelspec": {
   "display_name": "Python [conda env:anaconda3]",
   "language": "python",
   "name": "conda-env-anaconda3-py"
  },
  "language_info": {
   "codemirror_mode": {
    "name": "ipython",
    "version": 3
   },
   "file_extension": ".py",
   "mimetype": "text/x-python",
   "name": "python",
   "nbconvert_exporter": "python",
   "pygments_lexer": "ipython3",
   "version": "3.6.4"
  },
  "toc": {
   "base_numbering": 1,
   "nav_menu": {},
   "number_sections": true,
   "sideBar": true,
   "skip_h1_title": false,
   "title_cell": "Table of Contents",
   "title_sidebar": "Contents",
   "toc_cell": false,
   "toc_position": {},
   "toc_section_display": true,
   "toc_window_display": true
  }
 },
 "nbformat": 4,
 "nbformat_minor": 2
}
