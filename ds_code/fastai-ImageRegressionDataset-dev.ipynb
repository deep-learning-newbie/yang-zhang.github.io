{
 "cells": [
  {
   "cell_type": "code",
   "execution_count": 1,
   "metadata": {
    "scrolled": true
   },
   "outputs": [
    {
     "data": {
      "text/plain": [
       "'1.0.19'"
      ]
     },
     "execution_count": 1,
     "metadata": {},
     "output_type": "execute_result"
    }
   ],
   "source": [
    "import fastai; fastai.__version__"
   ]
  },
  {
   "cell_type": "code",
   "execution_count": 2,
   "metadata": {},
   "outputs": [],
   "source": [
    "from fastai import *\n",
    "from fastai.vision import *"
   ]
  },
  {
   "cell_type": "code",
   "execution_count": 3,
   "metadata": {},
   "outputs": [],
   "source": [
    "class ImageRegressionDataset(ImageClassificationBase):\n",
    "    def __init__(self, fns:FilePathList, y:Collection[Number], y_range:OptRange=None):\n",
    "        super().__init__(fns, classes=[])\n",
    "        self.y = np.array(y, dtype=np.float32)[:, None]\n",
    "        self.y_range = y_range\n",
    "        self.c = 1\n",
    "        self.loss_func = F.mse_loss"
   ]
  },
  {
   "cell_type": "code",
   "execution_count": 4,
   "metadata": {},
   "outputs": [
    {
     "data": {
      "text/plain": [
       "[PosixPath('/data/cifar10/train/airplane/17015_airplane.png'),\n",
       " PosixPath('/data/cifar10/train/airplane/44932_airplane.png'),\n",
       " PosixPath('/data/cifar10/train/airplane/43160_airplane.png')]"
      ]
     },
     "execution_count": 4,
     "metadata": {},
     "output_type": "execute_result"
    }
   ],
   "source": [
    "pdata = Path('/data/cifar10/train/airplane/')\n",
    "\n",
    "list(pdata.glob('*.png'))[:3]"
   ]
  },
  {
   "cell_type": "code",
   "execution_count": 5,
   "metadata": {},
   "outputs": [
    {
     "data": {
      "image/png": "[encoded data removed]",
      "text/plain": [
       "<Figure size 216x216 with 1 Axes>"
      ]
     },
     "metadata": {
      "needs_background": "light"
     },
     "output_type": "display_data"
    }
   ],
   "source": [
    "n = 100\n",
    "n_val = 20\n",
    "fns = list(pdata.glob('*.png'))[:n]\n",
    "y = np.random.randn(n)\n",
    "\n",
    "ds_trn = ImageRegressionDataset(fns[:-n_val], y[:-n_val])\n",
    "ds_val = ImageRegressionDataset(fns[-n_val:], y[-n_val:])\n",
    "\n",
    "img, y = ds_val[0]\n",
    "img.show(title=y[0])"
   ]
  },
  {
   "cell_type": "code",
   "execution_count": 6,
   "metadata": {},
   "outputs": [
    {
     "name": "stdout",
     "output_type": "stream",
     "text": [
      "Total time: 00:00\n",
      "epoch  train_loss  valid_loss\n",
      "1      1.250102    1.324627    (00:00)\n",
      "\n"
     ]
    }
   ],
   "source": [
    "data = ImageDataBunch.create(ds_trn, ds_val)\n",
    "\n",
    "learn = create_cnn(data, models.resnet18)\n",
    "\n",
    "learn.fit(1)"
   ]
  },
  {
   "cell_type": "code",
   "execution_count": 7,
   "metadata": {},
   "outputs": [
    {
     "name": "stdout",
     "output_type": "stream",
     "text": [
      "Total time: 00:00\n",
      "epoch  train_loss  valid_loss\n",
      "1      1.430220    1.078725    (00:00)\n",
      "\n"
     ]
    }
   ],
   "source": [
    "data = ImageDataBunch.create(ds_trn, ds_val)\n",
    "\n",
    "learn = create_cnn(data, models.resnet18, loss_func=F.l1_loss)\n",
    "\n",
    "learn.fit(1)"
   ]
  },
  {
   "cell_type": "code",
   "execution_count": null,
   "metadata": {},
   "outputs": [],
   "source": []
  }
 ],
 "metadata": {
  "kernelspec": {
   "display_name": "Python [conda env:fastaiv1]",
   "language": "python",
   "name": "conda-env-fastaiv1-py"
  },
  "language_info": {
   "codemirror_mode": {
    "name": "ipython",
    "version": 3
   },
   "file_extension": ".py",
   "mimetype": "text/x-python",
   "name": "python",
   "nbconvert_exporter": "python",
   "pygments_lexer": "ipython3",
   "version": "3.7.0"
  },
  "toc": {
   "base_numbering": 1,
   "nav_menu": {},
   "number_sections": true,
   "sideBar": true,
   "skip_h1_title": false,
   "title_cell": "Table of Contents",
   "title_sidebar": "Contents",
   "toc_cell": false,
   "toc_position": {},
   "toc_section_display": true,
   "toc_window_display": false
  }
 },
 "nbformat": 4,
 "nbformat_minor": 2
}
