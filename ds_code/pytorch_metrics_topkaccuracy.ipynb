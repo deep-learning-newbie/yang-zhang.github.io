{
 "cells": [
  {
   "cell_type": "code",
   "execution_count": 55,
   "metadata": {},
   "outputs": [
    {
     "data": {
      "text/plain": [
       "'1.0.0.dev20181018'"
      ]
     },
     "execution_count": 55,
     "metadata": {},
     "output_type": "execute_result"
    }
   ],
   "source": [
    "import torch\n",
    "torch.__version__"
   ]
  },
  {
   "cell_type": "code",
   "execution_count": 56,
   "metadata": {},
   "outputs": [],
   "source": [
    "bs = 8\n",
    "nc = 5"
   ]
  },
  {
   "cell_type": "code",
   "execution_count": 57,
   "metadata": {},
   "outputs": [
    {
     "data": {
      "text/plain": [
       "torch.Size([8, 5])"
      ]
     },
     "execution_count": 57,
     "metadata": {},
     "output_type": "execute_result"
    }
   ],
   "source": [
    "y_pred = torch.randn(bs, nc)\n",
    "y_pred = y_pred.sigmoid()\n",
    "y_pred.shape"
   ]
  },
  {
   "cell_type": "code",
   "execution_count": 58,
   "metadata": {},
   "outputs": [
    {
     "data": {
      "text/plain": [
       "tensor([[0.4296, 0.4082, 0.3289, 0.2174, 0.5681],\n",
       "        [0.9369, 0.4079, 0.4381, 0.5847, 0.4054],\n",
       "        [0.5881, 0.5179, 0.1935, 0.7214, 0.1461],\n",
       "        [0.3007, 0.3951, 0.1621, 0.2608, 0.6127],\n",
       "        [0.2047, 0.3238, 0.7656, 0.7414, 0.4226],\n",
       "        [0.1461, 0.8969, 0.7945, 0.1854, 0.7581],\n",
       "        [0.6351, 0.6160, 0.7741, 0.4442, 0.7180],\n",
       "        [0.4873, 0.3132, 0.0923, 0.6354, 0.6763]])"
      ]
     },
     "execution_count": 58,
     "metadata": {},
     "output_type": "execute_result"
    }
   ],
   "source": [
    "y_pred"
   ]
  },
  {
   "cell_type": "code",
   "execution_count": 59,
   "metadata": {
    "scrolled": true
   },
   "outputs": [
    {
     "data": {
      "text/plain": [
       "tensor([[1, 1, 0, 0, 1],\n",
       "        [1, 1, 1, 0, 0],\n",
       "        [1, 1, 1, 1, 0],\n",
       "        [1, 1, 1, 1, 1],\n",
       "        [0, 1, 1, 1, 1],\n",
       "        [0, 1, 1, 1, 1],\n",
       "        [1, 1, 0, 0, 1],\n",
       "        [1, 1, 0, 0, 0]])"
      ]
     },
     "execution_count": 59,
     "metadata": {},
     "output_type": "execute_result"
    }
   ],
   "source": [
    "y_true = torch.randint(low=0, high=2, size=(bs, nc))\n",
    "y_true"
   ]
  },
  {
   "cell_type": "code",
   "execution_count": 60,
   "metadata": {
    "scrolled": false
   },
   "outputs": [
    {
     "data": {
      "text/plain": [
       "tensor([[4, 0, 1, 2, 3],\n",
       "        [0, 3, 2, 1, 4],\n",
       "        [3, 0, 1, 2, 4],\n",
       "        [4, 1, 0, 3, 2],\n",
       "        [2, 3, 4, 1, 0],\n",
       "        [1, 2, 4, 3, 0],\n",
       "        [2, 4, 0, 1, 3],\n",
       "        [4, 3, 0, 1, 2]])"
      ]
     },
     "execution_count": 60,
     "metadata": {},
     "output_type": "execute_result"
    }
   ],
   "source": [
    "y_rank = y_pred.argsort(descending=True)\n",
    "y_rank"
   ]
  },
  {
   "cell_type": "code",
   "execution_count": 61,
   "metadata": {},
   "outputs": [
    {
     "ename": "AssertionError",
     "evalue": "k (10) needs to be less than or equal to the number of classes (5)",
     "output_type": "error",
     "traceback": [
      "\u001b[0;31m---------------------------------------------------------------------------\u001b[0m",
      "\u001b[0;31mAssertionError\u001b[0m                            Traceback (most recent call last)",
      "\u001b[0;32m<ipython-input-61-0c978bfdf2d4>\u001b[0m in \u001b[0;36m<module>\u001b[0;34m\u001b[0m\n\u001b[1;32m      1\u001b[0m \u001b[0mk\u001b[0m \u001b[0;34m=\u001b[0m \u001b[0;36m10\u001b[0m\u001b[0;34m\u001b[0m\u001b[0m\n\u001b[1;32m      2\u001b[0m \u001b[0mnc\u001b[0m \u001b[0;34m=\u001b[0m \u001b[0my_true\u001b[0m\u001b[0;34m.\u001b[0m\u001b[0mshape\u001b[0m\u001b[0;34m[\u001b[0m\u001b[0;36m1\u001b[0m\u001b[0;34m]\u001b[0m\u001b[0;34m\u001b[0m\u001b[0m\n\u001b[0;32m----> 3\u001b[0;31m \u001b[0;32massert\u001b[0m \u001b[0;36m0\u001b[0m\u001b[0;34m<=\u001b[0m\u001b[0mk\u001b[0m\u001b[0;34m<=\u001b[0m\u001b[0mnc\u001b[0m \u001b[0;34m,\u001b[0m \u001b[0;34mf\"k ({k}) needs to be less than or equal to the number of classes ({nc})\"\u001b[0m\u001b[0;34m\u001b[0m\u001b[0m\n\u001b[0m",
      "\u001b[0;31mAssertionError\u001b[0m: k (10) needs to be less than or equal to the number of classes (5)"
     ]
    }
   ],
   "source": [
    "k = 10\n",
    "nc = y_true.shape[1]\n",
    "assert 0<=k<=nc , f\"k ({k}) needs to be less than or equal to the number of classes ({nc})\""
   ]
  },
  {
   "cell_type": "code",
   "execution_count": 63,
   "metadata": {},
   "outputs": [],
   "source": [
    "k = 3\n",
    "nc = y_true.shape[1]\n",
    "assert 0<=k<=nc , f\"k ({k}) needs to be less than or equal to the number of classes ({nc})\""
   ]
  },
  {
   "cell_type": "code",
   "execution_count": 64,
   "metadata": {},
   "outputs": [
    {
     "data": {
      "text/plain": [
       "tensor([[1, 1, 0, 0, 1],\n",
       "        [1, 1, 1, 0, 0],\n",
       "        [1, 1, 1, 1, 0],\n",
       "        [1, 1, 1, 1, 1],\n",
       "        [0, 1, 1, 1, 1],\n",
       "        [0, 1, 1, 1, 1],\n",
       "        [1, 1, 0, 0, 1],\n",
       "        [1, 1, 0, 0, 0]])"
      ]
     },
     "execution_count": 64,
     "metadata": {},
     "output_type": "execute_result"
    }
   ],
   "source": [
    "y_true"
   ]
  },
  {
   "cell_type": "raw",
   "metadata": {},
   "source": [
    "y_true_totals = y_true.sum(dim=-1).float()\n",
    "y_true_totals"
   ]
  },
  {
   "cell_type": "code",
   "execution_count": 65,
   "metadata": {},
   "outputs": [
    {
     "data": {
      "text/plain": [
       "tensor([[4, 0, 1, 2, 3],\n",
       "        [0, 3, 2, 1, 4],\n",
       "        [3, 0, 1, 2, 4],\n",
       "        [4, 1, 0, 3, 2],\n",
       "        [2, 3, 4, 1, 0],\n",
       "        [1, 2, 4, 3, 0],\n",
       "        [2, 4, 0, 1, 3],\n",
       "        [4, 3, 0, 1, 2]])"
      ]
     },
     "execution_count": 65,
     "metadata": {},
     "output_type": "execute_result"
    }
   ],
   "source": [
    "y_rank"
   ]
  },
  {
   "cell_type": "code",
   "execution_count": 66,
   "metadata": {
    "scrolled": true
   },
   "outputs": [
    {
     "data": {
      "text/plain": [
       "tensor([[1, 1, 1, 0, 0],\n",
       "        [1, 0, 1, 1, 0],\n",
       "        [1, 1, 1, 1, 0],\n",
       "        [1, 1, 1, 1, 1],\n",
       "        [1, 1, 1, 1, 0],\n",
       "        [1, 1, 1, 1, 0],\n",
       "        [0, 1, 1, 1, 0],\n",
       "        [0, 0, 1, 1, 0]])"
      ]
     },
     "execution_count": 66,
     "metadata": {},
     "output_type": "execute_result"
    }
   ],
   "source": [
    "y_reorder = torch.stack([y_true_i[y_rank[i]] for i,y_true_i in enumerate(y_true)])\n",
    "y_reorder"
   ]
  },
  {
   "cell_type": "code",
   "execution_count": 67,
   "metadata": {},
   "outputs": [],
   "source": [
    "accuracy_at_k = y_reorder[:, :k].float().mean()"
   ]
  },
  {
   "cell_type": "code",
   "execution_count": 68,
   "metadata": {},
   "outputs": [],
   "source": [
    "from torch import Tensor\n",
    "def accuracy_at_k(y_pred:Tensor, y_true:Tensor, k:int, sigmoid:bool=True):\n",
    "    \"Compute accuracy of top `k` predictions when `y_pred` and `y_true` are the same size.\"\n",
    "    nc = y_true.shape[1]\n",
    "    assert 0<=k<=nc , f\"k ({k}) needs to be less than or equal to the number of classes ({nc})\"    \n",
    "    if sigmoid: y_pred = y_pred.sigmoid()\n",
    "    y_rank = y_pred.argsort(descending=True)\n",
    "    y_reorder_topk = torch.stack([y_true_i[y_rank[i]][:k] for i,y_true_i in enumerate(y_true)])\n",
    "    return y_reorder_topk.float().mean()"
   ]
  },
  {
   "cell_type": "code",
   "execution_count": 69,
   "metadata": {},
   "outputs": [
    {
     "data": {
      "text/plain": [
       "tensor(0.8333)"
      ]
     },
     "execution_count": 69,
     "metadata": {},
     "output_type": "execute_result"
    }
   ],
   "source": [
    "accuracy_at_k(y_pred, y_true, k)"
   ]
  },
  {
   "cell_type": "code",
   "execution_count": 70,
   "metadata": {},
   "outputs": [],
   "source": [
    "from functools import partial"
   ]
  },
  {
   "cell_type": "code",
   "execution_count": 71,
   "metadata": {},
   "outputs": [
    {
     "data": {
      "text/plain": [
       "tensor(0.8333)"
      ]
     },
     "execution_count": 71,
     "metadata": {},
     "output_type": "execute_result"
    }
   ],
   "source": [
    "accuracy_at_3 = partial(accuracy_at_k, k=3)\n",
    "accuracy_at_3(y_pred, y_true)"
   ]
  },
  {
   "cell_type": "code",
   "execution_count": 72,
   "metadata": {},
   "outputs": [
    {
     "data": {
      "text/plain": [
       "tensor(0.8333)"
      ]
     },
     "execution_count": 72,
     "metadata": {},
     "output_type": "execute_result"
    }
   ],
   "source": [
    "def accuracy_at_3(y_pred, y_true):\n",
    "    return accuracy_at_k(y_pred, y_true, k=3)\n",
    "accuracy_at_3(y_pred, y_true)"
   ]
  },
  {
   "cell_type": "code",
   "execution_count": null,
   "metadata": {},
   "outputs": [],
   "source": []
  },
  {
   "cell_type": "code",
   "execution_count": null,
   "metadata": {},
   "outputs": [],
   "source": []
  }
 ],
 "metadata": {
  "kernelspec": {
   "display_name": "Python [conda env:fastaidev]",
   "language": "python",
   "name": "conda-env-fastaidev-py"
  },
  "language_info": {
   "codemirror_mode": {
    "name": "ipython",
    "version": 3
   },
   "file_extension": ".py",
   "mimetype": "text/x-python",
   "name": "python",
   "nbconvert_exporter": "python",
   "pygments_lexer": "ipython3",
   "version": "3.7.0"
  },
  "toc": {
   "base_numbering": 1,
   "nav_menu": {},
   "number_sections": true,
   "sideBar": true,
   "skip_h1_title": false,
   "title_cell": "Table of Contents",
   "title_sidebar": "Contents",
   "toc_cell": false,
   "toc_position": {},
   "toc_section_display": true,
   "toc_window_display": false
  }
 },
 "nbformat": 4,
 "nbformat_minor": 2
}
