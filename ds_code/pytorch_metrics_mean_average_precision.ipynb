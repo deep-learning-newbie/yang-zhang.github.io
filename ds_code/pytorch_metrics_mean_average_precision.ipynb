{
 "cells": [
  {
   "cell_type": "code",
   "execution_count": 7,
   "metadata": {},
   "outputs": [
    {
     "data": {
      "text/plain": [
       "'1.0.0.dev20181018'"
      ]
     },
     "execution_count": 7,
     "metadata": {},
     "output_type": "execute_result"
    }
   ],
   "source": [
    "import torch\n",
    "torch.__version__"
   ]
  },
  {
   "cell_type": "code",
   "execution_count": 8,
   "metadata": {},
   "outputs": [],
   "source": [
    "bs = 8\n",
    "nc = 4"
   ]
  },
  {
   "cell_type": "code",
   "execution_count": 9,
   "metadata": {},
   "outputs": [
    {
     "data": {
      "text/plain": [
       "torch.Size([8, 4])"
      ]
     },
     "execution_count": 9,
     "metadata": {},
     "output_type": "execute_result"
    }
   ],
   "source": [
    "y_pred = torch.randn(bs, nc)\n",
    "y_pred = y_pred.sigmoid()\n",
    "y_pred.shape"
   ]
  },
  {
   "cell_type": "code",
   "execution_count": 10,
   "metadata": {},
   "outputs": [
    {
     "data": {
      "text/plain": [
       "tensor([[0.5568, 0.3550, 0.1081, 0.6210],\n",
       "        [0.3643, 0.2156, 0.5884, 0.3276],\n",
       "        [0.5797, 0.4956, 0.8933, 0.7701],\n",
       "        [0.3460, 0.5268, 0.5305, 0.4290],\n",
       "        [0.5697, 0.2854, 0.2454, 0.2785],\n",
       "        [0.7663, 0.1966, 0.3188, 0.3429],\n",
       "        [0.2758, 0.1488, 0.6958, 0.7163],\n",
       "        [0.5620, 0.6398, 0.3983, 0.4177]])"
      ]
     },
     "execution_count": 10,
     "metadata": {},
     "output_type": "execute_result"
    }
   ],
   "source": [
    "y_pred"
   ]
  },
  {
   "cell_type": "code",
   "execution_count": 11,
   "metadata": {
    "scrolled": true
   },
   "outputs": [
    {
     "data": {
      "text/plain": [
       "tensor([[0, 1, 1, 1],\n",
       "        [1, 0, 1, 1],\n",
       "        [1, 0, 1, 0],\n",
       "        [0, 1, 1, 1],\n",
       "        [1, 1, 1, 0],\n",
       "        [1, 0, 0, 1],\n",
       "        [0, 1, 1, 1],\n",
       "        [1, 1, 0, 0]])"
      ]
     },
     "execution_count": 11,
     "metadata": {},
     "output_type": "execute_result"
    }
   ],
   "source": [
    "y_true = torch.randint(low=0, high=2, size=(bs, nc))\n",
    "y_true"
   ]
  },
  {
   "cell_type": "markdown",
   "metadata": {},
   "source": [
    "https://github.com/benhamner/Metrics/blob/master/Python/ml_metrics/average_precision.py\n",
    "\n",
    "https://github.com/benhamner/Metrics/tree/master/Python\n",
    "\n",
    "!pip install ml_metrics"
   ]
  },
  {
   "cell_type": "code",
   "execution_count": null,
   "metadata": {},
   "outputs": [],
   "source": [
    "import ml_metrics"
   ]
  },
  {
   "cell_type": "code",
   "execution_count": null,
   "metadata": {},
   "outputs": [],
   "source": [
    "actual = y_true"
   ]
  },
  {
   "cell_type": "markdown",
   "metadata": {},
   "source": [
    "## old"
   ]
  },
  {
   "cell_type": "code",
   "execution_count": 178,
   "metadata": {
    "scrolled": false
   },
   "outputs": [
    {
     "data": {
      "text/plain": [
       "tensor([[0, 1, 3, 2],\n",
       "        [0, 1, 3, 2],\n",
       "        [0, 2, 3, 1],\n",
       "        [0, 1, 3, 2],\n",
       "        [2, 3, 0, 1],\n",
       "        [0, 3, 1, 2],\n",
       "        [0, 2, 1, 3],\n",
       "        [2, 1, 0, 3]])"
      ]
     },
     "execution_count": 178,
     "metadata": {},
     "output_type": "execute_result"
    }
   ],
   "source": [
    "y_rank = y_pred.argsort(descending=True)\n",
    "y_rank"
   ]
  },
  {
   "cell_type": "code",
   "execution_count": 179,
   "metadata": {},
   "outputs": [
    {
     "ename": "AssertionError",
     "evalue": "k (10) needs to be less than or equal to the number of classes (4)",
     "output_type": "error",
     "traceback": [
      "\u001b[0;31m---------------------------------------------------------------------------\u001b[0m",
      "\u001b[0;31mAssertionError\u001b[0m                            Traceback (most recent call last)",
      "\u001b[0;32m<ipython-input-179-0c978bfdf2d4>\u001b[0m in \u001b[0;36m<module>\u001b[0;34m\u001b[0m\n\u001b[1;32m      1\u001b[0m \u001b[0mk\u001b[0m \u001b[0;34m=\u001b[0m \u001b[0;36m10\u001b[0m\u001b[0;34m\u001b[0m\u001b[0m\n\u001b[1;32m      2\u001b[0m \u001b[0mnc\u001b[0m \u001b[0;34m=\u001b[0m \u001b[0my_true\u001b[0m\u001b[0;34m.\u001b[0m\u001b[0mshape\u001b[0m\u001b[0;34m[\u001b[0m\u001b[0;36m1\u001b[0m\u001b[0;34m]\u001b[0m\u001b[0;34m\u001b[0m\u001b[0m\n\u001b[0;32m----> 3\u001b[0;31m \u001b[0;32massert\u001b[0m \u001b[0;36m0\u001b[0m\u001b[0;34m<=\u001b[0m\u001b[0mk\u001b[0m\u001b[0;34m<=\u001b[0m\u001b[0mnc\u001b[0m \u001b[0;34m,\u001b[0m \u001b[0;34mf\"k ({k}) needs to be less than or equal to the number of classes ({nc})\"\u001b[0m\u001b[0;34m\u001b[0m\u001b[0m\n\u001b[0m",
      "\u001b[0;31mAssertionError\u001b[0m: k (10) needs to be less than or equal to the number of classes (4)"
     ]
    }
   ],
   "source": [
    "k = 10\n",
    "nc = y_true.shape[1]\n",
    "assert 0<=k<=nc , f\"k ({k}) needs to be less than or equal to the number of classes ({nc})\""
   ]
  },
  {
   "cell_type": "code",
   "execution_count": 188,
   "metadata": {},
   "outputs": [],
   "source": [
    "k = 3\n",
    "nc = y_true.shape[1]\n",
    "assert 0<=k<=nc , f\"k ({k}) needs to be less than or equal to the number of classes ({nc})\""
   ]
  },
  {
   "cell_type": "code",
   "execution_count": 181,
   "metadata": {},
   "outputs": [
    {
     "data": {
      "text/plain": [
       "tensor([[1, 0, 1, 0],\n",
       "        [0, 0, 0, 1],\n",
       "        [1, 0, 1, 0],\n",
       "        [0, 0, 0, 1],\n",
       "        [1, 0, 0, 0],\n",
       "        [1, 1, 1, 0],\n",
       "        [0, 1, 0, 0],\n",
       "        [1, 0, 0, 0]])"
      ]
     },
     "execution_count": 181,
     "metadata": {},
     "output_type": "execute_result"
    }
   ],
   "source": [
    "y_true"
   ]
  },
  {
   "cell_type": "code",
   "execution_count": 182,
   "metadata": {},
   "outputs": [
    {
     "data": {
      "text/plain": [
       "tensor([2., 1., 2., 1., 1., 3., 1., 1.])"
      ]
     },
     "execution_count": 182,
     "metadata": {},
     "output_type": "execute_result"
    }
   ],
   "source": [
    "y_true_totals = y_true.sum(dim=-1).float()\n",
    "y_true_totals"
   ]
  },
  {
   "cell_type": "code",
   "execution_count": 183,
   "metadata": {},
   "outputs": [
    {
     "data": {
      "text/plain": [
       "tensor([[0, 1, 3, 2],\n",
       "        [0, 1, 3, 2],\n",
       "        [0, 2, 3, 1],\n",
       "        [0, 1, 3, 2],\n",
       "        [2, 3, 0, 1],\n",
       "        [0, 3, 1, 2],\n",
       "        [0, 2, 1, 3],\n",
       "        [2, 1, 0, 3]])"
      ]
     },
     "execution_count": 183,
     "metadata": {},
     "output_type": "execute_result"
    }
   ],
   "source": [
    "y_rank"
   ]
  },
  {
   "cell_type": "code",
   "execution_count": 184,
   "metadata": {
    "scrolled": true
   },
   "outputs": [
    {
     "data": {
      "text/plain": [
       "tensor([[1, 0, 0, 1],\n",
       "        [0, 0, 1, 0],\n",
       "        [1, 1, 0, 0],\n",
       "        [0, 0, 1, 0],\n",
       "        [0, 0, 1, 0],\n",
       "        [1, 0, 1, 1],\n",
       "        [0, 0, 1, 0],\n",
       "        [0, 0, 1, 0]])"
      ]
     },
     "execution_count": 184,
     "metadata": {},
     "output_type": "execute_result"
    }
   ],
   "source": [
    "y_reorder = torch.stack([y_true_i[y_rank[i]] for i,y_true_i in enumerate(y_true)])\n",
    "y_reorder"
   ]
  },
  {
   "cell_type": "code",
   "execution_count": 185,
   "metadata": {},
   "outputs": [],
   "source": [
    "y_reorder_topk = y_reorder[:, :k]"
   ]
  },
  {
   "cell_type": "code",
   "execution_count": 186,
   "metadata": {},
   "outputs": [
    {
     "data": {
      "text/plain": [
       "tensor([0.5000, 1.0000, 1.0000, 1.0000, 1.0000, 0.6667, 1.0000, 1.0000])"
      ]
     },
     "execution_count": 186,
     "metadata": {},
     "output_type": "execute_result"
    }
   ],
   "source": [
    "recall_at_k = y_reorder_topk.sum(dim=-1).float() / y_true_totals\n",
    "recall_at_k"
   ]
  },
  {
   "cell_type": "code",
   "execution_count": 202,
   "metadata": {},
   "outputs": [
    {
     "data": {
      "text/plain": [
       "tensor(0.8958)"
      ]
     },
     "execution_count": 202,
     "metadata": {},
     "output_type": "execute_result"
    }
   ],
   "source": [
    "recall_at_k.mean()"
   ]
  },
  {
   "cell_type": "code",
   "execution_count": 198,
   "metadata": {},
   "outputs": [
    {
     "data": {
      "text/plain": [
       "tensor([0.3333, 0.3333, 0.6667, 0.3333, 0.3333, 0.6667, 0.3333, 0.3333])"
      ]
     },
     "execution_count": 198,
     "metadata": {},
     "output_type": "execute_result"
    }
   ],
   "source": [
    "precision_at_k = y_reorder_topk.sum(dim=-1).float() / k\n",
    "precision_at_k, precision_at_k.mean()"
   ]
  },
  {
   "cell_type": "code",
   "execution_count": 200,
   "metadata": {},
   "outputs": [],
   "source": [
    "def precision_at_k(y_pred:Tensor, y_true:Tensor, k:int, sigmoid:bool=True):\n",
    "    \"Compute precision at `k` when `y_pred` and `y_true` are the same size.\"\n",
    "    nc = y_true.shape[1]\n",
    "    assert 0<=k<=nc , f\"k ({k}) needs to be less than or equal to the number of classes ({nc})\"    \n",
    "    if sigmoid: y_pred = y_pred.sigmoid()\n",
    "    y_rank = y_pred.argsort(descending=True)\n",
    "    y_reorder_topk = torch.stack([y_true_i[y_rank[i]][:k] for i,y_true_i in enumerate(y_true)])\n",
    "    return (y_reorder_topk.sum(dim=-1).float() / k).mean()"
   ]
  },
  {
   "cell_type": "raw",
   "metadata": {},
   "source": [
    "def precision_at_k(y_pred:Tensor, y_true:Tensor, k:int, sigmoid:bool=True) -> Rank0Tensor:\n",
    "    \"Compute precision at `k` when `y_pred` and `y_true` are the same size.\"\n",
    "    nc = y_true.shape[1]\n",
    "    assert 0<=k<=nc , f\"k ({k}) needs to be less than or equal to the number of classes ({nc})\"    \n",
    "    if sigmoid: y_pred = y_pred.sigmoid()\n",
    "    y_rank = y_pred.argsort(descending=True)\n",
    "    y_reorder_topk = torch.stack([y_true_i[y_rank[i]][:k] for i,y_true_i in enumerate(y_true)])\n",
    "    return (y_reorder_topk.sum(dim=-1).float() / k).mean()"
   ]
  },
  {
   "cell_type": "code",
   "execution_count": 201,
   "metadata": {},
   "outputs": [
    {
     "data": {
      "text/plain": [
       "tensor(0.4167)"
      ]
     },
     "execution_count": 201,
     "metadata": {},
     "output_type": "execute_result"
    }
   ],
   "source": [
    "precision_at_k(y_pred, y_true, k)"
   ]
  },
  {
   "cell_type": "code",
   "execution_count": 205,
   "metadata": {},
   "outputs": [],
   "source": [
    "def recall_at_k(y_pred:Tensor, y_true:Tensor, k:int, sigmoid:bool=True):\n",
    "    \"Compute recall at `k` when `y_pred` and `y_true` are the same size.\"\n",
    "    nc = y_true.shape[1]\n",
    "    assert 0<=k<=nc , f\"k ({k}) needs to be less than or equal to the number of classes ({nc})\"    \n",
    "    if sigmoid: y_pred = y_pred.sigmoid()\n",
    "    y_rank = y_pred.argsort(descending=True)\n",
    "    y_true_totals = y_true.sum(dim=-1).float()\n",
    "    y_reorder_topk = torch.stack([y_true_i[y_rank[i]][:k] for i,y_true_i in enumerate(y_true)])\n",
    "    return (y_reorder_topk.sum(dim=-1).float() / y_true_totals).mean()"
   ]
  },
  {
   "cell_type": "raw",
   "metadata": {},
   "source": [
    "def recall_at_k(y_pred:Tensor, y_true:Tensor, k:int, sigmoid:bool=True) -> Rank0Tensor:\n",
    "    \"Compute recall at `k` when `y_pred` and `y_true` are the same size.\"\n",
    "    nc = y_true.shape[1]\n",
    "    assert 0<=k<=nc , f\"k ({k}) needs to be less than or equal to the number of classes ({nc})\"    \n",
    "    if sigmoid: y_pred = y_pred.sigmoid()\n",
    "    y_rank = y_pred.argsort(descending=True)\n",
    "    y_true_totals = y_true.sum(dim=-1).float()\n",
    "    y_reorder_topk = torch.stack([y_true_i[y_rank[i]][:k] for i,y_true_i in enumerate(y_true)])\n",
    "    return (y_reorder_topk.sum(dim=-1).float() / y_true_totals).mean()"
   ]
  },
  {
   "cell_type": "code",
   "execution_count": 213,
   "metadata": {},
   "outputs": [
    {
     "data": {
      "text/plain": [
       "tensor(0.8958)"
      ]
     },
     "execution_count": 213,
     "metadata": {},
     "output_type": "execute_result"
    }
   ],
   "source": [
    "recall_at_k(y_pred, y_true, k)"
   ]
  },
  {
   "cell_type": "code",
   "execution_count": 208,
   "metadata": {},
   "outputs": [],
   "source": [
    "from functools import partial"
   ]
  },
  {
   "cell_type": "code",
   "execution_count": 216,
   "metadata": {},
   "outputs": [
    {
     "data": {
      "text/plain": [
       "tensor(0.8958)"
      ]
     },
     "execution_count": 216,
     "metadata": {},
     "output_type": "execute_result"
    }
   ],
   "source": [
    "recall_at_3 = partial(recall_at_k, k=3)\n",
    "recall_at_3(y_pred, y_true)"
   ]
  },
  {
   "cell_type": "code",
   "execution_count": 217,
   "metadata": {},
   "outputs": [
    {
     "data": {
      "text/plain": [
       "tensor(0.8958)"
      ]
     },
     "execution_count": 217,
     "metadata": {},
     "output_type": "execute_result"
    }
   ],
   "source": [
    "def recall_at_3(y_pred, y_true):\n",
    "    return recall_at_k(y_pred, y_true, k=3)\n",
    "recall_at_3(y_pred, y_true)"
   ]
  },
  {
   "cell_type": "code",
   "execution_count": null,
   "metadata": {},
   "outputs": [],
   "source": []
  }
 ],
 "metadata": {
  "kernelspec": {
   "display_name": "Python [conda env:fastaidev]",
   "language": "python",
   "name": "conda-env-fastaidev-py"
  },
  "language_info": {
   "codemirror_mode": {
    "name": "ipython",
    "version": 3
   },
   "file_extension": ".py",
   "mimetype": "text/x-python",
   "name": "python",
   "nbconvert_exporter": "python",
   "pygments_lexer": "ipython3",
   "version": "3.7.0"
  },
  "toc": {
   "base_numbering": 1,
   "nav_menu": {},
   "number_sections": true,
   "sideBar": true,
   "skip_h1_title": false,
   "title_cell": "Table of Contents",
   "title_sidebar": "Contents",
   "toc_cell": false,
   "toc_position": {},
   "toc_section_display": true,
   "toc_window_display": false
  }
 },
 "nbformat": 4,
 "nbformat_minor": 2
}
