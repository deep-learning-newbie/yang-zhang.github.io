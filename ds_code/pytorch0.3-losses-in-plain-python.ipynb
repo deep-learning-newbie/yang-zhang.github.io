{
 "cells": [
  {
   "cell_type": "code",
   "execution_count": 6,
   "metadata": {},
   "outputs": [
    {
     "name": "stdout",
     "output_type": "stream",
     "text": [
      "/Users/yang.zhang/anaconda3/envs/fastai-cpu\r\n"
     ]
    }
   ],
   "source": [
    "!echo $CONDA_PREFIX"
   ]
  },
  {
   "cell_type": "code",
   "execution_count": 982,
   "metadata": {},
   "outputs": [
    {
     "data": {
      "text/plain": [
       "'0.3.1.post2'"
      ]
     },
     "execution_count": 982,
     "metadata": {},
     "output_type": "execute_result"
    }
   ],
   "source": [
    "import numpy as np\n",
    "\n",
    "from torch.autograd import Variable\n",
    "import torch\n",
    "import torch.nn.functional as F\n",
    "import torch.nn as nn\n",
    "torch.__version__"
   ]
  },
  {
   "cell_type": "markdown",
   "metadata": {},
   "source": [
    "## L1Loss"
   ]
  },
  {
   "cell_type": "code",
   "execution_count": 350,
   "metadata": {},
   "outputs": [],
   "source": [
    "x = Variable(torch.randn(2, 3), requires_grad=True)\n",
    "y = Variable(torch.randn(2, 3))"
   ]
  },
  {
   "cell_type": "code",
   "execution_count": 351,
   "metadata": {},
   "outputs": [
    {
     "data": {
      "text/plain": [
       "(True, False)"
      ]
     },
     "execution_count": 351,
     "metadata": {},
     "output_type": "execute_result"
    }
   ],
   "source": [
    "x.requires_grad, y.requires_grad"
   ]
  },
  {
   "cell_type": "code",
   "execution_count": 352,
   "metadata": {},
   "outputs": [
    {
     "data": {
      "text/plain": [
       "Variable containing:\n",
       " 0.7542  1.4145  2.9330\n",
       " 0.4976  0.5601  1.6179\n",
       "[torch.FloatTensor of size 2x3]"
      ]
     },
     "execution_count": 352,
     "metadata": {},
     "output_type": "execute_result"
    }
   ],
   "source": [
    "x"
   ]
  },
  {
   "cell_type": "code",
   "execution_count": 353,
   "metadata": {},
   "outputs": [
    {
     "data": {
      "text/plain": [
       "Variable containing:\n",
       "-1.1977 -1.0040 -0.6565\n",
       " 0.2359  0.8494  2.1820\n",
       "[torch.FloatTensor of size 2x3]"
      ]
     },
     "execution_count": 353,
     "metadata": {},
     "output_type": "execute_result"
    }
   ],
   "source": [
    "y"
   ]
  },
  {
   "cell_type": "code",
   "execution_count": 354,
   "metadata": {},
   "outputs": [
    {
     "data": {
      "text/plain": [
       "Variable containing:\n",
       " 1.5125\n",
       "[torch.FloatTensor of size 1]"
      ]
     },
     "execution_count": 354,
     "metadata": {},
     "output_type": "execute_result"
    }
   ],
   "source": [
    "loss = nn.L1Loss()\n",
    "\n",
    "lss = loss(x, y)\n",
    "lss"
   ]
  },
  {
   "cell_type": "code",
   "execution_count": 355,
   "metadata": {
    "scrolled": false
   },
   "outputs": [
    {
     "data": {
      "text/plain": [
       "Variable containing:\n",
       " 1.5125\n",
       "[torch.FloatTensor of size 1]"
      ]
     },
     "execution_count": 355,
     "metadata": {},
     "output_type": "execute_result"
    }
   ],
   "source": [
    "F.l1_loss(x, y)"
   ]
  },
  {
   "cell_type": "code",
   "execution_count": 356,
   "metadata": {},
   "outputs": [
    {
     "data": {
      "text/plain": [
       "Variable containing:\n",
       " 0.1667  0.1667  0.1667\n",
       " 0.1667 -0.1667 -0.1667\n",
       "[torch.FloatTensor of size 2x3]"
      ]
     },
     "execution_count": 356,
     "metadata": {},
     "output_type": "execute_result"
    }
   ],
   "source": [
    "lss.backward()\n",
    "\n",
    "x.grad"
   ]
  },
  {
   "cell_type": "code",
   "execution_count": 357,
   "metadata": {},
   "outputs": [
    {
     "data": {
      "text/plain": [
       "True"
      ]
     },
     "execution_count": 357,
     "metadata": {},
     "output_type": "execute_result"
    }
   ],
   "source": [
    "y.grad is None"
   ]
  },
  {
   "cell_type": "code",
   "execution_count": 358,
   "metadata": {},
   "outputs": [
    {
     "data": {
      "text/plain": [
       "Variable containing:\n",
       " 9.0751\n",
       "[torch.FloatTensor of size 1]"
      ]
     },
     "execution_count": 358,
     "metadata": {},
     "output_type": "execute_result"
    }
   ],
   "source": [
    "loss = nn.L1Loss(size_average=False)\n",
    "\n",
    "lss = loss(x, y)\n",
    "lss"
   ]
  },
  {
   "cell_type": "code",
   "execution_count": 359,
   "metadata": {},
   "outputs": [
    {
     "data": {
      "text/plain": [
       "Variable containing:\n",
       " 1.9519  2.4185  3.5895\n",
       " 0.2617  0.2894  0.5641\n",
       "[torch.FloatTensor of size 2x3]"
      ]
     },
     "execution_count": 359,
     "metadata": {},
     "output_type": "execute_result"
    }
   ],
   "source": [
    "# if reduce is False, size_average is ignored\n",
    "loss = nn.L1Loss(size_average=False, reduce=False)\n",
    "\n",
    "lss = loss(x, y)\n",
    "lss"
   ]
  },
  {
   "cell_type": "code",
   "execution_count": 360,
   "metadata": {
    "scrolled": true
   },
   "outputs": [
    {
     "data": {
      "text/plain": [
       "Variable containing:\n",
       " 1.9519  2.4185  3.5895\n",
       " 0.2617  0.2894  0.5641\n",
       "[torch.FloatTensor of size 2x3]"
      ]
     },
     "execution_count": 360,
     "metadata": {},
     "output_type": "execute_result"
    }
   ],
   "source": [
    "loss = nn.L1Loss(reduce=False)\n",
    "\n",
    "lss = loss(x, y)\n",
    "lss"
   ]
  },
  {
   "cell_type": "code",
   "execution_count": 361,
   "metadata": {},
   "outputs": [
    {
     "data": {
      "text/plain": [
       "Variable containing:\n",
       " 9.0751\n",
       "[torch.FloatTensor of size 1]"
      ]
     },
     "execution_count": 361,
     "metadata": {},
     "output_type": "execute_result"
    }
   ],
   "source": [
    "lss.sum()"
   ]
  },
  {
   "cell_type": "code",
   "execution_count": 362,
   "metadata": {
    "scrolled": true
   },
   "outputs": [
    {
     "data": {
      "text/plain": [
       "Variable containing:\n",
       " 1.5125\n",
       "[torch.FloatTensor of size 1]"
      ]
     },
     "execution_count": 362,
     "metadata": {},
     "output_type": "execute_result"
    }
   ],
   "source": [
    "lss.mean()"
   ]
  },
  {
   "cell_type": "code",
   "execution_count": 363,
   "metadata": {},
   "outputs": [
    {
     "data": {
      "text/plain": [
       "Variable containing:\n",
       " 2.6533\n",
       " 0.3717\n",
       "[torch.FloatTensor of size 2]"
      ]
     },
     "execution_count": 363,
     "metadata": {},
     "output_type": "execute_result"
    }
   ],
   "source": [
    "lss.mean(dim=1)"
   ]
  },
  {
   "cell_type": "code",
   "execution_count": 364,
   "metadata": {},
   "outputs": [
    {
     "data": {
      "text/plain": [
       "Variable containing:\n",
       " 1.1667  1.1667  1.1667\n",
       " 1.1667 -1.1667 -1.1667\n",
       "[torch.FloatTensor of size 2x3]"
      ]
     },
     "execution_count": 364,
     "metadata": {},
     "output_type": "execute_result"
    }
   ],
   "source": [
    "lss.backward(torch.ones(2, 3))\n",
    "\n",
    "x.grad"
   ]
  },
  {
   "cell_type": "code",
   "execution_count": 365,
   "metadata": {},
   "outputs": [
    {
     "data": {
      "text/plain": [
       "Variable containing:\n",
       " 1.9519  2.4185  3.5895\n",
       " 0.2617  0.2894  0.5641\n",
       "[torch.FloatTensor of size 2x3]"
      ]
     },
     "execution_count": 365,
     "metadata": {},
     "output_type": "execute_result"
    }
   ],
   "source": [
    "F.l1_loss(x, y, size_average=False, reduce=False)"
   ]
  },
  {
   "cell_type": "code",
   "execution_count": 366,
   "metadata": {},
   "outputs": [
    {
     "data": {
      "text/plain": [
       "Variable containing:\n",
       " 1.9519  2.4185  3.5895\n",
       " 0.2617  0.2894  0.5641\n",
       "[torch.FloatTensor of size 2x3]"
      ]
     },
     "execution_count": 366,
     "metadata": {},
     "output_type": "execute_result"
    }
   ],
   "source": [
    "F.l1_loss(x, y,  reduce=False)"
   ]
  },
  {
   "cell_type": "code",
   "execution_count": 367,
   "metadata": {},
   "outputs": [
    {
     "data": {
      "text/plain": [
       "array([[1.9518584 , 2.4185286 , 3.5895407 ],\n",
       "       [0.26172477, 0.28938198, 0.56411517]], dtype=float32)"
      ]
     },
     "execution_count": 367,
     "metadata": {},
     "output_type": "execute_result"
    }
   ],
   "source": [
    "abs(x.data.numpy() - y.data.numpy())"
   ]
  },
  {
   "cell_type": "markdown",
   "metadata": {},
   "source": [
    "### custom"
   ]
  },
  {
   "cell_type": "code",
   "execution_count": 368,
   "metadata": {},
   "outputs": [],
   "source": [
    "class MyL1Loss(nn.Module):\n",
    "    def __init__(self):\n",
    "        super().__init__()\n",
    "    \n",
    "    def forward(self, x, y):\n",
    "        return (x - y).abs().mean()"
   ]
  },
  {
   "cell_type": "code",
   "execution_count": 369,
   "metadata": {},
   "outputs": [],
   "source": [
    "x = Variable(torch.randn(2, 3), requires_grad=True)\n",
    "y = Variable(torch.randn(2, 3))"
   ]
  },
  {
   "cell_type": "code",
   "execution_count": 370,
   "metadata": {},
   "outputs": [
    {
     "data": {
      "text/plain": [
       "Variable containing:\n",
       " 1.2744\n",
       "[torch.FloatTensor of size 1]"
      ]
     },
     "execution_count": 370,
     "metadata": {},
     "output_type": "execute_result"
    }
   ],
   "source": [
    "mylss = MyL1Loss()(x, y)\n",
    "mylss.backward()\n",
    "mylss"
   ]
  },
  {
   "cell_type": "code",
   "execution_count": 371,
   "metadata": {},
   "outputs": [
    {
     "data": {
      "text/plain": [
       "Variable containing:\n",
       " 1.2744\n",
       "[torch.FloatTensor of size 1]"
      ]
     },
     "execution_count": 371,
     "metadata": {},
     "output_type": "execute_result"
    }
   ],
   "source": [
    "lss = nn.L1Loss()(x, y)\n",
    "lss"
   ]
  },
  {
   "cell_type": "markdown",
   "metadata": {},
   "source": [
    "## SmoothL1Loss"
   ]
  },
  {
   "cell_type": "code",
   "execution_count": 915,
   "metadata": {},
   "outputs": [],
   "source": [
    "x = Variable(torch.randn(2, 3), requires_grad=True)\n",
    "y = Variable(torch.randn(2, 3))"
   ]
  },
  {
   "cell_type": "code",
   "execution_count": 916,
   "metadata": {},
   "outputs": [
    {
     "data": {
      "text/plain": [
       "Variable containing:\n",
       " 0.8527\n",
       "[torch.FloatTensor of size 1]"
      ]
     },
     "execution_count": 916,
     "metadata": {},
     "output_type": "execute_result"
    }
   ],
   "source": [
    "nn.SmoothL1Loss()(x, y)"
   ]
  },
  {
   "cell_type": "code",
   "execution_count": 917,
   "metadata": {},
   "outputs": [
    {
     "data": {
      "text/plain": [
       "Variable containing:\n",
       " 0.4337  0.2273  0.8062\n",
       " 1.5683  2.0171  0.0636\n",
       "[torch.FloatTensor of size 2x3]"
      ]
     },
     "execution_count": 917,
     "metadata": {},
     "output_type": "execute_result"
    }
   ],
   "source": [
    "nn.SmoothL1Loss(reduce=False)(x, y)"
   ]
  },
  {
   "cell_type": "code",
   "execution_count": 918,
   "metadata": {},
   "outputs": [],
   "source": [
    "x = x.data.numpy() \n",
    "y = y.data.numpy()"
   ]
  },
  {
   "cell_type": "code",
   "execution_count": 919,
   "metadata": {},
   "outputs": [],
   "source": [
    "def smoothl1loss(x, y):\n",
    "    if abs(x-y)<1: return 1/2*(x-y)**2\n",
    "    else: return abs(x-y)-1/2"
   ]
  },
  {
   "cell_type": "code",
   "execution_count": 920,
   "metadata": {},
   "outputs": [
    {
     "data": {
      "text/plain": [
       "([[0.433673763595948, 0.22726064287826375, 0.8062185049057007],\n",
       "  [1.5682995319366455, 2.0171167850494385, 0.06357977724910491]],\n",
       " 0.8526915009358502)"
      ]
     },
     "execution_count": 920,
     "metadata": {},
     "output_type": "execute_result"
    }
   ],
   "source": [
    "lst = []\n",
    "for i in range(len(x)):\n",
    "    lsti=[]\n",
    "    for j in range(len(x[i])):\n",
    "        lsti.append(smoothl1loss(x[i][j], y[i][j]))\n",
    "    lst.append(lsti)\n",
    "lst, np.mean(lst)"
   ]
  },
  {
   "cell_type": "markdown",
   "metadata": {},
   "source": [
    "## MSELoss"
   ]
  },
  {
   "cell_type": "code",
   "execution_count": 372,
   "metadata": {},
   "outputs": [],
   "source": [
    "x = Variable(torch.randn(2, 3), requires_grad=True)\n",
    "y = Variable(torch.randn(2, 3))"
   ]
  },
  {
   "cell_type": "code",
   "execution_count": 373,
   "metadata": {},
   "outputs": [
    {
     "data": {
      "text/plain": [
       "(True, False)"
      ]
     },
     "execution_count": 373,
     "metadata": {},
     "output_type": "execute_result"
    }
   ],
   "source": [
    "x.requires_grad, y.requires_grad"
   ]
  },
  {
   "cell_type": "code",
   "execution_count": 374,
   "metadata": {},
   "outputs": [
    {
     "data": {
      "text/plain": [
       "Variable containing:\n",
       "-1.0188  0.2023  0.2464\n",
       " 0.6104 -0.5254  1.8013\n",
       "[torch.FloatTensor of size 2x3]"
      ]
     },
     "execution_count": 374,
     "metadata": {},
     "output_type": "execute_result"
    }
   ],
   "source": [
    "x"
   ]
  },
  {
   "cell_type": "code",
   "execution_count": 375,
   "metadata": {},
   "outputs": [
    {
     "data": {
      "text/plain": [
       "Variable containing:\n",
       " 0.7453  1.4843  0.5891\n",
       "-0.5032  0.6882 -0.5134\n",
       "[torch.FloatTensor of size 2x3]"
      ]
     },
     "execution_count": 375,
     "metadata": {},
     "output_type": "execute_result"
    }
   ],
   "source": [
    "y"
   ]
  },
  {
   "cell_type": "code",
   "execution_count": 376,
   "metadata": {
    "scrolled": true
   },
   "outputs": [
    {
     "data": {
      "text/plain": [
       "Variable containing:\n",
       " 2.1573\n",
       "[torch.FloatTensor of size 1]"
      ]
     },
     "execution_count": 376,
     "metadata": {},
     "output_type": "execute_result"
    }
   ],
   "source": [
    "loss = nn.MSELoss()\n",
    "\n",
    "lss = loss(x, y)\n",
    "lss"
   ]
  },
  {
   "cell_type": "code",
   "execution_count": 377,
   "metadata": {},
   "outputs": [
    {
     "data": {
      "text/plain": [
       "Variable containing:\n",
       " 2.1573\n",
       "[torch.FloatTensor of size 1]"
      ]
     },
     "execution_count": 377,
     "metadata": {},
     "output_type": "execute_result"
    }
   ],
   "source": [
    "F.mse_loss(x, y)"
   ]
  },
  {
   "cell_type": "code",
   "execution_count": 378,
   "metadata": {},
   "outputs": [
    {
     "data": {
      "text/plain": [
       "Variable containing:\n",
       "-0.5880 -0.4274 -0.1142\n",
       " 0.3712 -0.4045  0.7716\n",
       "[torch.FloatTensor of size 2x3]"
      ]
     },
     "execution_count": 378,
     "metadata": {},
     "output_type": "execute_result"
    }
   ],
   "source": [
    "lss.backward()\n",
    "\n",
    "x.grad"
   ]
  },
  {
   "cell_type": "code",
   "execution_count": 379,
   "metadata": {},
   "outputs": [
    {
     "data": {
      "text/plain": [
       "True"
      ]
     },
     "execution_count": 379,
     "metadata": {},
     "output_type": "execute_result"
    }
   ],
   "source": [
    "y.grad is None"
   ]
  },
  {
   "cell_type": "code",
   "execution_count": 380,
   "metadata": {},
   "outputs": [
    {
     "data": {
      "text/plain": [
       "Variable containing:\n",
       " 12.9437\n",
       "[torch.FloatTensor of size 1]"
      ]
     },
     "execution_count": 380,
     "metadata": {},
     "output_type": "execute_result"
    }
   ],
   "source": [
    "loss = nn.MSELoss(size_average=False)\n",
    "\n",
    "lss = loss(x, y)\n",
    "lss"
   ]
  },
  {
   "cell_type": "code",
   "execution_count": 381,
   "metadata": {},
   "outputs": [
    {
     "data": {
      "text/plain": [
       "Variable containing:\n",
       " 3.1117  1.6437  0.1175\n",
       " 1.2401  1.4729  5.3579\n",
       "[torch.FloatTensor of size 2x3]"
      ]
     },
     "execution_count": 381,
     "metadata": {},
     "output_type": "execute_result"
    }
   ],
   "source": [
    "# if reduce is False, size_average is ignored\n",
    "loss = nn.MSELoss(size_average=True, reduce=False)\n",
    "\n",
    "lss = loss(x, y)\n",
    "lss"
   ]
  },
  {
   "cell_type": "code",
   "execution_count": 382,
   "metadata": {
    "scrolled": true
   },
   "outputs": [
    {
     "data": {
      "text/plain": [
       "Variable containing:\n",
       " 3.1117  1.6437  0.1175\n",
       " 1.2401  1.4729  5.3579\n",
       "[torch.FloatTensor of size 2x3]"
      ]
     },
     "execution_count": 382,
     "metadata": {},
     "output_type": "execute_result"
    }
   ],
   "source": [
    "loss = nn.MSELoss(reduce=False)\n",
    "\n",
    "lss = loss(x, y)\n",
    "lss"
   ]
  },
  {
   "cell_type": "code",
   "execution_count": 383,
   "metadata": {},
   "outputs": [
    {
     "data": {
      "text/plain": [
       "Variable containing:\n",
       " 12.9437\n",
       "[torch.FloatTensor of size 1]"
      ]
     },
     "execution_count": 383,
     "metadata": {},
     "output_type": "execute_result"
    }
   ],
   "source": [
    "lss.sum()"
   ]
  },
  {
   "cell_type": "code",
   "execution_count": 384,
   "metadata": {
    "scrolled": true
   },
   "outputs": [
    {
     "data": {
      "text/plain": [
       "Variable containing:\n",
       " 2.1573\n",
       "[torch.FloatTensor of size 1]"
      ]
     },
     "execution_count": 384,
     "metadata": {},
     "output_type": "execute_result"
    }
   ],
   "source": [
    "lss.mean()"
   ]
  },
  {
   "cell_type": "code",
   "execution_count": 385,
   "metadata": {},
   "outputs": [
    {
     "data": {
      "text/plain": [
       "Variable containing:\n",
       " 1.6243\n",
       " 2.6903\n",
       "[torch.FloatTensor of size 2]"
      ]
     },
     "execution_count": 385,
     "metadata": {},
     "output_type": "execute_result"
    }
   ],
   "source": [
    "lss.mean(dim=1)"
   ]
  },
  {
   "cell_type": "code",
   "execution_count": 386,
   "metadata": {},
   "outputs": [
    {
     "data": {
      "text/plain": [
       "Variable containing:\n",
       "-4.1160 -2.9915 -0.7997\n",
       " 2.5984 -2.8318  5.4010\n",
       "[torch.FloatTensor of size 2x3]"
      ]
     },
     "execution_count": 386,
     "metadata": {},
     "output_type": "execute_result"
    }
   ],
   "source": [
    "lss.backward(torch.ones(2, 3))\n",
    "\n",
    "x.grad"
   ]
  },
  {
   "cell_type": "code",
   "execution_count": 389,
   "metadata": {},
   "outputs": [
    {
     "data": {
      "text/plain": [
       "Variable containing:\n",
       " 3.1117  1.6437  0.1175\n",
       " 1.2401  1.4729  5.3579\n",
       "[torch.FloatTensor of size 2x3]"
      ]
     },
     "execution_count": 389,
     "metadata": {},
     "output_type": "execute_result"
    }
   ],
   "source": [
    "F.mse_loss(x, y, reduce=False)"
   ]
  },
  {
   "cell_type": "code",
   "execution_count": 390,
   "metadata": {},
   "outputs": [
    {
     "data": {
      "text/plain": [
       "array([[3.1117244 , 1.6436725 , 0.11746262],\n",
       "       [1.2400689 , 1.4728769 , 5.3578777 ]], dtype=float32)"
      ]
     },
     "execution_count": 390,
     "metadata": {},
     "output_type": "execute_result"
    }
   ],
   "source": [
    "(x.data.numpy() - y.data.numpy())**2"
   ]
  },
  {
   "cell_type": "markdown",
   "metadata": {},
   "source": [
    "## CrossEntropyLoss"
   ]
  },
  {
   "cell_type": "code",
   "execution_count": 391,
   "metadata": {},
   "outputs": [
    {
     "data": {
      "text/plain": [
       "(Variable containing:\n",
       "  1.0245  0.8270  1.2741  1.6792\n",
       " -1.2916 -1.7446 -0.2974 -0.2256\n",
       " [torch.FloatTensor of size 2x4], Variable containing:\n",
       "  0\n",
       "  0\n",
       " [torch.LongTensor of size 2])"
      ]
     },
     "execution_count": 391,
     "metadata": {},
     "output_type": "execute_result"
    }
   ],
   "source": [
    "x = Variable(torch.randn(2, 4))\n",
    "y = Variable(torch.LongTensor(2).random_(4))\n",
    "x, y"
   ]
  },
  {
   "cell_type": "code",
   "execution_count": 392,
   "metadata": {},
   "outputs": [
    {
     "data": {
      "text/plain": [
       "Variable containing:\n",
       " 1.7975\n",
       "[torch.FloatTensor of size 1]"
      ]
     },
     "execution_count": 392,
     "metadata": {},
     "output_type": "execute_result"
    }
   ],
   "source": [
    "loss = nn.CrossEntropyLoss()\n",
    "lss = loss(x, y)\n",
    "lss"
   ]
  },
  {
   "cell_type": "code",
   "execution_count": 393,
   "metadata": {},
   "outputs": [
    {
     "data": {
      "text/plain": [
       "Variable containing:\n",
       " 1.7975\n",
       "[torch.FloatTensor of size 1]"
      ]
     },
     "execution_count": 393,
     "metadata": {},
     "output_type": "execute_result"
    }
   ],
   "source": [
    "F.cross_entropy(x, y)"
   ]
  },
  {
   "cell_type": "code",
   "execution_count": 394,
   "metadata": {},
   "outputs": [
    {
     "data": {
      "text/plain": [
       "Variable containing:\n",
       " 1.6152\n",
       " 1.9799\n",
       "[torch.FloatTensor of size 2]"
      ]
     },
     "execution_count": 394,
     "metadata": {},
     "output_type": "execute_result"
    }
   ],
   "source": [
    "F.cross_entropy(x, y, reduce=False)"
   ]
  },
  {
   "cell_type": "code",
   "execution_count": 395,
   "metadata": {},
   "outputs": [
    {
     "data": {
      "text/plain": [
       "Variable containing:\n",
       " 1.7975\n",
       "[torch.FloatTensor of size 1]"
      ]
     },
     "execution_count": 395,
     "metadata": {},
     "output_type": "execute_result"
    }
   ],
   "source": [
    "F.cross_entropy(x, y, reduce=False).mean()"
   ]
  },
  {
   "cell_type": "code",
   "execution_count": 396,
   "metadata": {},
   "outputs": [],
   "source": [
    "x = x.data.numpy()\n",
    "y = y.data.numpy()"
   ]
  },
  {
   "cell_type": "code",
   "execution_count": 397,
   "metadata": {},
   "outputs": [
    {
     "name": "stdout",
     "output_type": "stream",
     "text": [
      "0.19884911\n",
      "0.13808674\n"
     ]
    }
   ],
   "source": [
    "for i in range(len(x)):\n",
    "    print(np.exp(x[i][y[i]])/np.exp(x[i]).sum())"
   ]
  },
  {
   "cell_type": "code",
   "execution_count": 398,
   "metadata": {},
   "outputs": [
    {
     "name": "stdout",
     "output_type": "stream",
     "text": [
      "1.615209\n",
      "1.9798733\n"
     ]
    }
   ],
   "source": [
    "for i in range(len(x)):\n",
    "    print(-np.log(np.exp(x[i][y[i]])/np.exp(x[i]).sum()))"
   ]
  },
  {
   "cell_type": "markdown",
   "metadata": {},
   "source": [
    "## LogSoftmax"
   ]
  },
  {
   "cell_type": "code",
   "execution_count": 399,
   "metadata": {},
   "outputs": [
    {
     "data": {
      "text/plain": [
       "(Variable containing:\n",
       " -1.1917 -0.0173  0.3792 -2.1996\n",
       " -2.6137  0.8747  0.6576  0.2841\n",
       " [torch.FloatTensor of size 2x4], Variable containing:\n",
       " -2.2420 -1.0676 -0.6711 -3.2499\n",
       " -4.3594 -0.8711 -1.0881 -1.4617\n",
       " [torch.FloatTensor of size 2x4])"
      ]
     },
     "execution_count": 399,
     "metadata": {},
     "output_type": "execute_result"
    }
   ],
   "source": [
    "x = Variable(torch.randn(2, 4))\n",
    "y = nn.LogSoftmax(dim=1)(x)\n",
    "x, y"
   ]
  },
  {
   "cell_type": "code",
   "execution_count": 400,
   "metadata": {},
   "outputs": [
    {
     "name": "stdout",
     "output_type": "stream",
     "text": [
      "[-2.2419775 -1.0675703 -0.6711322 -3.2498698]\n",
      "[-4.359395   -0.87106586 -1.0880961  -1.4616584 ]\n"
     ]
    }
   ],
   "source": [
    "x = x.data.numpy()\n",
    "\n",
    "for i in range(len(x)):\n",
    "    print(np.log( np.exp(x[i]) / np.exp(x[i]).sum()) )"
   ]
  },
  {
   "cell_type": "markdown",
   "metadata": {},
   "source": [
    "## NLLLoss"
   ]
  },
  {
   "cell_type": "markdown",
   "metadata": {},
   "source": [
    "negative log likelihood"
   ]
  },
  {
   "cell_type": "code",
   "execution_count": 401,
   "metadata": {},
   "outputs": [
    {
     "data": {
      "text/plain": [
       "(Variable containing:\n",
       "  1.9038 -1.1510  0.3855 -1.1231\n",
       "  0.0218  0.8157 -1.5796 -1.0934\n",
       " [torch.FloatTensor of size 2x4], Variable containing:\n",
       " -0.2736 -3.3284 -1.7919 -3.3005\n",
       " -1.3195 -0.5256 -2.9209 -2.4347\n",
       " [torch.FloatTensor of size 2x4])"
      ]
     },
     "execution_count": 401,
     "metadata": {},
     "output_type": "execute_result"
    }
   ],
   "source": [
    "x0 = Variable(torch.randn(2, 4), requires_grad=True)\n",
    "x = nn.LogSoftmax(dim=1)(x0)\n",
    "x0, x"
   ]
  },
  {
   "cell_type": "code",
   "execution_count": 402,
   "metadata": {},
   "outputs": [
    {
     "data": {
      "text/plain": [
       "Variable containing:\n",
       " 3\n",
       " 3\n",
       "[torch.LongTensor of size 2]"
      ]
     },
     "execution_count": 402,
     "metadata": {},
     "output_type": "execute_result"
    }
   ],
   "source": [
    "y = Variable(torch.LongTensor(2).random_(4))\n",
    "y"
   ]
  },
  {
   "cell_type": "code",
   "execution_count": 403,
   "metadata": {},
   "outputs": [
    {
     "data": {
      "text/plain": [
       "Variable containing:\n",
       " 2.8676\n",
       "[torch.FloatTensor of size 1]"
      ]
     },
     "execution_count": 403,
     "metadata": {},
     "output_type": "execute_result"
    }
   ],
   "source": [
    "loss = nn.NLLLoss()\n",
    "lss = loss(x, y)\n",
    "lss"
   ]
  },
  {
   "cell_type": "code",
   "execution_count": 404,
   "metadata": {},
   "outputs": [
    {
     "data": {
      "text/plain": [
       "Variable containing:\n",
       " 3.3005\n",
       " 2.4347\n",
       "[torch.FloatTensor of size 2]"
      ]
     },
     "execution_count": 404,
     "metadata": {},
     "output_type": "execute_result"
    }
   ],
   "source": [
    "loss = nn.NLLLoss(reduce=False)\n",
    "lss = loss(x, y)\n",
    "lss"
   ]
  },
  {
   "cell_type": "code",
   "execution_count": 405,
   "metadata": {
    "scrolled": true
   },
   "outputs": [
    {
     "data": {
      "text/plain": [
       "Variable containing:\n",
       " 3.3005\n",
       " 2.4347\n",
       "[torch.FloatTensor of size 2]"
      ]
     },
     "execution_count": 405,
     "metadata": {},
     "output_type": "execute_result"
    }
   ],
   "source": [
    "F.nll_loss(x, y, reduce=False)"
   ]
  },
  {
   "cell_type": "code",
   "execution_count": 406,
   "metadata": {
    "scrolled": true
   },
   "outputs": [
    {
     "data": {
      "text/plain": [
       "(Variable containing:\n",
       "  2.8676\n",
       " [torch.FloatTensor of size 1], Variable containing:\n",
       "  2.8676\n",
       " [torch.FloatTensor of size 1])"
      ]
     },
     "execution_count": 406,
     "metadata": {},
     "output_type": "execute_result"
    }
   ],
   "source": [
    "F.nll_loss(x, y, reduce=True), F.nll_loss(x, y, reduce=False).mean()"
   ]
  },
  {
   "cell_type": "code",
   "execution_count": 407,
   "metadata": {},
   "outputs": [
    {
     "name": "stdout",
     "output_type": "stream",
     "text": [
      "3.3005364\n",
      "2.4346604\n"
     ]
    }
   ],
   "source": [
    "x = x.data.numpy()\n",
    "y = y.data.numpy()\n",
    "for i in range(len(x)):\n",
    "    print(-x[i][y[i]])"
   ]
  },
  {
   "cell_type": "markdown",
   "metadata": {},
   "source": [
    "## PoissonNLLLoss"
   ]
  },
  {
   "cell_type": "code",
   "execution_count": 408,
   "metadata": {},
   "outputs": [
    {
     "data": {
      "text/plain": [
       "(Variable containing:\n",
       "  2.0718  1.0890\n",
       "  0.4089  1.8608\n",
       "  0.3788 -1.2807\n",
       "  0.1001 -0.1797\n",
       "  0.6171 -0.8649\n",
       " [torch.FloatTensor of size 5x2], Variable containing:\n",
       "  2.7363 -0.6778\n",
       " -0.8334 -1.8356\n",
       " -1.1483 -0.2895\n",
       " -0.7879  0.5216\n",
       " -0.4458  0.5525\n",
       " [torch.FloatTensor of size 5x2])"
      ]
     },
     "execution_count": 408,
     "metadata": {},
     "output_type": "execute_result"
    }
   ],
   "source": [
    "log_input = Variable(torch.randn(5, 2), requires_grad=True)\n",
    "target = Variable(torch.randn(5, 2))\n",
    "log_input, target"
   ]
  },
  {
   "cell_type": "code",
   "execution_count": 409,
   "metadata": {
    "scrolled": true
   },
   "outputs": [
    {
     "data": {
      "text/plain": [
       "Variable containing:\n",
       " 2.4614\n",
       "[torch.FloatTensor of size 1]"
      ]
     },
     "execution_count": 409,
     "metadata": {},
     "output_type": "execute_result"
    }
   ],
   "source": [
    "loss = nn.PoissonNLLLoss()\n",
    "output = loss(log_input, target)\n",
    "output"
   ]
  },
  {
   "cell_type": "code",
   "execution_count": 410,
   "metadata": {
    "scrolled": true
   },
   "outputs": [
    {
     "data": {
      "text/plain": [
       "Variable containing:\n",
       " 24.6136\n",
       "[torch.FloatTensor of size 1]"
      ]
     },
     "execution_count": 410,
     "metadata": {},
     "output_type": "execute_result"
    }
   ],
   "source": [
    "loss = nn.PoissonNLLLoss(size_average=False)\n",
    "output = loss(log_input, target)\n",
    "output"
   ]
  },
  {
   "cell_type": "code",
   "execution_count": 411,
   "metadata": {},
   "outputs": [
    {
     "data": {
      "text/plain": [
       "(Variable containing:\n",
       "  2.2700  3.7094\n",
       "  1.8460  9.8445\n",
       "  1.8955 -0.0930\n",
       "  1.1842  0.9292\n",
       "  2.1287  0.8990\n",
       " [torch.FloatTensor of size 5x2], Variable containing:\n",
       "  24.6136\n",
       " [torch.FloatTensor of size 1], Variable containing:\n",
       "  2.4614\n",
       " [torch.FloatTensor of size 1])"
      ]
     },
     "execution_count": 411,
     "metadata": {},
     "output_type": "execute_result"
    }
   ],
   "source": [
    "loss = nn.PoissonNLLLoss(reduce=False)\n",
    "output = loss(log_input, target)\n",
    "output, output.sum(), output.mean()"
   ]
  },
  {
   "cell_type": "markdown",
   "metadata": {},
   "source": [
    "## NLLLoss2d"
   ]
  },
  {
   "cell_type": "code",
   "execution_count": 412,
   "metadata": {
    "collapsed": true
   },
   "outputs": [
    {
     "data": {
      "text/plain": [
       "(Variable containing:\n",
       " (0 ,0 ,.,.) = \n",
       "  -1.4805  0.1829  1.4143  ...   0.2693 -0.9812 -0.7538\n",
       "   0.6935  0.1245  0.2418  ...   0.4276  0.6250  0.8744\n",
       "   0.8419 -1.0050 -2.3323  ...  -0.1464 -1.0452  0.7208\n",
       "            ...             ⋱             ...          \n",
       "   1.6107 -0.7012  0.5927  ...  -1.1020 -1.0032 -0.8127\n",
       "  -0.7220  0.6516 -0.6696  ...  -0.1151 -0.1100 -0.5977\n",
       "   1.5033 -0.2086 -0.0529  ...  -0.8170  0.7933 -1.2924\n",
       " \n",
       " (0 ,1 ,.,.) = \n",
       "  -0.9359  0.9143  1.0664  ...   0.4395  0.7890  0.2211\n",
       "   0.2445  0.4530  0.1255  ...  -0.2919 -0.8629  0.6840\n",
       "  -0.4183 -0.5049  1.0907  ...   1.5985  1.7811  0.1448\n",
       "            ...             ⋱             ...          \n",
       "   0.1514 -0.2225  1.0818  ...   2.9254  0.0690  0.7735\n",
       "  -0.1044 -0.7817  0.5361  ...  -0.9152  0.1318  0.7803\n",
       "  -1.9023  0.2213  1.3726  ...   1.4722 -0.4702 -1.9503\n",
       " \n",
       " (0 ,2 ,.,.) = \n",
       "   0.4204 -0.2001  0.0018  ...   0.6741  0.5988  0.7767\n",
       "   1.8723 -0.3207 -1.6236  ...  -0.8549 -0.5497 -0.2016\n",
       "   2.2799 -1.6071  0.5498  ...  -0.0315  1.1411  1.0481\n",
       "            ...             ⋱             ...          \n",
       "  -0.1244  0.6353  0.8691  ...   0.2713 -0.0798  0.8989\n",
       "   0.1297 -0.4325  0.5072  ...   1.5369 -0.0854 -1.0028\n",
       "  -0.0734  1.2512 -0.1944  ...   0.1050  0.9204 -0.2565\n",
       "    ...\n",
       " \n",
       " (0 ,13,.,.) = \n",
       "   1.6986 -0.3285  0.1633  ...  -1.3295  1.4795 -0.6894\n",
       "  -0.4090 -0.4881  1.0160  ...   0.5552 -0.6639  0.2863\n",
       "  -0.5781  0.2137 -1.2836  ...   0.5409 -1.2794 -1.1445\n",
       "            ...             ⋱             ...          \n",
       "   0.3868 -0.7768 -0.0469  ...   0.0563  0.0435 -0.1325\n",
       "  -0.9366  0.7707 -0.3515  ...   0.2924  0.5349  1.3305\n",
       "  -1.2820 -0.4396  0.1415  ...  -0.8293  0.0078  1.5169\n",
       " \n",
       " (0 ,14,.,.) = \n",
       "   0.5697 -1.5475  0.8743  ...   0.4800 -0.4303 -0.0645\n",
       "   0.6112  0.0473  1.6560  ...   0.6467  0.3814 -0.2177\n",
       "   1.7339 -0.4583  0.4159  ...   1.3019  0.5337 -0.1544\n",
       "            ...             ⋱             ...          \n",
       "  -1.7964 -0.0398 -0.7185  ...   0.3327  0.3076  0.1663\n",
       "  -0.4616  0.1545  0.7314  ...   0.5859  0.7060  0.8003\n",
       "  -0.5326  0.0979  0.3735  ...  -0.1712  1.0281  1.2206\n",
       " \n",
       " (0 ,15,.,.) = \n",
       "  -1.5568  0.7294 -0.9730  ...   0.7260 -0.4823  2.2336\n",
       "   0.7701  0.7237  0.2516  ...  -1.0971  0.0478  0.8263\n",
       "   1.0400  0.9724  0.4575  ...  -0.1462  0.7330  1.6814\n",
       "            ...             ⋱             ...          \n",
       "   0.3258 -0.3110  1.2018  ...   0.3255  0.6643 -1.4229\n",
       "   0.6596 -1.4515  0.5925  ...  -0.4816 -0.4598  0.0864\n",
       "   0.3375  1.4282  1.0611  ...   0.7801  1.8532  0.3219\n",
       "      ⋮ \n",
       " \n",
       " (1 ,0 ,.,.) = \n",
       "   1.6257  0.8431  0.5361  ...   1.8918  0.5999  0.0720\n",
       "  -0.0689 -0.2512 -1.0864  ...  -1.2859  0.6047 -0.1795\n",
       "  -1.0247  1.1781  1.4285  ...   0.3774  0.5752 -0.0599\n",
       "            ...             ⋱             ...          \n",
       "   0.8036 -1.6672 -0.6716  ...   1.5381  0.5237 -0.5661\n",
       "   1.4719  0.1081  2.6328  ...   1.3800 -0.3508 -0.8360\n",
       "   0.8656 -0.1545  0.5413  ...   0.3768  1.1930 -0.8908\n",
       " \n",
       " (1 ,1 ,.,.) = \n",
       "  -0.1713  0.5219  1.3159  ...  -1.8926  0.4471 -1.8510\n",
       "  -1.2069  0.4690 -0.2113  ...  -0.9806 -1.0485 -1.0151\n",
       "   1.5128  0.0960 -0.9708  ...  -1.5676  1.7580 -0.2122\n",
       "            ...             ⋱             ...          \n",
       "   0.0750  1.1248 -0.8136  ...  -0.5033  0.2682  0.2805\n",
       "   0.1503  0.1817  2.7000  ...  -0.3633 -0.5109 -1.0850\n",
       "  -0.9359 -0.1717  0.9210  ...  -0.6557  0.2938 -0.5010\n",
       " \n",
       " (1 ,2 ,.,.) = \n",
       "  -0.0446 -0.6018  0.1380  ...   1.6698  0.3859  1.1807\n",
       "  -0.7729  0.7320  0.1139  ...   1.4405  1.4569 -1.7086\n",
       "   0.8673 -0.3963  0.7052  ...   1.5705 -2.0461 -0.1326\n",
       "            ...             ⋱             ...          \n",
       "  -0.4858  1.2799 -0.1713  ...  -1.6190  1.7046  0.7173\n",
       "   0.4977  1.7718  1.7107  ...   0.3378 -1.0017 -0.7770\n",
       "   1.4837  0.3210 -0.4048  ...   0.3723 -1.0444  1.2098\n",
       "    ...\n",
       " \n",
       " (1 ,13,.,.) = \n",
       "   0.3829 -0.7988 -0.8064  ...  -0.5002 -1.0920  0.5373\n",
       "   0.2694 -2.0638  1.1906  ...  -0.5925 -0.0537 -0.5302\n",
       "  -0.2132 -2.8742 -0.3987  ...  -1.0739  0.2518  0.8826\n",
       "            ...             ⋱             ...          \n",
       "   0.6508  0.5460 -0.9555  ...   1.1496  0.9986  1.6116\n",
       "  -0.7546 -0.2975 -0.9212  ...  -0.4526  0.1220 -0.6200\n",
       "  -0.5568 -0.6228  0.2683  ...  -0.2684 -0.8091  1.1661\n",
       " \n",
       " (1 ,14,.,.) = \n",
       "   0.5289  0.6351  0.7213  ...  -0.3891  0.7770  1.5353\n",
       "  -1.6163 -0.7697  0.2604  ...   2.0128 -2.7216  0.7308\n",
       "   0.1804  1.0123 -0.3236  ...  -0.3485  0.1222 -2.4538\n",
       "            ...             ⋱             ...          \n",
       "   0.3571 -1.0793  0.1051  ...   1.4909 -0.5891  2.0697\n",
       "  -0.1120 -0.5768  0.0690  ...  -0.3045  0.7318 -0.3653\n",
       "  -0.0155 -0.1155 -2.0897  ...  -0.2829  1.6891 -1.2882\n",
       " \n",
       " (1 ,15,.,.) = \n",
       "   0.4356  0.2744  0.5293  ...  -0.0396 -1.3541  0.4845\n",
       "  -0.2447  0.1052 -0.5218  ...  -0.3003  0.7343  0.8721\n",
       "   0.4268  0.1862 -0.2658  ...   0.4129  0.2523 -0.4928\n",
       "            ...             ⋱             ...          \n",
       "   1.2109  0.0845  0.9456  ...  -0.7822  0.5504  0.5144\n",
       "  -1.5710  0.4954 -0.7104  ...   0.0768  0.4627  1.0575\n",
       "   1.7765 -1.2351 -0.3874  ...   1.2019 -0.4673 -1.4188\n",
       "      ⋮ \n",
       " \n",
       " (2 ,0 ,.,.) = \n",
       "   0.0602  0.1225 -0.1639  ...   1.0618  0.2127 -0.1120\n",
       "  -0.2767 -0.2764  0.5292  ...  -0.2004 -0.3701 -1.2665\n",
       "   0.2499 -0.1372 -0.8603  ...   2.0368  0.5653 -2.0802\n",
       "            ...             ⋱             ...          \n",
       "   1.1422 -0.3718 -1.4443  ...   0.6683 -0.5591  0.1227\n",
       "   0.6358 -0.8837 -1.5173  ...  -2.0077  0.2188  0.3361\n",
       "   0.3896  0.3937 -0.1724  ...  -0.3146  0.0797 -0.3135\n",
       " \n",
       " (2 ,1 ,.,.) = \n",
       "  -0.5946 -0.0374  1.5598  ...  -0.0838  0.5481  0.3232\n",
       "   1.1193 -1.0994 -0.0424  ...   0.8351 -0.2072  1.1161\n",
       "   0.5179  1.1460 -0.1871  ...   0.5698 -1.0075  0.0604\n",
       "            ...             ⋱             ...          \n",
       "  -0.0966 -0.4224 -0.2131  ...   0.8113  1.6584 -0.0341\n",
       "  -0.6961  1.0339 -0.3100  ...  -0.4386 -0.3499  0.1480\n",
       "  -0.1582  0.5003 -0.1711  ...  -0.7335 -1.1503 -0.5103\n",
       " \n",
       " (2 ,2 ,.,.) = \n",
       "  -0.2195  1.3745  0.3504  ...  -0.4882 -0.8031 -2.2259\n",
       "  -1.0420 -0.0016 -0.2091  ...  -1.2096  1.5885  1.0987\n",
       "  -0.7328 -1.4990 -1.0306  ...   1.0476 -1.2421 -1.1822\n",
       "            ...             ⋱             ...          \n",
       "   0.9666  0.5349  0.7337  ...  -0.6332 -1.0657 -0.8974\n",
       "   2.8164  0.9402 -1.6381  ...   0.1609  1.0505  0.6451\n",
       "  -0.5834 -1.4190  0.4686  ...   1.8539  1.1073  0.5150\n",
       "    ...\n",
       " \n",
       " (2 ,13,.,.) = \n",
       "   2.4889  2.0266 -0.6465  ...   1.5907  0.3681 -0.5478\n",
       "   0.6993  1.9528 -0.8186  ...   0.6714  1.2789  0.2131\n",
       "  -0.0539  0.5472  1.5992  ...  -0.2654 -0.7032 -0.3959\n",
       "            ...             ⋱             ...          \n",
       "  -1.4219 -0.4540  0.5260  ...   0.7836  2.6545 -1.1475\n",
       "   2.9740 -0.2083 -0.1049  ...  -0.4802  1.5681  1.1648\n",
       "  -0.4228 -1.6157  0.4454  ...  -1.3492 -0.8238  1.7212\n",
       " \n",
       " (2 ,14,.,.) = \n",
       "  -1.2745  1.7494 -0.4369  ...  -0.1888 -0.4025 -0.9647\n",
       "   1.8218  0.6250 -0.0037  ...   0.1670  0.3495 -0.0943\n",
       "   1.3405  2.0853 -0.9191  ...  -1.1518 -2.0831 -1.5863\n",
       "            ...             ⋱             ...          \n",
       "   1.3616  0.9120 -1.0507  ...   1.1329  0.9097  1.3392\n",
       "   1.7231 -0.3842 -0.9805  ...   0.3482  1.4795  0.8788\n",
       "   0.4946 -0.7937  0.4728  ...  -0.9604 -0.4094 -0.8747\n",
       " \n",
       " (2 ,15,.,.) = \n",
       "  -0.7005 -0.0233 -1.4891  ...  -0.4717 -0.8224 -1.8318\n",
       "   0.8025 -2.6222  0.7374  ...   1.7915  0.3710  0.1792\n",
       "   1.2091 -2.0229 -1.6096  ...  -0.2130  1.0827  1.0433\n",
       "            ...             ⋱             ...          \n",
       "  -0.2805 -1.0199 -0.9816  ...   0.5179 -0.5607 -0.5893\n",
       "  -0.5676 -0.3710  0.4838  ...  -1.0173 -0.4247  0.4156\n",
       "  -1.3124  0.6490  0.6230  ...  -1.7024 -2.7381  1.8201\n",
       " [torch.FloatTensor of size 3x16x10x10], Variable containing:\n",
       " (0 ,.,.) = \n",
       "    3   0   0   3   2   3   1   3\n",
       "    3   3   2   3   1   2   2   3\n",
       "    3   2   3   3   3   1   0   1\n",
       "    1   1   3   0   2   3   2   3\n",
       "    1   3   0   3   2   0   0   2\n",
       "    3   0   1   3   1   3   1   2\n",
       "    0   1   1   3   3   0   3   0\n",
       "    3   2   1   1   2   3   0   1\n",
       " \n",
       " (1 ,.,.) = \n",
       "    3   3   3   3   3   3   1   1\n",
       "    1   3   2   2   1   1   1   1\n",
       "    0   3   2   3   2   2   3   2\n",
       "    0   2   3   1   1   0   2   3\n",
       "    2   3   0   2   0   2   1   3\n",
       "    1   3   1   0   2   2   2   1\n",
       "    2   1   0   0   1   2   2   1\n",
       "    2   1   0   1   2   2   0   3\n",
       " \n",
       " (2 ,.,.) = \n",
       "    1   0   0   1   2   2   1   0\n",
       "    0   3   3   0   1   0   1   1\n",
       "    2   2   0   3   0   1   0   3\n",
       "    1   3   3   0   3   2   2   2\n",
       "    2   0   3   3   3   1   3   0\n",
       "    2   0   1   3   0   2   0   0\n",
       "    2   1   1   1   0   0   0   0\n",
       "    3   0   3   2   1   0   3   1\n",
       " [torch.LongTensor of size 3x8x8])"
      ]
     },
     "execution_count": 412,
     "metadata": {},
     "output_type": "execute_result"
    }
   ],
   "source": [
    "# input is of size N x C x height x width\n",
    "input = Variable(torch.randn(3, 16, 10, 10))\n",
    "# each element in target has to have 0 <= value < C\n",
    "target = Variable(torch.LongTensor(3, 8, 8).random_(0, 4))\n",
    "input, target"
   ]
  },
  {
   "cell_type": "code",
   "execution_count": 413,
   "metadata": {
    "collapsed": true
   },
   "outputs": [
    {
     "data": {
      "text/plain": [
       "Variable containing:\n",
       "(0 ,0 ,.,.) = \n",
       " -0.0914 -0.3414 -0.5887  ...   0.0901 -0.4334  0.1536\n",
       "  0.3325  0.3335 -0.2382  ...   0.1678  0.1553  0.3347\n",
       " -1.4213 -0.5045  0.3120  ...  -0.6401  0.5019 -0.6772\n",
       "           ...             ⋱             ...          \n",
       "  0.1373 -0.0388 -0.1407  ...   0.2154 -0.3195 -0.5756\n",
       " -1.3767  0.0899 -0.7323  ...  -0.3288  0.4410 -0.8754\n",
       "  0.8808 -0.1628 -0.6851  ...   0.5875  0.0808 -1.0219\n",
       "\n",
       "(0 ,1 ,.,.) = \n",
       "  1.0110  0.6205 -0.1065  ...   0.4678 -0.6539 -0.2291\n",
       "  0.5658  0.3720  0.6709  ...   0.3127 -1.1345  0.4468\n",
       "  0.1602  0.5106 -0.0117  ...  -0.4563 -0.4087  0.6784\n",
       "           ...             ⋱             ...          \n",
       "  0.6720 -0.4646 -0.9028  ...  -0.7556  0.5702 -0.3176\n",
       " -0.3631 -0.4161 -0.3207  ...   0.1507  0.6462  0.5372\n",
       "  0.1930 -0.1476  0.2946  ...   0.3118 -0.4873  0.7928\n",
       "\n",
       "(0 ,2 ,.,.) = \n",
       " -0.3416 -0.0683  0.4018  ...  -0.1521 -0.7236 -0.7863\n",
       "  0.3424 -0.1474 -0.9320  ...   0.7171  0.3830 -0.8341\n",
       " -0.2295 -0.2255 -0.4940  ...   0.2875 -0.2093  0.3173\n",
       "           ...             ⋱             ...          \n",
       "  0.1056  0.4455 -0.1123  ...   0.0607 -1.1665  0.3482\n",
       " -0.1579  0.3261  0.8706  ...   0.2168 -0.0830 -0.6319\n",
       "  0.8913 -0.3574  0.2221  ...  -0.5855  0.0561  0.9952\n",
       "   ...\n",
       "\n",
       "(0 ,29,.,.) = \n",
       " -0.2882 -0.3074  0.6870  ...  -0.1855  0.2217 -0.8901\n",
       "  0.6575  0.1698 -0.1292  ...  -0.1157  0.0739 -0.1856\n",
       "  0.8954 -0.7577  0.2599  ...  -0.3248 -0.2935 -0.4625\n",
       "           ...             ⋱             ...          \n",
       "  0.3711 -1.0562 -0.0183  ...   0.0447 -1.1540  0.3795\n",
       " -0.1319 -0.6703  0.5043  ...  -0.4302 -0.2811 -0.8170\n",
       " -1.0304  0.4800  0.2478  ...  -0.4197  0.3575 -0.3412\n",
       "\n",
       "(0 ,30,.,.) = \n",
       "  0.7859 -0.8323 -0.0578  ...   0.6976 -0.8031  1.4828\n",
       "  0.3182 -0.1970 -0.2115  ...  -0.2648 -0.9938 -0.0111\n",
       "  1.0421 -0.9039  0.0722  ...   1.2765  0.6444  0.6769\n",
       "           ...             ⋱             ...          \n",
       " -0.5050  0.0013 -0.3206  ...  -0.0417  0.1638 -0.5819\n",
       "  0.4409  0.5397 -0.8448  ...   0.0869 -0.6325  0.3396\n",
       "  0.1636  0.9536 -0.9879  ...   0.6196 -0.2265 -0.0152\n",
       "\n",
       "(0 ,31,.,.) = \n",
       "  0.1251 -0.0931  0.5411  ...   0.1660  0.1872 -0.0864\n",
       "  1.4894  0.4381  0.0015  ...   0.2420  1.6777 -0.5994\n",
       " -0.6761 -0.3589  0.1511  ...   0.4210 -0.0283  0.4317\n",
       "           ...             ⋱             ...          \n",
       "  0.6374 -0.0590 -0.3075  ...   0.6166 -0.0033 -0.8577\n",
       " -0.9217  0.4940 -0.9847  ...   0.1196  0.8217 -0.6087\n",
       " -1.1331  0.0127  0.1253  ...  -0.0077  0.0585  0.6425\n",
       "     ⋮ \n",
       "\n",
       "(1 ,0 ,.,.) = \n",
       " -0.0377  0.3572  0.0582  ...  -0.4807  0.6832 -0.2175\n",
       "  0.4843  0.0796 -0.2513  ...  -0.6223  0.1987  0.0654\n",
       " -0.2363  0.0956 -0.1497  ...   0.0114 -0.4587 -0.3010\n",
       "           ...             ⋱             ...          \n",
       "  0.3056  0.0310 -1.0284  ...   0.2309 -1.3576 -0.3233\n",
       "  0.8805  0.3030  0.2752  ...  -0.5740  0.0037 -0.2859\n",
       "  0.5065 -0.3433 -0.6724  ...  -1.0353 -0.1216  0.3787\n",
       "\n",
       "(1 ,1 ,.,.) = \n",
       " -0.0085  0.5019  0.6373  ...  -1.0066 -0.1431 -1.0447\n",
       "  0.7122  0.6904  0.2898  ...   0.0980 -0.1967  0.7140\n",
       " -0.6172  1.4975 -0.1827  ...  -1.2871  0.6945 -0.6306\n",
       "           ...             ⋱             ...          \n",
       " -1.2762  1.7476 -0.3437  ...   0.1837 -0.6636  0.9602\n",
       "  0.6914 -0.2960  0.2435  ...  -0.5970 -0.0724  0.2568\n",
       " -0.2746  0.7492 -0.8044  ...   0.4274  0.2494  0.0167\n",
       "\n",
       "(1 ,2 ,.,.) = \n",
       "  0.2681 -0.5934  0.3647  ...  -0.4708 -0.1806 -0.1475\n",
       " -0.2181  0.6578 -0.1235  ...  -0.9570  0.0276  0.0645\n",
       "  0.2760 -0.0939  1.8679  ...   0.9606 -0.0977 -0.5357\n",
       "           ...             ⋱             ...          \n",
       " -1.0403 -0.3264  0.1260  ...   0.5268 -0.3303 -1.1095\n",
       " -0.0089 -0.8105  0.2804  ...  -0.4594 -0.5298  0.3100\n",
       " -0.1921 -0.2643 -1.8346  ...   0.2245 -0.3732  0.6021\n",
       "   ...\n",
       "\n",
       "(1 ,29,.,.) = \n",
       " -0.6937 -0.9563  0.6041  ...  -0.0304 -1.4126 -0.7245\n",
       " -0.2989  0.4171  0.0457  ...  -0.4395 -0.1405 -0.0083\n",
       " -0.2735 -0.5731  0.4407  ...  -0.4478 -0.0477  0.0193\n",
       "           ...             ⋱             ...          \n",
       " -0.5374 -0.9440 -0.7349  ...  -0.2632 -0.1134 -0.8825\n",
       "  0.4490 -0.9471  0.0044  ...   0.3049 -0.5000 -0.3943\n",
       " -1.0368 -0.3600 -0.6567  ...  -0.0780  0.3762 -0.4281\n",
       "\n",
       "(1 ,30,.,.) = \n",
       " -0.9251  0.7986  0.8763  ...  -0.6533  0.2278 -1.0660\n",
       " -0.1528 -0.3074  0.0714  ...   1.0536  1.0293 -0.1600\n",
       " -0.1322 -0.2214 -0.5356  ...  -0.5229  0.8376  0.4191\n",
       "           ...             ⋱             ...          \n",
       " -0.6595  0.7863  0.5914  ...  -1.0194 -0.7535  0.2063\n",
       "  0.8866  0.1393  0.5460  ...   1.2805 -0.3264  0.0876\n",
       "  0.5827 -0.3663  0.1430  ...   0.5608 -0.4365  0.4503\n",
       "\n",
       "(1 ,31,.,.) = \n",
       " -0.0577  0.5894 -0.0616  ...   0.8060  0.1737 -0.2628\n",
       " -0.1501 -0.9751 -0.2800  ...   0.3229 -0.6242  0.7781\n",
       "  0.0607  0.2521  0.3190  ...   0.2517  0.7040  0.7790\n",
       "           ...             ⋱             ...          \n",
       " -0.4880 -0.4341 -0.3252  ...   0.5670  0.1043  0.1989\n",
       "  0.8410  0.6585  0.1808  ...   0.7801  0.4033  0.0697\n",
       " -0.9562  0.5481  0.8013  ...  -0.0439  0.1384 -0.2643\n",
       "     ⋮ \n",
       "\n",
       "(2 ,0 ,.,.) = \n",
       " -0.2987 -0.0050  0.0125  ...  -0.0268  0.2041 -0.1584\n",
       "  0.0278  0.3453 -0.2565  ...   0.9986 -0.2159  0.2225\n",
       " -0.6610 -0.2097 -0.1671  ...  -0.2528  0.2576 -0.3847\n",
       "           ...             ⋱             ...          \n",
       "  0.3396  0.8578  0.3931  ...   0.1932 -0.3223 -0.0761\n",
       "  0.3403  0.0148 -0.3436  ...   0.1039 -0.0846  0.0728\n",
       " -0.2267 -0.6156 -0.8222  ...   0.4275 -1.1531  0.1006\n",
       "\n",
       "(2 ,1 ,.,.) = \n",
       "  0.7270 -0.1608  0.8801  ...   0.0171 -0.0261 -0.1205\n",
       "  0.4679 -1.0071  0.7734  ...   0.6246  0.2359  0.6910\n",
       " -0.9114  0.1365 -0.2451  ...  -0.6180  0.6180 -0.2033\n",
       "           ...             ⋱             ...          \n",
       " -0.9533 -0.5691 -0.3661  ...   0.8488  0.0185  0.2428\n",
       " -0.6471 -0.2582 -0.5042  ...   0.5977 -0.2832  0.7559\n",
       "  0.0755  0.1903  0.1240  ...   0.4919  0.1209  0.3935\n",
       "\n",
       "(2 ,2 ,.,.) = \n",
       "  0.2828  0.3373 -0.2096  ...   1.2250 -0.0892 -0.7310\n",
       " -0.1956 -0.7365 -0.4519  ...   0.2436 -0.3097  0.1029\n",
       " -0.7436 -0.3451  0.0162  ...   0.2231 -0.1922 -0.3811\n",
       "           ...             ⋱             ...          \n",
       " -0.4465  0.0921 -0.3763  ...   0.4839 -0.3338  0.9827\n",
       " -0.0890  0.2239  0.1741  ...   0.2495 -0.4875  0.7962\n",
       " -0.4935 -0.1669  0.0938  ...  -0.2832 -0.2644 -0.6165\n",
       "   ...\n",
       "\n",
       "(2 ,29,.,.) = \n",
       "  0.2674 -0.6518 -0.4646  ...  -0.2862  0.1604 -0.2752\n",
       " -0.1275  1.1774 -0.6411  ...   0.5783  0.1932  0.0220\n",
       " -0.5159 -0.4166 -0.0088  ...   0.4991 -0.0558  0.3789\n",
       "           ...             ⋱             ...          \n",
       "  0.5098  0.4555  0.3892  ...   0.9439 -0.2676 -0.5299\n",
       " -0.4728 -0.5986 -0.7274  ...   0.0293 -0.8495  1.0363\n",
       " -0.0008 -0.2285  0.1005  ...  -0.3220  0.1216 -0.6169\n",
       "\n",
       "(2 ,30,.,.) = \n",
       " -0.1805 -0.7458  0.7588  ...  -0.0930 -1.1519  0.4506\n",
       " -0.3762 -0.1221 -0.3457  ...   0.8328  0.2804  0.6912\n",
       "  0.0596 -0.2621  0.1352  ...   0.0223 -1.0710 -0.2583\n",
       "           ...             ⋱             ...          \n",
       "  0.9109 -0.1244  0.1123  ...   0.1883 -0.9596 -0.6322\n",
       "  0.4497  0.4459 -0.7743  ...   1.0510  0.5825 -0.9379\n",
       "  0.3903 -0.2807  0.6218  ...  -0.5371  0.0350 -0.7387\n",
       "\n",
       "(2 ,31,.,.) = \n",
       " -0.4762 -0.2867  0.5775  ...  -1.0665 -0.2018 -0.1133\n",
       "  0.7818 -0.4072  0.1782  ...  -0.6344 -0.1961  0.2364\n",
       " -0.0010  1.0081 -1.1781  ...   0.0827  0.4603 -0.2508\n",
       "           ...             ⋱             ...          \n",
       " -0.7159  0.2476 -0.7942  ...  -0.8968 -0.9142  0.2773\n",
       "  0.2224  0.2059 -0.4408  ...   0.6308  0.2594  0.5428\n",
       " -0.0456  0.8480  1.3501  ...  -0.5933 -0.1321  0.7689\n",
       "[torch.FloatTensor of size 3x32x8x8]"
      ]
     },
     "execution_count": 413,
     "metadata": {},
     "output_type": "execute_result"
    }
   ],
   "source": [
    "m = nn.Conv2d(16, 32, (3, 3)).float()\n",
    "m(input)"
   ]
  },
  {
   "cell_type": "code",
   "execution_count": 414,
   "metadata": {},
   "outputs": [
    {
     "data": {
      "text/plain": [
       "Variable containing:\n",
       "1.00000e-02 *\n",
       "  7.0827\n",
       "[torch.FloatTensor of size 1]"
      ]
     },
     "execution_count": 414,
     "metadata": {},
     "output_type": "execute_result"
    }
   ],
   "source": [
    "loss = nn.NLLLoss2d()\n",
    "output = loss(m(input), target)\n",
    "output"
   ]
  },
  {
   "cell_type": "code",
   "execution_count": 415,
   "metadata": {
    "collapsed": true
   },
   "outputs": [
    {
     "data": {
      "text/plain": [
       "Variable containing:\n",
       "(0 ,.,.) = \n",
       "  1.2352  0.3414  0.5887  1.2551 -0.1083  0.8254  0.6539  0.4949\n",
       " -0.1060  0.3918  0.9320 -0.6697 -0.6308 -0.7171 -0.3830  0.0484\n",
       "  0.0691  0.2255 -0.3308  0.9047 -1.2582  0.4563 -0.5019 -0.6784\n",
       " -0.6251 -0.4932  0.0001  0.2578 -0.7864  0.3773  0.0654  0.7104\n",
       " -0.8741 -0.2491  0.3755  0.4965  0.7590 -0.2958  0.3633  0.6539\n",
       " -0.6254  0.0388  0.9028  0.2724  1.1647  0.9333 -0.5702 -0.3482\n",
       "  1.3767  0.4161  0.3207 -0.0584  0.9915  0.3288  0.5114  0.8754\n",
       "  0.9526  0.3574 -0.2946 -0.5176  0.2095  1.1140 -0.0808 -0.7928\n",
       "\n",
       "(1 ,.,.) = \n",
       "  0.0098  0.7049  0.2768 -0.3276  0.9695  0.1490  0.1431  1.0447\n",
       " -0.7122 -0.7132  0.1235  0.5176 -0.3217 -0.0980  0.1967 -0.7140\n",
       "  0.2363 -0.6067 -1.8679  0.1546 -1.0182 -0.9606  0.0163  0.5357\n",
       " -0.5395  0.6787 -0.7396 -0.0542  0.0519  1.1760  0.6621  0.3212\n",
       "  0.6533 -0.3661 -0.3049  0.0005 -0.7431  0.9055 -0.3869 -0.1436\n",
       "  1.2762  0.4494  0.3437 -0.7135 -0.2977 -0.5268  0.3303 -0.9602\n",
       "  0.0089  0.2960 -0.2752  0.1159  0.2105  0.4594  0.5298 -0.2568\n",
       "  0.1921 -0.7492  0.6724  0.1410 -0.8785 -0.2245  0.1216  0.1427\n",
       "\n",
       "(2 ,.,.) = \n",
       " -0.7270  0.0050 -0.0125  0.5894 -0.4069 -1.2250  0.0261  0.1584\n",
       " -0.0278  0.7523 -0.2062 -0.8718  0.5183 -0.9986 -0.2359 -0.6910\n",
       "  0.7436  0.3451  0.1671  0.4532  0.1087  0.6180 -0.2576 -0.1592\n",
       "  0.8644 -0.2603 -0.5253  0.1926 -0.3339  0.5303  0.8711  0.2728\n",
       " -0.1343 -0.5692 -1.2441  0.1062  1.2813  0.9800  0.3142  0.5669\n",
       "  0.4465 -0.8578  0.3661 -0.5436 -1.1119 -0.4839  0.3223  0.0761\n",
       "  0.0890  0.2582  0.5042  1.0456  0.0635 -0.1039  0.0846 -0.0728\n",
       "  0.1007  0.6156  0.0744  1.2727  0.1345 -0.4275 -0.0071 -0.3935\n",
       "[torch.FloatTensor of size 3x8x8]"
      ]
     },
     "execution_count": 415,
     "metadata": {},
     "output_type": "execute_result"
    }
   ],
   "source": [
    "loss = nn.NLLLoss2d(reduce=False)\n",
    "output = loss(m(input), target)\n",
    "output"
   ]
  },
  {
   "cell_type": "markdown",
   "metadata": {},
   "source": [
    "## KLDivLoss"
   ]
  },
  {
   "cell_type": "code",
   "execution_count": 715,
   "metadata": {},
   "outputs": [
    {
     "data": {
      "text/plain": [
       "(Variable containing:\n",
       "  0.8813  0.8005  0.1786\n",
       "  0.9045  0.4765  0.5855\n",
       " [torch.FloatTensor of size 2x3], Variable containing:\n",
       "  0.8777  0.5932  0.7239\n",
       "  0.5772  0.9740  0.6644\n",
       " [torch.FloatTensor of size 2x3])"
      ]
     },
     "execution_count": 715,
     "metadata": {},
     "output_type": "execute_result"
    }
   ],
   "source": [
    "x = Variable(torch.rand(2, 3))\n",
    "y = Variable(torch.rand(2, 3))\n",
    "x, y"
   ]
  },
  {
   "cell_type": "code",
   "execution_count": 716,
   "metadata": {},
   "outputs": [
    {
     "data": {
      "text/plain": [
       "Variable containing:\n",
       "-0.6709\n",
       "[torch.FloatTensor of size 1]"
      ]
     },
     "execution_count": 716,
     "metadata": {},
     "output_type": "execute_result"
    }
   ],
   "source": [
    "loss=nn.KLDivLoss()\n",
    "lss=loss(x, y)\n",
    "lss"
   ]
  },
  {
   "cell_type": "code",
   "execution_count": 717,
   "metadata": {},
   "outputs": [
    {
     "data": {
      "text/plain": [
       "Variable containing:\n",
       "-4.0256\n",
       "[torch.FloatTensor of size 1]"
      ]
     },
     "execution_count": 717,
     "metadata": {},
     "output_type": "execute_result"
    }
   ],
   "source": [
    "loss=nn.KLDivLoss(size_average=False)\n",
    "lss=loss(x, y)\n",
    "lss"
   ]
  },
  {
   "cell_type": "code",
   "execution_count": 718,
   "metadata": {
    "scrolled": false
   },
   "outputs": [
    {
     "data": {
      "text/plain": [
       "Variable containing:\n",
       "-0.8881 -0.7846 -0.3632\n",
       "-0.8393 -0.4898 -0.6606\n",
       "[torch.FloatTensor of size 2x3]"
      ]
     },
     "execution_count": 718,
     "metadata": {},
     "output_type": "execute_result"
    }
   ],
   "source": [
    "loss=nn.KLDivLoss(reduce=False)\n",
    "lss=loss(x, y)\n",
    "lss"
   ]
  },
  {
   "cell_type": "code",
   "execution_count": 719,
   "metadata": {
    "scrolled": true
   },
   "outputs": [
    {
     "data": {
      "text/plain": [
       "(Variable containing:\n",
       " -0.6709\n",
       " [torch.FloatTensor of size 1], Variable containing:\n",
       " -4.0256\n",
       " [torch.FloatTensor of size 1])"
      ]
     },
     "execution_count": 719,
     "metadata": {},
     "output_type": "execute_result"
    }
   ],
   "source": [
    "lss.mean(), lss.sum()"
   ]
  },
  {
   "cell_type": "code",
   "execution_count": 720,
   "metadata": {},
   "outputs": [],
   "source": [
    "x = x.data.numpy()\n",
    "y = y.data.numpy()"
   ]
  },
  {
   "cell_type": "code",
   "execution_count": 723,
   "metadata": {},
   "outputs": [
    {
     "data": {
      "text/plain": [
       "([[-0.8880524, -0.7846184, -0.3632179],\n",
       "  [-0.83927226, -0.48979017, -0.66064775]],\n",
       " -0.6709332)"
      ]
     },
     "execution_count": 723,
     "metadata": {},
     "output_type": "execute_result"
    }
   ],
   "source": [
    "lst = []\n",
    "for i in range(len(x)):\n",
    "    lsti = []\n",
    "    for j in range(len(x[i])):\n",
    "        # xi is already log \n",
    "        lsti.append(y[i][j] * (np.log(y[i][j]) - x[i][j]))\n",
    "    lst.append(lsti)\n",
    "lst, np.mean(lst)"
   ]
  },
  {
   "cell_type": "markdown",
   "metadata": {},
   "source": [
    "## Sigmoid"
   ]
  },
  {
   "cell_type": "code",
   "execution_count": 438,
   "metadata": {},
   "outputs": [
    {
     "data": {
      "text/plain": [
       "(Variable containing:\n",
       "  0.6375  0.9128 -2.0614  0.0657\n",
       " -0.2632 -0.8791  1.3737  1.6586\n",
       " [torch.FloatTensor of size 2x4], Variable containing:\n",
       "  0.6542  0.7136  0.1129  0.5164\n",
       "  0.4346  0.2934  0.7980  0.8401\n",
       " [torch.FloatTensor of size 2x4])"
      ]
     },
     "execution_count": 438,
     "metadata": {},
     "output_type": "execute_result"
    }
   ],
   "source": [
    "x = Variable(torch.randn(2, 4))\n",
    "y = nn.Sigmoid()(x)\n",
    "x, y"
   ]
  },
  {
   "cell_type": "code",
   "execution_count": null,
   "metadata": {},
   "outputs": [],
   "source": [
    "x = x.data.numpy()"
   ]
  },
  {
   "cell_type": "code",
   "execution_count": 442,
   "metadata": {},
   "outputs": [
    {
     "data": {
      "text/plain": [
       "array([[0.6541974 , 0.71358067, 0.11290552, 0.5164305 ],\n",
       "       [0.4345839 , 0.29336274, 0.7979727 , 0.84005225]], dtype=float32)"
      ]
     },
     "execution_count": 442,
     "metadata": {},
     "output_type": "execute_result"
    }
   ],
   "source": [
    "1 / (1 + np.exp(-x))"
   ]
  },
  {
   "cell_type": "markdown",
   "metadata": {},
   "source": [
    "## BCELoss"
   ]
  },
  {
   "cell_type": "markdown",
   "metadata": {},
   "source": [
    "### single label"
   ]
  },
  {
   "cell_type": "code",
   "execution_count": 484,
   "metadata": {},
   "outputs": [
    {
     "data": {
      "text/plain": [
       "(Variable containing:\n",
       "  0.2975\n",
       "  0.3784\n",
       "  0.3778\n",
       " [torch.FloatTensor of size 3], Variable containing:\n",
       "  1\n",
       "  0\n",
       "  0\n",
       " [torch.FloatTensor of size 3])"
      ]
     },
     "execution_count": 484,
     "metadata": {},
     "output_type": "execute_result"
    }
   ],
   "source": [
    "x0 = Variable(torch.randn(3))\n",
    "x = nn.Sigmoid()(x0)\n",
    "\n",
    "y = Variable(torch.FloatTensor(3).random_(2))\n",
    "x, y"
   ]
  },
  {
   "cell_type": "code",
   "execution_count": 485,
   "metadata": {},
   "outputs": [
    {
     "data": {
      "text/plain": [
       "(Variable containing:\n",
       "  0.7208\n",
       " [torch.FloatTensor of size 1], Variable containing:\n",
       "  2.1624\n",
       " [torch.FloatTensor of size 1])"
      ]
     },
     "execution_count": 485,
     "metadata": {},
     "output_type": "execute_result"
    }
   ],
   "source": [
    "loss = nn.BCELoss()\n",
    "lss = loss(x, y)\n",
    "lss, lss*len(x)"
   ]
  },
  {
   "cell_type": "code",
   "execution_count": 486,
   "metadata": {},
   "outputs": [
    {
     "data": {
      "text/plain": [
       "Variable containing:\n",
       " 2.1624\n",
       "[torch.FloatTensor of size 1]"
      ]
     },
     "execution_count": 486,
     "metadata": {},
     "output_type": "execute_result"
    }
   ],
   "source": [
    "loss = nn.BCELoss(size_average=False)\n",
    "lss = loss(x, y)\n",
    "lss"
   ]
  },
  {
   "cell_type": "code",
   "execution_count": 487,
   "metadata": {},
   "outputs": [
    {
     "data": {
      "text/plain": [
       "([1.212439, 0.47547434639676955, 0.47444362242937016],\n",
       " 0.720785636609344,\n",
       " 2.162356909828032)"
      ]
     },
     "execution_count": 487,
     "metadata": {},
     "output_type": "execute_result"
    }
   ],
   "source": [
    "x = x.data.numpy()\n",
    "y = y.data.numpy()\n",
    "\n",
    "lst = []\n",
    "for i in range(len(x)):\n",
    "    lst.append(-np.log(x[i]) if y[i]==1 else -np.log(1-x[i]))\n",
    "lst, np.mean(lst), np.sum(lst)"
   ]
  },
  {
   "cell_type": "code",
   "execution_count": 488,
   "metadata": {},
   "outputs": [
    {
     "data": {
      "text/plain": [
       "([1.212439, 0.47547434639676955, 0.47444362242937016],\n",
       " 0.720785636609344,\n",
       " 2.162356909828032)"
      ]
     },
     "execution_count": 488,
     "metadata": {},
     "output_type": "execute_result"
    }
   ],
   "source": [
    "lst = []\n",
    "for i in range(len(x)):\n",
    "    lst.append(-np.log(x[i]) if y[i]==1 else -np.log(1-x[i]))\n",
    "lst, np.mean(lst), np.sum(lst)"
   ]
  },
  {
   "cell_type": "code",
   "execution_count": 489,
   "metadata": {},
   "outputs": [
    {
     "data": {
      "text/plain": [
       "([1.212438941001892, 0.47547434639676955, 0.47444362242937016],\n",
       " 0.720785636609344,\n",
       " 2.162356909828032)"
      ]
     },
     "execution_count": 489,
     "metadata": {},
     "output_type": "execute_result"
    }
   ],
   "source": [
    "lst = []\n",
    "for i in range(len(x)):\n",
    "    lst.append(-np.log(x[i])*y[i] + -np.log(1-x[i])*(1-y[i]))\n",
    "lst, np.mean(lst), np.sum(lst)"
   ]
  },
  {
   "cell_type": "markdown",
   "metadata": {},
   "source": [
    "### multilabel"
   ]
  },
  {
   "cell_type": "code",
   "execution_count": 492,
   "metadata": {},
   "outputs": [
    {
     "data": {
      "text/plain": [
       "(Variable containing:\n",
       "  0.5547  0.7939\n",
       "  0.3316  0.4920\n",
       "  0.5952  0.5797\n",
       " [torch.FloatTensor of size 3x2], Variable containing:\n",
       "  0  0\n",
       "  1  1\n",
       "  0  0\n",
       " [torch.FloatTensor of size 3x2])"
      ]
     },
     "execution_count": 492,
     "metadata": {},
     "output_type": "execute_result"
    }
   ],
   "source": [
    "x0 = Variable(torch.randn(3, 2))\n",
    "x = nn.Sigmoid()(x0)\n",
    "\n",
    "y = Variable(torch.FloatTensor(3, 2).random_(2))\n",
    "x, y"
   ]
  },
  {
   "cell_type": "code",
   "execution_count": 493,
   "metadata": {},
   "outputs": [
    {
     "data": {
      "text/plain": [
       "Variable containing:\n",
       " 0.9954\n",
       "[torch.FloatTensor of size 1]"
      ]
     },
     "execution_count": 493,
     "metadata": {},
     "output_type": "execute_result"
    }
   ],
   "source": [
    "loss = nn.BCELoss()\n",
    "lss = loss(x, y)\n",
    "lss"
   ]
  },
  {
   "cell_type": "code",
   "execution_count": null,
   "metadata": {},
   "outputs": [],
   "source": [
    "x = x.data.numpy()\n",
    "y = y.data.numpy()"
   ]
  },
  {
   "cell_type": "code",
   "execution_count": 503,
   "metadata": {},
   "outputs": [
    {
     "data": {
      "text/plain": [
       "(array([[0.80890766, 1.57933168],\n",
       "        [1.10379136, 0.70931298],\n",
       "        [0.9044003 , 0.86669647]]), 0.9954067403303868, 5.972440441982321)"
      ]
     },
     "execution_count": 503,
     "metadata": {},
     "output_type": "execute_result"
    }
   ],
   "source": [
    "lst = []\n",
    "for i in range(len(x)):\n",
    "    lsti = []\n",
    "    for j in range(len(x[i])):\n",
    "        lsti.append(-np.log(x[i][j]) if y[i][j]==1 else -np.log(1-x[i][j]))\n",
    "    lst.append(lsti)\n",
    "np.array(lst), np.mean(lst), np.sum(lst)"
   ]
  },
  {
   "cell_type": "code",
   "execution_count": 496,
   "metadata": {
    "scrolled": true
   },
   "outputs": [
    {
     "data": {
      "text/plain": [
       "([array([0.8089076, 1.5793316], dtype=float32),\n",
       "  array([1.1037914, 0.709313 ], dtype=float32),\n",
       "  array([0.9044003, 0.8666965], dtype=float32)],\n",
       " 0.9954067,\n",
       " 5.9724402)"
      ]
     },
     "execution_count": 496,
     "metadata": {},
     "output_type": "execute_result"
    }
   ],
   "source": [
    "lst = []\n",
    "for i in range(len(x)):\n",
    "    lst.append(-np.log(x[i])*y[i] + -np.log(1-x[i])*(1-y[i]))\n",
    "lst, np.mean(lst), np.sum(lst)"
   ]
  },
  {
   "cell_type": "markdown",
   "metadata": {},
   "source": [
    "## BCEWithLogitsLoss"
   ]
  },
  {
   "cell_type": "markdown",
   "metadata": {},
   "source": [
    "### single label"
   ]
  },
  {
   "cell_type": "code",
   "execution_count": 505,
   "metadata": {},
   "outputs": [
    {
     "data": {
      "text/plain": [
       "(Variable containing:\n",
       "  1.6919\n",
       "  0.3915\n",
       " -0.6003\n",
       " [torch.FloatTensor of size 3], Variable containing:\n",
       "  0\n",
       "  1\n",
       "  1\n",
       " [torch.FloatTensor of size 3])"
      ]
     },
     "execution_count": 505,
     "metadata": {},
     "output_type": "execute_result"
    }
   ],
   "source": [
    "x = Variable(torch.randn(3))\n",
    "xs = nn.Sigmoid()(x)\n",
    "\n",
    "y = Variable(torch.FloatTensor(3).random_(2))\n",
    "x, y"
   ]
  },
  {
   "cell_type": "code",
   "execution_count": 506,
   "metadata": {},
   "outputs": [
    {
     "data": {
      "text/plain": [
       "Variable containing:\n",
       " 1.1383\n",
       "[torch.FloatTensor of size 1]"
      ]
     },
     "execution_count": 506,
     "metadata": {},
     "output_type": "execute_result"
    }
   ],
   "source": [
    "loss = nn.BCELoss()\n",
    "lss = loss(xs, y)\n",
    "lss"
   ]
  },
  {
   "cell_type": "code",
   "execution_count": 507,
   "metadata": {},
   "outputs": [
    {
     "data": {
      "text/plain": [
       "Variable containing:\n",
       " 1.1383\n",
       "[torch.FloatTensor of size 1]"
      ]
     },
     "execution_count": 507,
     "metadata": {},
     "output_type": "execute_result"
    }
   ],
   "source": [
    "loss = nn.BCEWithLogitsLoss()\n",
    "lss = loss(x, y)\n",
    "lss"
   ]
  },
  {
   "cell_type": "markdown",
   "metadata": {},
   "source": [
    "### multilabel"
   ]
  },
  {
   "cell_type": "code",
   "execution_count": 510,
   "metadata": {},
   "outputs": [
    {
     "data": {
      "text/plain": [
       "(Variable containing:\n",
       " -0.8044  0.8187\n",
       "  0.8414 -1.7095\n",
       " -1.4606 -1.7738\n",
       " [torch.FloatTensor of size 3x2], Variable containing:\n",
       "  0  1\n",
       "  1  1\n",
       "  1  1\n",
       " [torch.FloatTensor of size 3x2])"
      ]
     },
     "execution_count": 510,
     "metadata": {},
     "output_type": "execute_result"
    }
   ],
   "source": [
    "x = Variable(torch.randn(3, 2))\n",
    "xs = nn.Sigmoid()(x)\n",
    "\n",
    "y = Variable(torch.FloatTensor(3, 2).random_(2))\n",
    "x, y"
   ]
  },
  {
   "cell_type": "code",
   "execution_count": 512,
   "metadata": {},
   "outputs": [
    {
     "data": {
      "text/plain": [
       "Variable containing:\n",
       " 1.0949\n",
       "[torch.FloatTensor of size 1]"
      ]
     },
     "execution_count": 512,
     "metadata": {},
     "output_type": "execute_result"
    }
   ],
   "source": [
    "loss = nn.BCELoss()\n",
    "lss = loss(xs, y)\n",
    "lss"
   ]
  },
  {
   "cell_type": "code",
   "execution_count": 513,
   "metadata": {
    "scrolled": true
   },
   "outputs": [
    {
     "data": {
      "text/plain": [
       "Variable containing:\n",
       " 1.0949\n",
       "[torch.FloatTensor of size 1]"
      ]
     },
     "execution_count": 513,
     "metadata": {},
     "output_type": "execute_result"
    }
   ],
   "source": [
    "loss = nn.BCEWithLogitsLoss()\n",
    "lss = loss(x, y)\n",
    "lss"
   ]
  },
  {
   "cell_type": "markdown",
   "metadata": {},
   "source": [
    "## MultiLabelSoftMarginLoss"
   ]
  },
  {
   "cell_type": "code",
   "execution_count": null,
   "metadata": {},
   "outputs": [],
   "source": []
  },
  {
   "cell_type": "markdown",
   "metadata": {},
   "source": [
    "## MarginRankingLoss"
   ]
  },
  {
   "cell_type": "code",
   "execution_count": 932,
   "metadata": {},
   "outputs": [
    {
     "data": {
      "text/plain": [
       "(Variable containing:\n",
       "  1.1673\n",
       "  1.2137\n",
       " -1.3999\n",
       " [torch.FloatTensor of size 3], Variable containing:\n",
       " -1.4045\n",
       " -1.6424\n",
       "  0.3971\n",
       " [torch.FloatTensor of size 3], Variable containing:\n",
       " -1\n",
       "  1\n",
       "  1\n",
       " [torch.FloatTensor of size 3])"
      ]
     },
     "execution_count": 932,
     "metadata": {},
     "output_type": "execute_result"
    }
   ],
   "source": [
    "x1 = Variable(torch.randn(3))\n",
    "x2 = Variable(torch.randn(3))\n",
    "y = Variable(torch.FloatTensor(np.random.choice([1, -1], 3)))\n",
    "\n",
    "x1, x2, y"
   ]
  },
  {
   "cell_type": "code",
   "execution_count": 933,
   "metadata": {},
   "outputs": [
    {
     "data": {
      "text/plain": [
       "Variable containing:\n",
       " 1.5229\n",
       "[torch.FloatTensor of size 1]"
      ]
     },
     "execution_count": 933,
     "metadata": {},
     "output_type": "execute_result"
    }
   ],
   "source": [
    "loss = nn.MarginRankingLoss(margin=0.1)\n",
    "loss(x1, x2, y)"
   ]
  },
  {
   "cell_type": "code",
   "execution_count": 934,
   "metadata": {},
   "outputs": [],
   "source": [
    "x1 = x1.data.numpy()\n",
    "x2 = x2.data.numpy()\n",
    "y = y.data.numpy()\n",
    "margin=0.1"
   ]
  },
  {
   "cell_type": "code",
   "execution_count": 935,
   "metadata": {},
   "outputs": [
    {
     "data": {
      "text/plain": [
       "([2.6717973709106446, 0, 1.896928644180298], 1.5229086716969809)"
      ]
     },
     "execution_count": 935,
     "metadata": {},
     "output_type": "execute_result"
    }
   ],
   "source": [
    "lst = []\n",
    "for i in range(len(x1)):\n",
    "    lst.append(max(0, -y[i]*(x1[i]-x2[i]) + margin))\n",
    "\n",
    "lst, np.mean(lst)"
   ]
  },
  {
   "cell_type": "markdown",
   "metadata": {},
   "source": [
    "## CosineEmbeddingLoss"
   ]
  },
  {
   "cell_type": "code",
   "execution_count": 998,
   "metadata": {},
   "outputs": [
    {
     "data": {
      "text/plain": [
       "(Variable containing:\n",
       " -0.6578  1.1298 -0.8769\n",
       " -0.2806  1.7066  2.8308\n",
       " [torch.FloatTensor of size 2x3], Variable containing:\n",
       " -0.5813  1.3849 -1.2074\n",
       " -1.1931 -1.3090  0.8771\n",
       " [torch.FloatTensor of size 2x3], Variable containing:\n",
       "  1\n",
       "  1\n",
       " [torch.FloatTensor of size 2])"
      ]
     },
     "execution_count": 998,
     "metadata": {},
     "output_type": "execute_result"
    }
   ],
   "source": [
    "x1 = Variable(torch.randn(2, 3))\n",
    "x2 = Variable(torch.randn(2, 3))\n",
    "y = Variable(torch.FloatTensor(np.random.choice([1, -1], 2)))\n",
    "\n",
    "x1, x2, y"
   ]
  },
  {
   "cell_type": "code",
   "execution_count": 999,
   "metadata": {
    "scrolled": false
   },
   "outputs": [
    {
     "data": {
      "text/plain": [
       "Variable containing:\n",
       " 0.4601\n",
       "[torch.FloatTensor of size 1]"
      ]
     },
     "execution_count": 999,
     "metadata": {},
     "output_type": "execute_result"
    }
   ],
   "source": [
    "nn.CosineEmbeddingLoss(margin=0.1)(x1, x2, y)"
   ]
  },
  {
   "cell_type": "code",
   "execution_count": 1000,
   "metadata": {},
   "outputs": [],
   "source": [
    "x1 = x1.data.numpy()\n",
    "x2 = x2.data.numpy()\n",
    "y = y.data.numpy()\n",
    "margin=0.1"
   ]
  },
  {
   "cell_type": "code",
   "execution_count": 1005,
   "metadata": {},
   "outputs": [],
   "source": [
    "from scipy.spatial.distance import cosine\n",
    "\n",
    "def cos(x, y): return 1-cosine(x, y)"
   ]
  },
  {
   "cell_type": "code",
   "execution_count": 1006,
   "metadata": {},
   "outputs": [
    {
     "data": {
      "text/plain": [
       "([0.009168565273284912, 0.9109426885843277], 0.4600556269288063)"
      ]
     },
     "execution_count": 1006,
     "metadata": {},
     "output_type": "execute_result"
    }
   ],
   "source": [
    "lst = []\n",
    "for k in range(len(x1)):\n",
    "    if y[k] == 1: lst.append(1-cos(x1[k], x2[k]))\n",
    "    elif y[k] == -1: lst.append(max(0, cos(x1[k], x2[k])-margin))\n",
    "lst, np.mean(lst)"
   ]
  },
  {
   "cell_type": "markdown",
   "metadata": {},
   "source": [
    "## HingeEmbeddingLoss"
   ]
  },
  {
   "cell_type": "code",
   "execution_count": 925,
   "metadata": {
    "scrolled": true
   },
   "outputs": [
    {
     "data": {
      "text/plain": [
       "(Variable containing:\n",
       "  1.1572 -0.6421  0.6631\n",
       "  0.3357 -0.2172  0.2704\n",
       " [torch.FloatTensor of size 2x3], Variable containing:\n",
       " -1  1 -1\n",
       "  1 -1 -1\n",
       " [torch.FloatTensor of size 2x3])"
      ]
     },
     "execution_count": 925,
     "metadata": {},
     "output_type": "execute_result"
    }
   ],
   "source": [
    "x = Variable(torch.randn(2, 3))\n",
    "y = Variable(torch.FloatTensor(np.random.choice([-1, 1], (2, 3))))\n",
    "\n",
    "x, y"
   ]
  },
  {
   "cell_type": "code",
   "execution_count": 926,
   "metadata": {},
   "outputs": [
    {
     "data": {
      "text/plain": [
       "Variable containing:\n",
       " 0.3295\n",
       "[torch.FloatTensor of size 1]"
      ]
     },
     "execution_count": 926,
     "metadata": {},
     "output_type": "execute_result"
    }
   ],
   "source": [
    "loss = nn.HingeEmbeddingLoss(margin=1)\n",
    "\n",
    "loss(x, y)"
   ]
  },
  {
   "cell_type": "code",
   "execution_count": 927,
   "metadata": {},
   "outputs": [
    {
     "data": {
      "text/plain": [
       "Variable containing:\n",
       " 0.3295\n",
       "[torch.FloatTensor of size 1]"
      ]
     },
     "execution_count": 927,
     "metadata": {},
     "output_type": "execute_result"
    }
   ],
   "source": [
    "loss = nn.HingeEmbeddingLoss(margin=1)\n",
    "\n",
    "loss(x, y)"
   ]
  },
  {
   "cell_type": "code",
   "execution_count": 928,
   "metadata": {},
   "outputs": [],
   "source": [
    "x = x.data.numpy()\n",
    "y = y.data.numpy()\n",
    "margin=1"
   ]
  },
  {
   "cell_type": "code",
   "execution_count": 929,
   "metadata": {},
   "outputs": [
    {
     "data": {
      "text/plain": [
       "([[0, -0.6421209, 0.33689743280410767],\n",
       "  [0.33567223, 1.2171948850154877, 0.7295853793621063]],\n",
       " 0.32953817149003345)"
      ]
     },
     "execution_count": 929,
     "metadata": {},
     "output_type": "execute_result"
    }
   ],
   "source": [
    "lst=[]\n",
    "\n",
    "for i in range(len(x)):\n",
    "    lsti = []\n",
    "    for j in range(len(x[i])):\n",
    "        if y[i][j]==1:\n",
    "            lsti.append(x[i][j])\n",
    "        else:\n",
    "            lsti.append(max(0, margin-x[i][j]))\n",
    "    lst.append(lsti)\n",
    "lst, np.mean(lst)"
   ]
  },
  {
   "cell_type": "markdown",
   "metadata": {},
   "source": [
    "## SoftMarginLoss"
   ]
  },
  {
   "cell_type": "code",
   "execution_count": 943,
   "metadata": {},
   "outputs": [
    {
     "data": {
      "text/plain": [
       "(Variable containing:\n",
       " -0.5403  0.6454 -0.5838  1.8870\n",
       " -0.4422  0.7832  0.8684  0.4095\n",
       " [torch.FloatTensor of size 2x4], Variable containing:\n",
       " -1 -1  1  1\n",
       " -1  1  1 -1\n",
       " [torch.FloatTensor of size 2x4])"
      ]
     },
     "execution_count": 943,
     "metadata": {},
     "output_type": "execute_result"
    }
   ],
   "source": [
    "x = Variable(torch.randn(2, 4))\n",
    "y = Variable(torch.FloatTensor(np.random.choice([-1, 1], (2, 4))))\n",
    "x, y"
   ]
  },
  {
   "cell_type": "code",
   "execution_count": 944,
   "metadata": {},
   "outputs": [
    {
     "data": {
      "text/plain": [
       "Variable containing:\n",
       " 0.6045\n",
       "[torch.FloatTensor of size 1]"
      ]
     },
     "execution_count": 944,
     "metadata": {},
     "output_type": "execute_result"
    }
   ],
   "source": [
    "nn.SoftMarginLoss()(x, y)"
   ]
  },
  {
   "cell_type": "code",
   "execution_count": 946,
   "metadata": {},
   "outputs": [],
   "source": [
    "x = x.data.numpy()\n",
    "y = y.data.numpy()"
   ]
  },
  {
   "cell_type": "code",
   "execution_count": 953,
   "metadata": {},
   "outputs": [
    {
     "data": {
      "text/plain": [
       "([0.6735555645482193, 0.5354263938608341], 0.6044909792045268)"
      ]
     },
     "execution_count": 953,
     "metadata": {},
     "output_type": "execute_result"
    }
   ],
   "source": [
    "lst = []\n",
    "for k in range(len(x)):\n",
    "    sm = 0\n",
    "    for i in range(len(x[k])):\n",
    "        sm += np.log(1 + np.exp(-y[k][i]*x[k][i]))\n",
    "    lst.append(sm/len(x[k]))\n",
    "\n",
    "lst, np.mean(lst)"
   ]
  },
  {
   "cell_type": "markdown",
   "metadata": {},
   "source": [
    "## MultiLabelSoftMarginLoss"
   ]
  },
  {
   "cell_type": "code",
   "execution_count": 960,
   "metadata": {},
   "outputs": [
    {
     "data": {
      "text/plain": [
       "(Variable containing:\n",
       "  0.9519 -1.7461  1.3948 -0.6149\n",
       " -1.0579  1.0021  0.4493  0.9648\n",
       " [torch.FloatTensor of size 2x4], Variable containing:\n",
       "  0  1  1  0\n",
       "  0  1  1  0\n",
       " [torch.FloatTensor of size 2x4])"
      ]
     },
     "execution_count": 960,
     "metadata": {},
     "output_type": "execute_result"
    }
   ],
   "source": [
    "x = Variable(torch.randn(2, 4))\n",
    "y = Variable(torch.FloatTensor(2, 4).random_(2))\n",
    "x, y"
   ]
  },
  {
   "cell_type": "code",
   "execution_count": 961,
   "metadata": {},
   "outputs": [
    {
     "data": {
      "text/plain": [
       "Variable containing:\n",
       " 0.7789\n",
       "[torch.FloatTensor of size 1]"
      ]
     },
     "execution_count": 961,
     "metadata": {},
     "output_type": "execute_result"
    }
   ],
   "source": [
    "nn.MultiLabelSoftMarginLoss()(x, y)"
   ]
  },
  {
   "cell_type": "code",
   "execution_count": 962,
   "metadata": {},
   "outputs": [],
   "source": [
    "x = x.data.numpy()\n",
    "y = y.data.numpy()"
   ]
  },
  {
   "cell_type": "code",
   "execution_count": 963,
   "metadata": {},
   "outputs": [
    {
     "data": {
      "text/plain": [
       "array([[ 0.95191175, -1.7461263 ,  1.3948442 , -0.6149174 ],\n",
       "       [-1.0578853 ,  1.0020678 ,  0.449279  ,  0.9647633 ]],\n",
       "      dtype=float32)"
      ]
     },
     "execution_count": 963,
     "metadata": {},
     "output_type": "execute_result"
    }
   ],
   "source": [
    "x"
   ]
  },
  {
   "cell_type": "code",
   "execution_count": 967,
   "metadata": {},
   "outputs": [
    {
     "data": {
      "text/plain": [
       "([0.9597317867191937, 0.5979701125383068], 0.7788509496287502)"
      ]
     },
     "execution_count": 967,
     "metadata": {},
     "output_type": "execute_result"
    }
   ],
   "source": [
    "lst = []\n",
    "for k in range(len(x)):\n",
    "    sm = 0\n",
    "    for i in range(len(x[k])):\n",
    "        sm -= y[k, i]*np.log(np.exp(x[k, i])/(1+np.exp(x[k, i]))) +\\\n",
    "            (1-y[k, i])*np.log(1/(1+np.exp(x[k, i])))\n",
    "    lst.append(sm/len(x[k]))\n",
    "\n",
    "lst, np.mean(lst)"
   ]
  },
  {
   "cell_type": "markdown",
   "metadata": {},
   "source": [
    "## MultiMarginLoss"
   ]
  },
  {
   "cell_type": "code",
   "execution_count": 1028,
   "metadata": {},
   "outputs": [
    {
     "data": {
      "text/plain": [
       "(Variable containing:\n",
       " -1.3295  0.0457 -0.7483  0.1449\n",
       "  1.6071 -0.3044 -1.7754 -1.3274\n",
       " [torch.FloatTensor of size 2x4], Variable containing:\n",
       "  2\n",
       "  2\n",
       " [torch.LongTensor of size 2])"
      ]
     },
     "execution_count": 1028,
     "metadata": {},
     "output_type": "execute_result"
    }
   ],
   "source": [
    "x = Variable(torch.randn(2, 4))\n",
    "y = Variable(torch.LongTensor(2).random_(4))\n",
    "x, y"
   ]
  },
  {
   "cell_type": "code",
   "execution_count": 1029,
   "metadata": {},
   "outputs": [
    {
     "data": {
      "text/plain": [
       "Variable containing:\n",
       " 3.9957\n",
       "[torch.FloatTensor of size 1]"
      ]
     },
     "execution_count": 1029,
     "metadata": {},
     "output_type": "execute_result"
    }
   ],
   "source": [
    "nn.MultiMarginLoss(margin=0.9, p=2)(x, y)"
   ]
  },
  {
   "cell_type": "code",
   "execution_count": 1030,
   "metadata": {},
   "outputs": [],
   "source": [
    "x = x.data.numpy()\n",
    "y = y.data.numpy()\n",
    "p=2\n",
    "margin=0.9"
   ]
  },
  {
   "cell_type": "code",
   "execution_count": 1031,
   "metadata": {},
   "outputs": [
    {
     "data": {
      "text/plain": [
       "([1.5467576592855885, 6.444682319593388], 3.9957199894394884)"
      ]
     },
     "execution_count": 1031,
     "metadata": {},
     "output_type": "execute_result"
    }
   ],
   "source": [
    "lst = []\n",
    "for k in range(len(x)):\n",
    "    sm = 0\n",
    "    for i in range(len(x[k])):\n",
    "        if i!= y[k]:\n",
    "            sm += max(0, (margin - x[k, y[k]] + x[k, i])**p)\n",
    "    lst.append(sm/len(x[k]))\n",
    "\n",
    "lst, np.mean(lst)"
   ]
  },
  {
   "cell_type": "markdown",
   "metadata": {},
   "source": [
    "## MultiLabelMarginLoss"
   ]
  },
  {
   "cell_type": "markdown",
   "metadata": {},
   "source": [
    "This is a very confusing class.\n",
    "\n",
    "Good reference here: https://blog.csdn.net/zhangxb35/article/details/72464152"
   ]
  },
  {
   "cell_type": "markdown",
   "metadata": {},
   "source": [
    "### one-sample example"
   ]
  },
  {
   "cell_type": "code",
   "execution_count": 887,
   "metadata": {
    "scrolled": true
   },
   "outputs": [
    {
     "data": {
      "text/plain": [
       "(Variable containing:\n",
       " -0.6506  0.3167 -0.6152  0.6360\n",
       " [torch.FloatTensor of size 1x4], Variable containing:\n",
       "  2  1  2  3\n",
       " [torch.LongTensor of size 1x4])"
      ]
     },
     "execution_count": 887,
     "metadata": {},
     "output_type": "execute_result"
    }
   ],
   "source": [
    "x = Variable(torch.randn(1, 4))\n",
    "y = Variable(torch.LongTensor(1, 4).random_(-1, 4))\n",
    "x, y"
   ]
  },
  {
   "cell_type": "code",
   "execution_count": 888,
   "metadata": {},
   "outputs": [
    {
     "data": {
      "text/plain": [
       "Variable containing:\n",
       " 0.4904\n",
       "[torch.FloatTensor of size 1]"
      ]
     },
     "execution_count": 888,
     "metadata": {},
     "output_type": "execute_result"
    }
   ],
   "source": [
    "nn.MultiLabelMarginLoss()(x, y)"
   ]
  },
  {
   "cell_type": "code",
   "execution_count": 889,
   "metadata": {},
   "outputs": [
    {
     "data": {
      "text/plain": [
       "Variable containing:\n",
       " 0.4904\n",
       "[torch.FloatTensor of size 1]"
      ]
     },
     "execution_count": 889,
     "metadata": {},
     "output_type": "execute_result"
    }
   ],
   "source": [
    "nn.MultiLabelMarginLoss(size_average=False)(x, y)"
   ]
  },
  {
   "cell_type": "code",
   "execution_count": 890,
   "metadata": {},
   "outputs": [],
   "source": [
    "x = x.data.numpy()\n",
    "y = y.data.numpy()"
   ]
  },
  {
   "cell_type": "raw",
   "metadata": {},
   "source": [
    "lst = []\n",
    "for k in range(len(x)):\n",
    "    sm = 0\n",
    "    for i in range(len(x[k])):\n",
    "        for j in range(len(y[k])):\n",
    "            if i!=y[k][j] and y[k][j]>=0:\n",
    "                sm += max(0, 1-(x[k][y[k][j]] - x[k][i]))\n",
    "            if y[k][j]<0: break\n",
    "    lst.append(sm/len(x[k]))"
   ]
  },
  {
   "cell_type": "code",
   "execution_count": 891,
   "metadata": {},
   "outputs": [
    {
     "name": "stdout",
     "output_type": "stream",
     "text": [
      "0 2\n",
      "0 1\n",
      "0 2\n",
      "0 3\n"
     ]
    }
   ],
   "source": [
    "lst = []\n",
    "for k in range(len(x)):\n",
    "    sm = 0\n",
    "    js = []\n",
    "    for j in range(len(y[k])):\n",
    "        if y[k][j]<0: break \n",
    "        js.append(y[k][j])\n",
    "    for i in range(len(x[k])):\n",
    "        for j in js:\n",
    "            if (i not in js) and (i!=j):\n",
    "                print(i, j)\n",
    "                sm += max(0, 1-(x[k][j] - x[k][i]))\n",
    "    lst.append(sm/len(x[k]))"
   ]
  },
  {
   "cell_type": "code",
   "execution_count": 893,
   "metadata": {},
   "outputs": [
    {
     "data": {
      "text/plain": [
       "([0.49042969942092896], 0.49042969942092896)"
      ]
     },
     "execution_count": 893,
     "metadata": {},
     "output_type": "execute_result"
    }
   ],
   "source": [
    "lst, np.mean(lst)"
   ]
  },
  {
   "cell_type": "markdown",
   "metadata": {},
   "source": [
    "### multi-sample example"
   ]
  },
  {
   "cell_type": "code",
   "execution_count": 884,
   "metadata": {
    "scrolled": true
   },
   "outputs": [
    {
     "data": {
      "text/plain": [
       "(Variable containing:\n",
       "  0.3417 -0.8535 -0.4887 -0.0776\n",
       " -0.2759  0.6853  0.9657 -0.7807\n",
       " -0.8177  2.2398 -0.3814  0.2490\n",
       " [torch.FloatTensor of size 3x4], Variable containing:\n",
       "  2  0  3  2\n",
       "  3 -1 -1  0\n",
       "  1  3  3 -1\n",
       " [torch.LongTensor of size 3x4])"
      ]
     },
     "execution_count": 884,
     "metadata": {},
     "output_type": "execute_result"
    }
   ],
   "source": [
    "x = Variable(torch.randn(3, 4))\n",
    "y = Variable(torch.LongTensor(3, 4).random_(-1, 4))\n",
    "x, y"
   ]
  },
  {
   "cell_type": "code",
   "execution_count": 885,
   "metadata": {},
   "outputs": [
    {
     "data": {
      "text/plain": [
       "Variable containing:\n",
       " 0.7459\n",
       "[torch.FloatTensor of size 1]"
      ]
     },
     "execution_count": 885,
     "metadata": {},
     "output_type": "execute_result"
    }
   ],
   "source": [
    "nn.MultiLabelMarginLoss()(x, y)"
   ]
  },
  {
   "cell_type": "code",
   "execution_count": 886,
   "metadata": {},
   "outputs": [
    {
     "data": {
      "text/plain": [
       "([0.3735904395580292, 1.6793406158685684, 0.1847691535949707],\n",
       " 0.7459000696738561)"
      ]
     },
     "execution_count": 886,
     "metadata": {},
     "output_type": "execute_result"
    }
   ],
   "source": [
    "x = x.data.numpy()\n",
    "y = y.data.numpy()\n",
    "\n",
    "lst = []\n",
    "for k in range(len(x)):\n",
    "    sm = 0\n",
    "    js = []\n",
    "    for j in range(len(y[k])):\n",
    "        if y[k][j]<0: break \n",
    "        js.append(y[k][j])\n",
    "    for i in range(len(x[k])):\n",
    "        for j in js:\n",
    "            if (i not in js) and (i!=j):\n",
    "                sm += max(0, 1-(x[k][j] - x[k][i]))\n",
    "    lst.append(sm/len(x[k]))\n",
    "\n",
    "lst, np.mean(lst)"
   ]
  },
  {
   "cell_type": "markdown",
   "metadata": {},
   "source": [
    "## TripletMarginLoss"
   ]
  },
  {
   "cell_type": "code",
   "execution_count": 1086,
   "metadata": {},
   "outputs": [
    {
     "data": {
      "text/plain": [
       "Variable containing:\n",
       " 0.1787 -0.4287 -0.4904\n",
       " 0.1283  1.4535  0.8618\n",
       "[torch.FloatTensor of size 2x3]"
      ]
     },
     "execution_count": 1086,
     "metadata": {},
     "output_type": "execute_result"
    }
   ],
   "source": [
    "x1 = Variable(torch.randn(2, 3))\n",
    "x2 = Variable(torch.randn(2, 3))\n",
    "x3 = Variable(torch.randn(2, 3))\n",
    "margin = 0.9\n",
    "p = 2\n",
    "\n",
    "x1"
   ]
  },
  {
   "cell_type": "code",
   "execution_count": 1087,
   "metadata": {},
   "outputs": [
    {
     "data": {
      "text/plain": [
       "Variable containing:\n",
       " 1.4847\n",
       "[torch.FloatTensor of size 1]"
      ]
     },
     "execution_count": 1087,
     "metadata": {},
     "output_type": "execute_result"
    }
   ],
   "source": [
    "nn.TripletMarginLoss(margin=margin, p=p)(x1, x2, x3)"
   ]
  },
  {
   "cell_type": "code",
   "execution_count": 1088,
   "metadata": {},
   "outputs": [],
   "source": [
    "x1 = x1.data.numpy()\n",
    "x2 = x2.data.numpy()\n",
    "x3 = x3.data.numpy()"
   ]
  },
  {
   "cell_type": "code",
   "execution_count": 1089,
   "metadata": {},
   "outputs": [],
   "source": [
    "def d(x1, x2, p):\n",
    "    return sum((x1-x2)**p)**(1/p)"
   ]
  },
  {
   "cell_type": "code",
   "execution_count": 1090,
   "metadata": {},
   "outputs": [
    {
     "data": {
      "text/plain": [
       "([1.2372308732768493, 1.7321720352507974], 1.4847014542638233)"
      ]
     },
     "execution_count": 1090,
     "metadata": {},
     "output_type": "execute_result"
    }
   ],
   "source": [
    "lst = []\n",
    "for k in range(len(x1)):\n",
    "    sm = 0\n",
    "    for i in range(len(x1[k])):\n",
    "        sm += max(d(x1[k], x2[k], p)-d(x1[k], x3[k], p)+margin, 0) \n",
    "    lst.append(sm/len(x1[k]))\n",
    "\n",
    "lst, np.mean(lst)"
   ]
  },
  {
   "cell_type": "code",
   "execution_count": null,
   "metadata": {},
   "outputs": [],
   "source": []
  }
 ],
 "metadata": {
  "kernelspec": {
   "display_name": "Python 3",
   "language": "python",
   "name": "python3"
  },
  "language_info": {
   "codemirror_mode": {
    "name": "ipython",
    "version": 3
   },
   "file_extension": ".py",
   "mimetype": "text/x-python",
   "name": "python",
   "nbconvert_exporter": "python",
   "pygments_lexer": "ipython3",
   "version": "3.6.5"
  },
  "toc": {
   "base_numbering": 1,
   "nav_menu": {},
   "number_sections": true,
   "sideBar": true,
   "skip_h1_title": false,
   "title_cell": "Table of Contents",
   "title_sidebar": "Contents",
   "toc_cell": false,
   "toc_position": {},
   "toc_section_display": true,
   "toc_window_display": true
  }
 },
 "nbformat": 4,
 "nbformat_minor": 2
}
