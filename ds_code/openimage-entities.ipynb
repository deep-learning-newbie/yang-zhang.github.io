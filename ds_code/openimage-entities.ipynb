{
 "cells": [
  {
   "cell_type": "raw",
   "metadata": {},
   "source": [
    "# https://github.com/openimages/dataset/blob/master/READMEV3.md\n",
    "!wget https://storage.googleapis.com/openimages/2017_11/class-descriptions.csv "
   ]
  },
  {
   "cell_type": "raw",
   "metadata": {},
   "source": [
    "# https://storage.googleapis.com/openimages/web/factsfigures.html\n",
    "!wget https://storage.googleapis.com/openimages/2018_04/bbox_labels_600_hierarchy.json"
   ]
  },
  {
   "cell_type": "code",
   "execution_count": 1,
   "metadata": {},
   "outputs": [],
   "source": [
    "import pandas as pd"
   ]
  },
  {
   "cell_type": "code",
   "execution_count": 2,
   "metadata": {},
   "outputs": [],
   "source": [
    "dfc = pd.read_csv('class-descriptions.csv', header=None)\n",
    "dfc.columns = ['LabelName', 'name']"
   ]
  },
  {
   "cell_type": "code",
   "execution_count": 3,
   "metadata": {},
   "outputs": [
    {
     "data": {
      "text/plain": [
       "(19995, 2)"
      ]
     },
     "execution_count": 3,
     "metadata": {},
     "output_type": "execute_result"
    }
   ],
   "source": [
    "dfc.shape"
   ]
  },
  {
   "cell_type": "code",
   "execution_count": 4,
   "metadata": {},
   "outputs": [
    {
     "data": {
      "text/html": [
       "<div>\n",
       "<style scoped>\n",
       "    .dataframe tbody tr th:only-of-type {\n",
       "        vertical-align: middle;\n",
       "    }\n",
       "\n",
       "    .dataframe tbody tr th {\n",
       "        vertical-align: top;\n",
       "    }\n",
       "\n",
       "    .dataframe thead th {\n",
       "        text-align: right;\n",
       "    }\n",
       "</style>\n",
       "<table border=\"1\" class=\"dataframe\">\n",
       "  <thead>\n",
       "    <tr style=\"text-align: right;\">\n",
       "      <th></th>\n",
       "      <th>LabelName</th>\n",
       "      <th>name</th>\n",
       "    </tr>\n",
       "  </thead>\n",
       "  <tbody>\n",
       "    <tr>\n",
       "      <th>0</th>\n",
       "      <td>/m/0100nhbf</td>\n",
       "      <td>Sprenger's tulip</td>\n",
       "    </tr>\n",
       "    <tr>\n",
       "      <th>1</th>\n",
       "      <td>/m/0104x9kv</td>\n",
       "      <td>Vinegret</td>\n",
       "    </tr>\n",
       "    <tr>\n",
       "      <th>2</th>\n",
       "      <td>/m/0105jzwx</td>\n",
       "      <td>Dabu-dabu</td>\n",
       "    </tr>\n",
       "    <tr>\n",
       "      <th>3</th>\n",
       "      <td>/m/0105ld7g</td>\n",
       "      <td>Pistachio ice cream</td>\n",
       "    </tr>\n",
       "    <tr>\n",
       "      <th>4</th>\n",
       "      <td>/m/0105lxy5</td>\n",
       "      <td>Woku</td>\n",
       "    </tr>\n",
       "  </tbody>\n",
       "</table>\n",
       "</div>"
      ],
      "text/plain": [
       "     LabelName                 name\n",
       "0  /m/0100nhbf     Sprenger's tulip\n",
       "1  /m/0104x9kv             Vinegret\n",
       "2  /m/0105jzwx            Dabu-dabu\n",
       "3  /m/0105ld7g  Pistachio ice cream\n",
       "4  /m/0105lxy5                 Woku"
      ]
     },
     "execution_count": 4,
     "metadata": {},
     "output_type": "execute_result"
    }
   ],
   "source": [
    "dfc.head()"
   ]
  },
  {
   "cell_type": "code",
   "execution_count": 5,
   "metadata": {},
   "outputs": [],
   "source": [
    "lbl2name=dict(zip(dfc.LabelName, dfc.name))"
   ]
  },
  {
   "cell_type": "code",
   "execution_count": 6,
   "metadata": {},
   "outputs": [
    {
     "data": {
      "text/plain": [
       "False"
      ]
     },
     "execution_count": 6,
     "metadata": {},
     "output_type": "execute_result"
    }
   ],
   "source": [
    "name2lbl={v:k for k,v in lbl2name.items()}\n",
    "len(lbl2name)==len(name2lbl)"
   ]
  },
  {
   "cell_type": "code",
   "execution_count": 7,
   "metadata": {
    "scrolled": true
   },
   "outputs": [
    {
     "data": {
      "text/plain": [
       "[('/m/01g317', 'Person')]"
      ]
     },
     "execution_count": 7,
     "metadata": {},
     "output_type": "execute_result"
    }
   ],
   "source": [
    "[o for o in lbl2name.items() if o[1]=='Person']"
   ]
  },
  {
   "cell_type": "code",
   "execution_count": 8,
   "metadata": {
    "scrolled": true
   },
   "outputs": [
    {
     "data": {
      "text/plain": [
       "(dict_keys(['LabelName', 'Subcategory']), 2, 90)"
      ]
     },
     "execution_count": 8,
     "metadata": {},
     "output_type": "execute_result"
    }
   ],
   "source": [
    "hier = json.load(open('bbox_labels_600_hierarchy.json'))\n",
    "hier.keys(), len(hier), len(hier['Subcategory'])"
   ]
  },
  {
   "cell_type": "raw",
   "metadata": {},
   "source": [
    "hier['Subcategory']"
   ]
  },
  {
   "cell_type": "code",
   "execution_count": 10,
   "metadata": {},
   "outputs": [
    {
     "data": {
      "text/plain": [
       "848"
      ]
     },
     "execution_count": 10,
     "metadata": {},
     "output_type": "execute_result"
    }
   ],
   "source": [
    "def get_all_children(dct):\n",
    "    allchildren = []\n",
    "    def getallchildren(dct):\n",
    "        allchildren.append(dct['LabelName'])\n",
    "        for k in dct.keys():\n",
    "            if k != 'LabelName':\n",
    "                for o in dct[k]:\n",
    "                    getallchildren(o)\n",
    "    getallchildren(dct)\n",
    "    return allchildren\n",
    "\n",
    "len(get_all_children(hier))"
   ]
  },
  {
   "cell_type": "code",
   "execution_count": 81,
   "metadata": {},
   "outputs": [],
   "source": [
    "def find_a_child(dct, key):\n",
    "    result = []\n",
    "    def findachild(dkt, key):\n",
    "        if dkt['LabelName'] == key:\n",
    "            result.append(dkt)\n",
    "        else:\n",
    "            for k in dkt.keys():\n",
    "                if k != 'LabelName':\n",
    "                    for o in dkt[k]:\n",
    "                        findachild(o, key)\n",
    "    findachild(dct, key)\n",
    "    return result[0]"
   ]
  },
  {
   "cell_type": "code",
   "execution_count": 91,
   "metadata": {
    "scrolled": true
   },
   "outputs": [],
   "source": [
    "k=[o for o in lbl2name.items() if o[1]=='Person'][0][0]"
   ]
  },
  {
   "cell_type": "code",
   "execution_count": 92,
   "metadata": {
    "scrolled": true
   },
   "outputs": [],
   "source": [
    "k=[o for o in lbl2name.items() if o[1]=='Clothing'][0][0]"
   ]
  },
  {
   "cell_type": "code",
   "execution_count": 93,
   "metadata": {
    "collapsed": true
   },
   "outputs": [
    {
     "data": {
      "text/plain": [
       "{'LabelName': '/m/09j2d',\n",
       " 'Subcategory': [{'LabelName': '/m/01bfm9'},\n",
       "  {'LabelName': '/m/01d40f'},\n",
       "  {'LabelName': '/m/01gkx_'},\n",
       "  {'LabelName': '/m/01gmv2'},\n",
       "  {'LabelName': '/m/01krhy'},\n",
       "  {'LabelName': '/m/01n4qj'},\n",
       "  {'LabelName': '/m/01xygc'},\n",
       "  {'LabelName': '/m/01xyhv'},\n",
       "  {'LabelName': '/m/02dl1y',\n",
       "   'Subcategory': [{'LabelName': '/m/025rp__'},\n",
       "    {'LabelName': '/m/02fq_6'},\n",
       "    {'LabelName': '/m/02jfl0'},\n",
       "    {'LabelName': '/m/02wbtzl'}]},\n",
       "  {'LabelName': '/m/02h19r'},\n",
       "  {'LabelName': '/m/02wv6h6', 'Subcategory': [{'LabelName': '/m/01cmb2'}]},\n",
       "  {'LabelName': '/m/032b3c'},\n",
       "  {'LabelName': '/m/0463sg',\n",
       "   'Subcategory': [{'LabelName': '/m/0174n1',\n",
       "     'Subcategory': [{'LabelName': '/m/03grzl'}]},\n",
       "    {'LabelName': '/m/0176mf'},\n",
       "    {'LabelName': '/m/017ftj'},\n",
       "    {'LabelName': '/m/01krhy'},\n",
       "    {'LabelName': '/m/01llwg'},\n",
       "    {'LabelName': '/m/01nq26'},\n",
       "    {'LabelName': '/m/01r546'},\n",
       "    {'LabelName': '/m/01rkbr'},\n",
       "    {'LabelName': '/m/02_n6y'},\n",
       "    {'LabelName': '/m/02dl1y',\n",
       "     'Subcategory': [{'LabelName': '/m/025rp__'},\n",
       "      {'LabelName': '/m/02fq_6'},\n",
       "      {'LabelName': '/m/02jfl0'},\n",
       "      {'LabelName': '/m/02wbtzl'}]},\n",
       "    {'LabelName': '/m/02h19r'},\n",
       "    {'LabelName': '/m/080hkjn'},\n",
       "    {'LabelName': '/m/0gjkl'},\n",
       "    {'LabelName': '/m/0hnnb'},\n",
       "    {'LabelName': '/m/0jyfg'},\n",
       "    {'LabelName': '/m/0nl46'}]},\n",
       "  {'LabelName': '/m/04tn4x'},\n",
       "  {'LabelName': '/m/07mhn', 'Subcategory': [{'LabelName': '/m/0fly7'}]},\n",
       "  {'LabelName': '/m/09j5n',\n",
       "   'Subcategory': [{'LabelName': '/m/02p3w7d'},\n",
       "    {'LabelName': '/m/01b638'},\n",
       "    {'LabelName': '/m/06k2mb'},\n",
       "    {'LabelName': '/m/03nfch'}]},\n",
       "  {'LabelName': '/m/0h8mhzd'},\n",
       "  {'LabelName': '/m/0hf58v5',\n",
       "   'Subcategory': [{'LabelName': '/m/01940j'},\n",
       "    {'LabelName': '/m/01s55n'},\n",
       "    {'LabelName': '/m/0584n8'},\n",
       "    {'LabelName': '/m/080hkjn'}]},\n",
       "  {'LabelName': '/m/0zvk5',\n",
       "   'Subcategory': [{'LabelName': '/m/03p3bw'}, {'LabelName': '/m/07qxg_'}]}]}"
      ]
     },
     "execution_count": 93,
     "metadata": {},
     "output_type": "execute_result"
    }
   ],
   "source": [
    "hier_sub = find_a_child(hier, k)\n",
    "hier_sub"
   ]
  },
  {
   "cell_type": "code",
   "execution_count": 94,
   "metadata": {
    "collapsed": true
   },
   "outputs": [
    {
     "data": {
      "text/plain": [
       "['/m/09j2d',\n",
       " '/m/01bfm9',\n",
       " '/m/01d40f',\n",
       " '/m/01gkx_',\n",
       " '/m/01gmv2',\n",
       " '/m/01krhy',\n",
       " '/m/01n4qj',\n",
       " '/m/01xygc',\n",
       " '/m/01xyhv',\n",
       " '/m/02dl1y',\n",
       " '/m/025rp__',\n",
       " '/m/02fq_6',\n",
       " '/m/02jfl0',\n",
       " '/m/02wbtzl',\n",
       " '/m/02h19r',\n",
       " '/m/02wv6h6',\n",
       " '/m/01cmb2',\n",
       " '/m/032b3c',\n",
       " '/m/0463sg',\n",
       " '/m/0174n1',\n",
       " '/m/03grzl',\n",
       " '/m/0176mf',\n",
       " '/m/017ftj',\n",
       " '/m/01krhy',\n",
       " '/m/01llwg',\n",
       " '/m/01nq26',\n",
       " '/m/01r546',\n",
       " '/m/01rkbr',\n",
       " '/m/02_n6y',\n",
       " '/m/02dl1y',\n",
       " '/m/025rp__',\n",
       " '/m/02fq_6',\n",
       " '/m/02jfl0',\n",
       " '/m/02wbtzl',\n",
       " '/m/02h19r',\n",
       " '/m/080hkjn',\n",
       " '/m/0gjkl',\n",
       " '/m/0hnnb',\n",
       " '/m/0jyfg',\n",
       " '/m/0nl46',\n",
       " '/m/04tn4x',\n",
       " '/m/07mhn',\n",
       " '/m/0fly7',\n",
       " '/m/09j5n',\n",
       " '/m/02p3w7d',\n",
       " '/m/01b638',\n",
       " '/m/06k2mb',\n",
       " '/m/03nfch',\n",
       " '/m/0h8mhzd',\n",
       " '/m/0hf58v5',\n",
       " '/m/01940j',\n",
       " '/m/01s55n',\n",
       " '/m/0584n8',\n",
       " '/m/080hkjn',\n",
       " '/m/0zvk5',\n",
       " '/m/03p3bw',\n",
       " '/m/07qxg_']"
      ]
     },
     "execution_count": 94,
     "metadata": {},
     "output_type": "execute_result"
    }
   ],
   "source": [
    "get_all_children(hier_sub)"
   ]
  },
  {
   "cell_type": "code",
   "execution_count": 95,
   "metadata": {
    "collapsed": true
   },
   "outputs": [
    {
     "data": {
      "text/plain": [
       "['Clothing',\n",
       " 'Shorts',\n",
       " 'Dress',\n",
       " 'Swimwear',\n",
       " 'Brassiere',\n",
       " 'Tiara',\n",
       " 'Shirt',\n",
       " 'Coat',\n",
       " 'Suit',\n",
       " 'Hat',\n",
       " 'Cowboy hat',\n",
       " 'Fedora',\n",
       " 'Sombrero',\n",
       " 'Sun hat',\n",
       " 'Scarf',\n",
       " 'Skirt',\n",
       " 'Miniskirt',\n",
       " 'Jacket',\n",
       " 'Fashion accessory',\n",
       " 'Glove',\n",
       " 'Baseball glove',\n",
       " 'Belt',\n",
       " 'Sunglasses',\n",
       " 'Tiara',\n",
       " 'Necklace',\n",
       " 'Sock',\n",
       " 'Earrings',\n",
       " 'Tie',\n",
       " 'Goggles',\n",
       " 'Hat',\n",
       " 'Cowboy hat',\n",
       " 'Fedora',\n",
       " 'Sombrero',\n",
       " 'Sun hat',\n",
       " 'Scarf',\n",
       " 'Handbag',\n",
       " 'Watch',\n",
       " 'Umbrella',\n",
       " 'Glasses',\n",
       " 'Crown',\n",
       " 'Swim cap',\n",
       " 'Trousers',\n",
       " 'Jeans',\n",
       " 'Footwear',\n",
       " 'Roller skates',\n",
       " 'Boot',\n",
       " 'High heels',\n",
       " 'Sandal',\n",
       " 'Sports uniform',\n",
       " 'Luggage and bags',\n",
       " 'Backpack',\n",
       " 'Suitcase',\n",
       " 'Briefcase',\n",
       " 'Handbag',\n",
       " 'Helmet',\n",
       " 'Bicycle helmet',\n",
       " 'Football helmet']"
      ]
     },
     "execution_count": 95,
     "metadata": {},
     "output_type": "execute_result"
    }
   ],
   "source": [
    "[lbl2name[o] for o in get_all_children(hier_sub)]"
   ]
  },
  {
   "cell_type": "code",
   "execution_count": null,
   "metadata": {},
   "outputs": [],
   "source": []
  },
  {
   "cell_type": "code",
   "execution_count": null,
   "metadata": {},
   "outputs": [],
   "source": []
  },
  {
   "cell_type": "code",
   "execution_count": null,
   "metadata": {},
   "outputs": [],
   "source": []
  },
  {
   "cell_type": "code",
   "execution_count": null,
   "metadata": {},
   "outputs": [],
   "source": []
  }
 ],
 "metadata": {
  "kernelspec": {
   "display_name": "Python [conda env:anaconda3]",
   "language": "python",
   "name": "conda-env-anaconda3-py"
  },
  "language_info": {
   "codemirror_mode": {
    "name": "ipython",
    "version": 3
   },
   "file_extension": ".py",
   "mimetype": "text/x-python",
   "name": "python",
   "nbconvert_exporter": "python",
   "pygments_lexer": "ipython3",
   "version": "3.6.5"
  },
  "toc": {
   "base_numbering": 1,
   "nav_menu": {},
   "number_sections": true,
   "sideBar": true,
   "skip_h1_title": false,
   "title_cell": "Table of Contents",
   "title_sidebar": "Contents",
   "toc_cell": false,
   "toc_position": {},
   "toc_section_display": true,
   "toc_window_display": false
  }
 },
 "nbformat": 4,
 "nbformat_minor": 2
}
