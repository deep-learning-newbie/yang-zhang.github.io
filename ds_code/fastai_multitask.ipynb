{
 "cells": [
  {
   "cell_type": "code",
   "execution_count": 308,
   "metadata": {},
   "outputs": [
    {
     "data": {
      "text/plain": [
       "'1.0.43.post1'"
      ]
     },
     "execution_count": 308,
     "metadata": {},
     "output_type": "execute_result"
    }
   ],
   "source": [
    "import fastai; fastai.__version__"
   ]
  },
  {
   "cell_type": "code",
   "execution_count": 309,
   "metadata": {},
   "outputs": [],
   "source": [
    "%reload_ext autoreload\n",
    "%autoreload 2\n",
    "%matplotlib inline\n",
    "\n",
    "from fastai.vision import *\n",
    "import string"
   ]
  },
  {
   "cell_type": "markdown",
   "metadata": {},
   "source": [
    "# create data"
   ]
  },
  {
   "cell_type": "code",
   "execution_count": 310,
   "metadata": {},
   "outputs": [
    {
     "data": {
      "text/plain": [
       "[PosixPath('/data/fastai/oxford-iiit-pet/other'),\n",
       " PosixPath('/data/fastai/oxford-iiit-pet/annotations'),\n",
       " PosixPath('/data/fastai/oxford-iiit-pet/models'),\n",
       " PosixPath('/data/fastai/oxford-iiit-pet/images')]"
      ]
     },
     "execution_count": 310,
     "metadata": {},
     "output_type": "execute_result"
    }
   ],
   "source": [
    "path = untar_data(URLs.PETS, dest='/data/fastai/')\n",
    "\n",
    "path.ls()"
   ]
  },
  {
   "cell_type": "code",
   "execution_count": 311,
   "metadata": {},
   "outputs": [],
   "source": [
    "path_anno = path/'annotations'\n",
    "path_img = path/'images'"
   ]
  },
  {
   "cell_type": "code",
   "execution_count": 312,
   "metadata": {},
   "outputs": [],
   "source": [
    "# fastai\n",
    "pat = r'/([^/]+)_\\d+.jpg$'\n",
    "pat = re.compile(pat)\n",
    "def _get_label(fn): \n",
    "    if isinstance(fn, Path): fn = fn.as_posix()\n",
    "    res = pat.search(str(fn))\n",
    "    assert res,f'Failed to find \"{pat}\" in \"{fn}\"'\n",
    "    return res.group(1)"
   ]
  },
  {
   "cell_type": "code",
   "execution_count": 313,
   "metadata": {},
   "outputs": [],
   "source": [
    "imgs = np.random.choice([o for o in path_img.ls() if o.suffix=='.jpg'], 100)\n",
    "\n",
    "np.random.seed(42)\n",
    "cat1 = [_get_label(o) for o in imgs]\n",
    "cat2 = np.random.choice(list(['A', 'B']), len(imgs))\n",
    "mcat1 = [np.random.choice(list(['x', 'y', 'z']), np.random.choice(range(3)), replace=False) for _ in range(len(imgs))]\n",
    "mcat2 = [np.random.choice(list(['ccc', 'sss', 'nnn', 'www']), np.random.choice(range(4)), replace=False) \n",
    "         for _ in range(len(imgs))]\n",
    "num1 = [np.random.randn() for _ in range(len(imgs))]\n",
    "num2 = [np.random.rand() for _ in range(len(imgs))]\n",
    "\n",
    "df_full = pd.DataFrame({'img': [o.stem for o in imgs], \n",
    "                  'cat1': cat1, 'cat2': cat2, \n",
    "                   'mcat1': [\" \".join(o) for o in mcat1],\n",
    "                   'mcat2': [\" \".join(o) for o in mcat2],\n",
    "                   'num1': num1,\n",
    "                   'num2': num2,\n",
    "                  })\n",
    "df_full['is_valid'] = np.random.choice([True,False], len(df_full), p=[0.2, 0.8])"
   ]
  },
  {
   "cell_type": "code",
   "execution_count": 314,
   "metadata": {},
   "outputs": [
    {
     "data": {
      "text/plain": [
       "(100, 8)"
      ]
     },
     "execution_count": 314,
     "metadata": {},
     "output_type": "execute_result"
    }
   ],
   "source": [
    "df_full.shape"
   ]
  },
  {
   "cell_type": "code",
   "execution_count": 315,
   "metadata": {},
   "outputs": [
    {
     "data": {
      "text/html": [
       "<div>\n",
       "<style scoped>\n",
       "    .dataframe tbody tr th:only-of-type {\n",
       "        vertical-align: middle;\n",
       "    }\n",
       "\n",
       "    .dataframe tbody tr th {\n",
       "        vertical-align: top;\n",
       "    }\n",
       "\n",
       "    .dataframe thead th {\n",
       "        text-align: right;\n",
       "    }\n",
       "</style>\n",
       "<table border=\"1\" class=\"dataframe\">\n",
       "  <thead>\n",
       "    <tr style=\"text-align: right;\">\n",
       "      <th></th>\n",
       "      <th>img</th>\n",
       "      <th>cat1</th>\n",
       "      <th>cat2</th>\n",
       "      <th>mcat1</th>\n",
       "      <th>mcat2</th>\n",
       "      <th>num1</th>\n",
       "      <th>num2</th>\n",
       "      <th>is_valid</th>\n",
       "    </tr>\n",
       "  </thead>\n",
       "  <tbody>\n",
       "    <tr>\n",
       "      <th>27</th>\n",
       "      <td>havanese_139</td>\n",
       "      <td>havanese</td>\n",
       "      <td>B</td>\n",
       "      <td>y</td>\n",
       "      <td>www ccc nnn</td>\n",
       "      <td>-1.040850</td>\n",
       "      <td>0.511657</td>\n",
       "      <td>False</td>\n",
       "    </tr>\n",
       "    <tr>\n",
       "      <th>44</th>\n",
       "      <td>Abyssinian_25</td>\n",
       "      <td>Abyssinian</td>\n",
       "      <td>B</td>\n",
       "      <td></td>\n",
       "      <td></td>\n",
       "      <td>-0.107985</td>\n",
       "      <td>0.687166</td>\n",
       "      <td>True</td>\n",
       "    </tr>\n",
       "    <tr>\n",
       "      <th>3</th>\n",
       "      <td>Ragdoll_56</td>\n",
       "      <td>Ragdoll</td>\n",
       "      <td>A</td>\n",
       "      <td>z x</td>\n",
       "      <td></td>\n",
       "      <td>0.733173</td>\n",
       "      <td>0.400300</td>\n",
       "      <td>False</td>\n",
       "    </tr>\n",
       "    <tr>\n",
       "      <th>60</th>\n",
       "      <td>beagle_149</td>\n",
       "      <td>beagle</td>\n",
       "      <td>A</td>\n",
       "      <td>x</td>\n",
       "      <td>www nnn</td>\n",
       "      <td>-0.656529</td>\n",
       "      <td>0.473970</td>\n",
       "      <td>False</td>\n",
       "    </tr>\n",
       "    <tr>\n",
       "      <th>15</th>\n",
       "      <td>chihuahua_190</td>\n",
       "      <td>chihuahua</td>\n",
       "      <td>A</td>\n",
       "      <td>z x</td>\n",
       "      <td>www</td>\n",
       "      <td>-0.103841</td>\n",
       "      <td>0.347619</td>\n",
       "      <td>False</td>\n",
       "    </tr>\n",
       "    <tr>\n",
       "      <th>83</th>\n",
       "      <td>scottish_terrier_64</td>\n",
       "      <td>scottish_terrier</td>\n",
       "      <td>B</td>\n",
       "      <td>x</td>\n",
       "      <td>ccc</td>\n",
       "      <td>0.116411</td>\n",
       "      <td>0.805865</td>\n",
       "      <td>False</td>\n",
       "    </tr>\n",
       "    <tr>\n",
       "      <th>63</th>\n",
       "      <td>British_Shorthair_40</td>\n",
       "      <td>British_Shorthair</td>\n",
       "      <td>A</td>\n",
       "      <td>x z</td>\n",
       "      <td>nnn ccc</td>\n",
       "      <td>-0.671024</td>\n",
       "      <td>0.479582</td>\n",
       "      <td>False</td>\n",
       "    </tr>\n",
       "    <tr>\n",
       "      <th>49</th>\n",
       "      <td>beagle_119</td>\n",
       "      <td>beagle</td>\n",
       "      <td>B</td>\n",
       "      <td>y</td>\n",
       "      <td>nnn ccc</td>\n",
       "      <td>1.232514</td>\n",
       "      <td>0.354147</td>\n",
       "      <td>False</td>\n",
       "    </tr>\n",
       "    <tr>\n",
       "      <th>93</th>\n",
       "      <td>american_pit_bull_terrier_35</td>\n",
       "      <td>american_pit_bull_terrier</td>\n",
       "      <td>B</td>\n",
       "      <td>x y</td>\n",
       "      <td>sss</td>\n",
       "      <td>-0.144049</td>\n",
       "      <td>0.005300</td>\n",
       "      <td>False</td>\n",
       "    </tr>\n",
       "    <tr>\n",
       "      <th>18</th>\n",
       "      <td>scottish_terrier_36</td>\n",
       "      <td>scottish_terrier</td>\n",
       "      <td>B</td>\n",
       "      <td>x y</td>\n",
       "      <td>ccc sss</td>\n",
       "      <td>-0.701813</td>\n",
       "      <td>0.534424</td>\n",
       "      <td>False</td>\n",
       "    </tr>\n",
       "  </tbody>\n",
       "</table>\n",
       "</div>"
      ],
      "text/plain": [
       "                             img                       cat1 cat2 mcat1  \\\n",
       "27                  havanese_139                   havanese    B     y   \n",
       "44                 Abyssinian_25                 Abyssinian    B         \n",
       "3                     Ragdoll_56                    Ragdoll    A   z x   \n",
       "60                    beagle_149                     beagle    A     x   \n",
       "15                 chihuahua_190                  chihuahua    A   z x   \n",
       "83           scottish_terrier_64           scottish_terrier    B     x   \n",
       "63          British_Shorthair_40          British_Shorthair    A   x z   \n",
       "49                    beagle_119                     beagle    B     y   \n",
       "93  american_pit_bull_terrier_35  american_pit_bull_terrier    B   x y   \n",
       "18           scottish_terrier_36           scottish_terrier    B   x y   \n",
       "\n",
       "          mcat2      num1      num2  is_valid  \n",
       "27  www ccc nnn -1.040850  0.511657     False  \n",
       "44              -0.107985  0.687166      True  \n",
       "3                0.733173  0.400300     False  \n",
       "60      www nnn -0.656529  0.473970     False  \n",
       "15          www -0.103841  0.347619     False  \n",
       "83          ccc  0.116411  0.805865     False  \n",
       "63      nnn ccc -0.671024  0.479582     False  \n",
       "49      nnn ccc  1.232514  0.354147     False  \n",
       "93          sss -0.144049  0.005300     False  \n",
       "18      ccc sss -0.701813  0.534424     False  "
      ]
     },
     "execution_count": 315,
     "metadata": {},
     "output_type": "execute_result"
    }
   ],
   "source": [
    "df_full.sample(10)"
   ]
  },
  {
   "cell_type": "code",
   "execution_count": 316,
   "metadata": {},
   "outputs": [],
   "source": [
    "tfms = get_transforms()"
   ]
  },
  {
   "cell_type": "markdown",
   "metadata": {},
   "source": [
    "# single task (using existing functionalities)"
   ]
  },
  {
   "cell_type": "markdown",
   "metadata": {},
   "source": [
    "## single class"
   ]
  },
  {
   "cell_type": "code",
   "execution_count": 317,
   "metadata": {},
   "outputs": [
    {
     "data": {
      "text/html": [
       "<div>\n",
       "<style scoped>\n",
       "    .dataframe tbody tr th:only-of-type {\n",
       "        vertical-align: middle;\n",
       "    }\n",
       "\n",
       "    .dataframe tbody tr th {\n",
       "        vertical-align: top;\n",
       "    }\n",
       "\n",
       "    .dataframe thead th {\n",
       "        text-align: right;\n",
       "    }\n",
       "</style>\n",
       "<table border=\"1\" class=\"dataframe\">\n",
       "  <thead>\n",
       "    <tr style=\"text-align: right;\">\n",
       "      <th></th>\n",
       "      <th>img</th>\n",
       "      <th>cat1</th>\n",
       "      <th>is_valid</th>\n",
       "    </tr>\n",
       "  </thead>\n",
       "  <tbody>\n",
       "    <tr>\n",
       "      <th>0</th>\n",
       "      <td>scottish_terrier_17</td>\n",
       "      <td>scottish_terrier</td>\n",
       "      <td>False</td>\n",
       "    </tr>\n",
       "    <tr>\n",
       "      <th>1</th>\n",
       "      <td>keeshond_169</td>\n",
       "      <td>keeshond</td>\n",
       "      <td>False</td>\n",
       "    </tr>\n",
       "    <tr>\n",
       "      <th>2</th>\n",
       "      <td>great_pyrenees_190</td>\n",
       "      <td>great_pyrenees</td>\n",
       "      <td>False</td>\n",
       "    </tr>\n",
       "    <tr>\n",
       "      <th>3</th>\n",
       "      <td>Ragdoll_56</td>\n",
       "      <td>Ragdoll</td>\n",
       "      <td>False</td>\n",
       "    </tr>\n",
       "    <tr>\n",
       "      <th>4</th>\n",
       "      <td>Ragdoll_152</td>\n",
       "      <td>Ragdoll</td>\n",
       "      <td>False</td>\n",
       "    </tr>\n",
       "  </tbody>\n",
       "</table>\n",
       "</div>"
      ],
      "text/plain": [
       "                   img              cat1  is_valid\n",
       "0  scottish_terrier_17  scottish_terrier     False\n",
       "1         keeshond_169          keeshond     False\n",
       "2   great_pyrenees_190    great_pyrenees     False\n",
       "3           Ragdoll_56           Ragdoll     False\n",
       "4          Ragdoll_152           Ragdoll     False"
      ]
     },
     "execution_count": 317,
     "metadata": {},
     "output_type": "execute_result"
    }
   ],
   "source": [
    "df=df_full[['img', 'cat1', 'is_valid']]\n",
    "df.head()"
   ]
  },
  {
   "cell_type": "markdown",
   "metadata": {
    "heading_collapsed": true
   },
   "source": [
    "### databunch factory method"
   ]
  },
  {
   "cell_type": "code",
   "execution_count": 280,
   "metadata": {
    "hidden": true
   },
   "outputs": [
    {
     "name": "stderr",
     "output_type": "stream",
     "text": [
      "/data/anaconda3/envs/fa1043/lib/python3.7/site-packages/fastai/data_block.py:486: UserWarning: You are labelling your items with CategoryList.\n",
      "Your valid set contained the following unknown labels, the corresponding items have been discarded.\n",
      "yorkshire_terrier, Ragdoll\n",
      "  if getattr(ds, 'warn', False): warn(ds.warn)\n"
     ]
    }
   ],
   "source": [
    "data = ImageDataBunch.from_df(path, df, folder='images', suffix='.jpg', size=64)"
   ]
  },
  {
   "cell_type": "raw",
   "metadata": {
    "hidden": true
   },
   "source": [
    "data.show_batch(rows=3, figsize=(7,6))"
   ]
  },
  {
   "cell_type": "code",
   "execution_count": 281,
   "metadata": {
    "hidden": true
   },
   "outputs": [
    {
     "data": {
      "text/plain": [
       "FlattenedLoss of CrossEntropyLoss()"
      ]
     },
     "execution_count": 281,
     "metadata": {},
     "output_type": "execute_result"
    }
   ],
   "source": [
    "learn = create_cnn(data, models.resnet18, metrics=error_rate)\n",
    "learn.loss_func"
   ]
  },
  {
   "cell_type": "code",
   "execution_count": 282,
   "metadata": {
    "hidden": true
   },
   "outputs": [
    {
     "data": {
      "text/html": [
       "Total time: 00:02 <p><table style='width:300px; margin-bottom:10px'>\n",
       "  <tr>\n",
       "    <th>epoch</th>\n",
       "    <th>train_loss</th>\n",
       "    <th>valid_loss</th>\n",
       "    <th>error_rate</th>\n",
       "  </tr>\n",
       "  <tr>\n",
       "    <th>1</th>\n",
       "    <th>4.018491</th>\n",
       "    <th>3.704471</th>\n",
       "    <th>0.833333</th>\n",
       "  </tr>\n",
       "</table>\n"
      ],
      "text/plain": [
       "<IPython.core.display.HTML object>"
      ]
     },
     "metadata": {},
     "output_type": "display_data"
    }
   ],
   "source": [
    "learn.fit_one_cycle(1)"
   ]
  },
  {
   "cell_type": "markdown",
   "metadata": {
    "heading_collapsed": true
   },
   "source": [
    "### data block"
   ]
  },
  {
   "cell_type": "code",
   "execution_count": 256,
   "metadata": {
    "hidden": true,
    "scrolled": true
   },
   "outputs": [
    {
     "name": "stderr",
     "output_type": "stream",
     "text": [
      "/data/anaconda3/envs/fa1043/lib/python3.7/site-packages/fastai/data_block.py:486: UserWarning: You are labelling your items with CategoryList.\n",
      "Your valid set contained the following unknown labels, the corresponding items have been discarded.\n",
      "Bombay\n",
      "  if getattr(ds, 'warn', False): warn(ds.warn)\n"
     ]
    }
   ],
   "source": [
    "data = (ImageItemList.from_df(df, path, folder='images', suffix='.jpg')\n",
    "        .split_from_df(col='is_valid')\n",
    "        .label_from_df(cols='cat1')\n",
    "        .transform(tfms, size=64)).databunch()"
   ]
  },
  {
   "cell_type": "raw",
   "metadata": {
    "hidden": true
   },
   "source": [
    "data.show_batch(rows=3, figsize=(7,6))"
   ]
  },
  {
   "cell_type": "code",
   "execution_count": 257,
   "metadata": {
    "hidden": true
   },
   "outputs": [
    {
     "data": {
      "text/plain": [
       "FlattenedLoss of CrossEntropyLoss()"
      ]
     },
     "execution_count": 257,
     "metadata": {},
     "output_type": "execute_result"
    }
   ],
   "source": [
    "learn = create_cnn(data, models.resnet18, metrics=error_rate)\n",
    "learn.loss_func"
   ]
  },
  {
   "cell_type": "code",
   "execution_count": 258,
   "metadata": {
    "hidden": true
   },
   "outputs": [
    {
     "data": {
      "text/html": [
       "Total time: 00:02 <p><table style='width:300px; margin-bottom:10px'>\n",
       "  <tr>\n",
       "    <th>epoch</th>\n",
       "    <th>train_loss</th>\n",
       "    <th>valid_loss</th>\n",
       "    <th>error_rate</th>\n",
       "  </tr>\n",
       "  <tr>\n",
       "    <th>1</th>\n",
       "    <th>4.233921</th>\n",
       "    <th>4.636864</th>\n",
       "    <th>1.000000</th>\n",
       "  </tr>\n",
       "</table>\n"
      ],
      "text/plain": [
       "<IPython.core.display.HTML object>"
      ]
     },
     "metadata": {},
     "output_type": "display_data"
    }
   ],
   "source": [
    "learn.fit_one_cycle(1)"
   ]
  },
  {
   "cell_type": "markdown",
   "metadata": {},
   "source": [
    "## multiclass "
   ]
  },
  {
   "cell_type": "code",
   "execution_count": 318,
   "metadata": {},
   "outputs": [
    {
     "data": {
      "text/html": [
       "<div>\n",
       "<style scoped>\n",
       "    .dataframe tbody tr th:only-of-type {\n",
       "        vertical-align: middle;\n",
       "    }\n",
       "\n",
       "    .dataframe tbody tr th {\n",
       "        vertical-align: top;\n",
       "    }\n",
       "\n",
       "    .dataframe thead th {\n",
       "        text-align: right;\n",
       "    }\n",
       "</style>\n",
       "<table border=\"1\" class=\"dataframe\">\n",
       "  <thead>\n",
       "    <tr style=\"text-align: right;\">\n",
       "      <th></th>\n",
       "      <th>img</th>\n",
       "      <th>mcat1</th>\n",
       "      <th>is_valid</th>\n",
       "    </tr>\n",
       "  </thead>\n",
       "  <tbody>\n",
       "    <tr>\n",
       "      <th>0</th>\n",
       "      <td>scottish_terrier_17</td>\n",
       "      <td>x z</td>\n",
       "      <td>False</td>\n",
       "    </tr>\n",
       "    <tr>\n",
       "      <th>1</th>\n",
       "      <td>keeshond_169</td>\n",
       "      <td>x</td>\n",
       "      <td>False</td>\n",
       "    </tr>\n",
       "    <tr>\n",
       "      <th>2</th>\n",
       "      <td>great_pyrenees_190</td>\n",
       "      <td>x</td>\n",
       "      <td>False</td>\n",
       "    </tr>\n",
       "    <tr>\n",
       "      <th>3</th>\n",
       "      <td>Ragdoll_56</td>\n",
       "      <td>z x</td>\n",
       "      <td>False</td>\n",
       "    </tr>\n",
       "    <tr>\n",
       "      <th>4</th>\n",
       "      <td>Ragdoll_152</td>\n",
       "      <td></td>\n",
       "      <td>False</td>\n",
       "    </tr>\n",
       "  </tbody>\n",
       "</table>\n",
       "</div>"
      ],
      "text/plain": [
       "                   img mcat1  is_valid\n",
       "0  scottish_terrier_17   x z     False\n",
       "1         keeshond_169     x     False\n",
       "2   great_pyrenees_190     x     False\n",
       "3           Ragdoll_56   z x     False\n",
       "4          Ragdoll_152           False"
      ]
     },
     "execution_count": 318,
     "metadata": {},
     "output_type": "execute_result"
    }
   ],
   "source": [
    "df=df_full[['img', 'mcat1', 'is_valid']]\n",
    "df.head()"
   ]
  },
  {
   "cell_type": "markdown",
   "metadata": {},
   "source": [
    "### databunch factory method"
   ]
  },
  {
   "cell_type": "code",
   "execution_count": 273,
   "metadata": {},
   "outputs": [],
   "source": [
    "data = ImageDataBunch.from_df(path, df, folder='images', suffix='.jpg', size=64, label_delim=' ')"
   ]
  },
  {
   "cell_type": "raw",
   "metadata": {},
   "source": [
    "data.show_batch(rows=3, figsize=(7,6))"
   ]
  },
  {
   "cell_type": "code",
   "execution_count": 274,
   "metadata": {},
   "outputs": [
    {
     "data": {
      "text/plain": [
       "FlattenedLoss of BCEWithLogitsLoss()"
      ]
     },
     "execution_count": 274,
     "metadata": {},
     "output_type": "execute_result"
    }
   ],
   "source": [
    "learn = create_cnn(data, models.resnet18)\n",
    "learn.loss_func"
   ]
  },
  {
   "cell_type": "code",
   "execution_count": 275,
   "metadata": {},
   "outputs": [
    {
     "data": {
      "text/html": [
       "Total time: 00:02 <p><table style='width:300px; margin-bottom:10px'>\n",
       "  <tr>\n",
       "    <th>epoch</th>\n",
       "    <th>train_loss</th>\n",
       "    <th>valid_loss</th>\n",
       "  </tr>\n",
       "  <tr>\n",
       "    <th>1</th>\n",
       "    <th>0.868255</th>\n",
       "    <th>0.864794</th>\n",
       "  </tr>\n",
       "</table>\n"
      ],
      "text/plain": [
       "<IPython.core.display.HTML object>"
      ]
     },
     "metadata": {},
     "output_type": "display_data"
    }
   ],
   "source": [
    "learn.fit_one_cycle(1)"
   ]
  },
  {
   "cell_type": "markdown",
   "metadata": {},
   "source": [
    "### data block"
   ]
  },
  {
   "cell_type": "code",
   "execution_count": 276,
   "metadata": {
    "scrolled": true
   },
   "outputs": [],
   "source": [
    "data = (ImageItemList.from_df(df, path, folder='images', suffix='.jpg')\n",
    "        .split_from_df(col='is_valid')\n",
    "        .label_from_df(cols='mcat1', label_delim=' ')\n",
    "        .transform(tfms, size=64)).databunch()"
   ]
  },
  {
   "cell_type": "raw",
   "metadata": {},
   "source": [
    "data.show_batch(rows=3, figsize=(7,6))"
   ]
  },
  {
   "cell_type": "code",
   "execution_count": 277,
   "metadata": {},
   "outputs": [
    {
     "data": {
      "text/plain": [
       "FlattenedLoss of BCEWithLogitsLoss()"
      ]
     },
     "execution_count": 277,
     "metadata": {},
     "output_type": "execute_result"
    }
   ],
   "source": [
    "learn = create_cnn(data, models.resnet18)\n",
    "learn.loss_func"
   ]
  },
  {
   "cell_type": "code",
   "execution_count": 278,
   "metadata": {},
   "outputs": [
    {
     "data": {
      "text/html": [
       "Total time: 00:02 <p><table style='width:300px; margin-bottom:10px'>\n",
       "  <tr>\n",
       "    <th>epoch</th>\n",
       "    <th>train_loss</th>\n",
       "    <th>valid_loss</th>\n",
       "  </tr>\n",
       "  <tr>\n",
       "    <th>1</th>\n",
       "    <th>0.840250</th>\n",
       "    <th>0.740074</th>\n",
       "  </tr>\n",
       "</table>\n"
      ],
      "text/plain": [
       "<IPython.core.display.HTML object>"
      ]
     },
     "metadata": {},
     "output_type": "display_data"
    }
   ],
   "source": [
    "learn.fit_one_cycle(1)"
   ]
  },
  {
   "cell_type": "markdown",
   "metadata": {},
   "source": [
    "## regression"
   ]
  },
  {
   "cell_type": "markdown",
   "metadata": {},
   "source": [
    "### databunch factory method"
   ]
  },
  {
   "cell_type": "code",
   "execution_count": 244,
   "metadata": {},
   "outputs": [],
   "source": [
    "# doesn't work\n",
    "# data = ImageDataBunch.from_df(path, df[['img', 'num1']], folder='images', suffix='.jpg', size=64)"
   ]
  },
  {
   "cell_type": "markdown",
   "metadata": {},
   "source": [
    "### data block"
   ]
  },
  {
   "cell_type": "code",
   "execution_count": 245,
   "metadata": {
    "scrolled": true
   },
   "outputs": [],
   "source": [
    "data = (ImageItemList.from_df(df[['img', 'num1', 'is_valid']], path, folder='images', suffix='.jpg')\n",
    "        .split_from_df(col='is_valid')\n",
    "        .label_from_df(cols='num1')\n",
    "        .transform(tfms, size=64)).databunch()"
   ]
  },
  {
   "cell_type": "raw",
   "metadata": {},
   "source": [
    "data.show_batch(rows=3, figsize=(7,6))"
   ]
  },
  {
   "cell_type": "code",
   "execution_count": 247,
   "metadata": {},
   "outputs": [
    {
     "data": {
      "text/plain": [
       "FlattenedLoss of MSELoss()"
      ]
     },
     "execution_count": 247,
     "metadata": {},
     "output_type": "execute_result"
    }
   ],
   "source": [
    "learn = create_cnn(data, models.resnet18, metrics=mse)\n",
    "learn.loss_func"
   ]
  },
  {
   "cell_type": "code",
   "execution_count": 248,
   "metadata": {},
   "outputs": [
    {
     "data": {
      "text/html": [
       "Total time: 00:02 <p><table style='width:300px; margin-bottom:10px'>\n",
       "  <tr>\n",
       "    <th>epoch</th>\n",
       "    <th>train_loss</th>\n",
       "    <th>valid_loss</th>\n",
       "    <th>mean_squared_error</th>\n",
       "  </tr>\n",
       "  <tr>\n",
       "    <th>1</th>\n",
       "    <th>2.089933</th>\n",
       "    <th>1.220198</th>\n",
       "    <th>1.220198</th>\n",
       "  </tr>\n",
       "</table>\n"
      ],
      "text/plain": [
       "<IPython.core.display.HTML object>"
      ]
     },
     "metadata": {},
     "output_type": "display_data"
    }
   ],
   "source": [
    "learn.fit_one_cycle(1)"
   ]
  },
  {
   "cell_type": "markdown",
   "metadata": {},
   "source": [
    "# multi task"
   ]
  },
  {
   "cell_type": "markdown",
   "metadata": {},
   "source": [
    "https://docs.fast.ai/tutorial.itemlist.html"
   ]
  },
  {
   "cell_type": "markdown",
   "metadata": {},
   "source": [
    "## 2 single classes"
   ]
  },
  {
   "cell_type": "code",
   "execution_count": 319,
   "metadata": {},
   "outputs": [
    {
     "data": {
      "text/html": [
       "<div>\n",
       "<style scoped>\n",
       "    .dataframe tbody tr th:only-of-type {\n",
       "        vertical-align: middle;\n",
       "    }\n",
       "\n",
       "    .dataframe tbody tr th {\n",
       "        vertical-align: top;\n",
       "    }\n",
       "\n",
       "    .dataframe thead th {\n",
       "        text-align: right;\n",
       "    }\n",
       "</style>\n",
       "<table border=\"1\" class=\"dataframe\">\n",
       "  <thead>\n",
       "    <tr style=\"text-align: right;\">\n",
       "      <th></th>\n",
       "      <th>img</th>\n",
       "      <th>cat1</th>\n",
       "      <th>cat2</th>\n",
       "      <th>is_valid</th>\n",
       "    </tr>\n",
       "  </thead>\n",
       "  <tbody>\n",
       "    <tr>\n",
       "      <th>0</th>\n",
       "      <td>scottish_terrier_17</td>\n",
       "      <td>scottish_terrier</td>\n",
       "      <td>A</td>\n",
       "      <td>False</td>\n",
       "    </tr>\n",
       "    <tr>\n",
       "      <th>1</th>\n",
       "      <td>keeshond_169</td>\n",
       "      <td>keeshond</td>\n",
       "      <td>B</td>\n",
       "      <td>False</td>\n",
       "    </tr>\n",
       "    <tr>\n",
       "      <th>2</th>\n",
       "      <td>great_pyrenees_190</td>\n",
       "      <td>great_pyrenees</td>\n",
       "      <td>A</td>\n",
       "      <td>False</td>\n",
       "    </tr>\n",
       "    <tr>\n",
       "      <th>3</th>\n",
       "      <td>Ragdoll_56</td>\n",
       "      <td>Ragdoll</td>\n",
       "      <td>A</td>\n",
       "      <td>False</td>\n",
       "    </tr>\n",
       "    <tr>\n",
       "      <th>4</th>\n",
       "      <td>Ragdoll_152</td>\n",
       "      <td>Ragdoll</td>\n",
       "      <td>A</td>\n",
       "      <td>False</td>\n",
       "    </tr>\n",
       "  </tbody>\n",
       "</table>\n",
       "</div>"
      ],
      "text/plain": [
       "                   img              cat1 cat2  is_valid\n",
       "0  scottish_terrier_17  scottish_terrier    A     False\n",
       "1         keeshond_169          keeshond    B     False\n",
       "2   great_pyrenees_190    great_pyrenees    A     False\n",
       "3           Ragdoll_56           Ragdoll    A     False\n",
       "4          Ragdoll_152           Ragdoll    A     False"
      ]
     },
     "execution_count": 319,
     "metadata": {},
     "output_type": "execute_result"
    }
   ],
   "source": [
    "df=df_full[['img', 'cat1', 'cat2', 'is_valid']]\n",
    "df.head()"
   ]
  },
  {
   "cell_type": "code",
   "execution_count": null,
   "metadata": {},
   "outputs": [],
   "source": []
  },
  {
   "cell_type": "code",
   "execution_count": null,
   "metadata": {},
   "outputs": [],
   "source": []
  },
  {
   "cell_type": "markdown",
   "metadata": {},
   "source": [
    "```\n",
    "class Category(ItemBase):\n",
    "    \"Basic class for single classification labels.\"\n",
    "    def __init__(self,data,obj): self.data,self.obj = data,obj\n",
    "    def __int__(self): return int(self.data)\n",
    "    def __str__(self): return str(self.obj)\n",
    "\n",
    "class MultiCategory(ItemBase):\n",
    "    \"Basic class for multi-classification labels.\"\n",
    "    def __init__(self,data,obj,raw): self.data,self.obj,self.raw = data,obj,raw\n",
    "    def __str__(self): return ';'.join([str(o) for o in self.obj])\n",
    "\n",
    "class FloatItem(ItemBase):\n",
    "    \"Basic class for float items.\"\n",
    "    def __init__(self,obj): self.data,self.obj = np.array(obj).astype(np.float32),obj\n",
    "    def __str__(self): return str(self.obj)\n",
    "```"
   ]
  },
  {
   "cell_type": "markdown",
   "metadata": {},
   "source": [
    "https://docs.fast.ai/tutorial.itemlist.html#Example:-ImageTuple\n",
    "```\n",
    "class ImageTuple(ItemBase):\n",
    "    def __init__(self, img1, img2):\n",
    "        self.img1,self.img2 = img1,img2\n",
    "        self.obj,self.data = (img1,img2),[-1+2*img1.data,-1+2*img2.data]\n",
    "```"
   ]
  },
  {
   "cell_type": "code",
   "execution_count": 161,
   "metadata": {},
   "outputs": [],
   "source": [
    "class MultitaskTarget(ItemBase):\n",
    "    \"Basic class for multitask target.\"\n",
    "    def __init__(self,target): \n",
    "        self.target = target\n",
    "        self.data = []\n",
    "        \n",
    "    def __str__(self): \n",
    "        return str(self.target)\n",
    "\n",
    "def multitask_loss():\n",
    "    return 0\n",
    "\n",
    "class MultitaskTargetList():\n",
    "    def __init__(self, items:Iterator, \n",
    "                 classes1:Collection=None, \n",
    "                 classes1:Collection=None, \n",
    "                 mclasses1:Collection=None, \n",
    "                 mclasses1:Collection=None, \n",
    "                 label_delim:str=None, **kwargs):\n",
    "        super().__init__(items, classes=classes, **kwargs)\n",
    "        self.loss_func = multitask_loss\n",
    "\n",
    "    def get(self, i):\n",
    "        o = self.items[i]\n",
    "        if o is None: return None\n",
    "        return MultitaskTarget(o, self.classes[o])\n",
    "    \n",
    "    "
   ]
  },
  {
   "cell_type": "code",
   "execution_count": null,
   "metadata": {},
   "outputs": [],
   "source": []
  },
  {
   "cell_type": "code",
   "execution_count": 162,
   "metadata": {},
   "outputs": [
    {
     "data": {
      "text/plain": [
       "{'cat1': 'chihuahua',\n",
       " 'cat2': 'O',\n",
       " 'mcat1': 's e z',\n",
       " 'mcat2': 'abc xyz',\n",
       " 'num1': -0.10838220224884176,\n",
       " 'num2': 0.38568197098798007}"
      ]
     },
     "execution_count": 162,
     "metadata": {},
     "output_type": "execute_result"
    }
   ],
   "source": [
    "target = df.to_dict('records')[np.random.choice(len(df))]\n",
    "del target['img']\n",
    "target"
   ]
  },
  {
   "cell_type": "code",
   "execution_count": 163,
   "metadata": {},
   "outputs": [
    {
     "data": {
      "text/plain": [
       "MultitaskTarget {'cat1': 'chihuahua', 'cat2': 'O', 'mcat1': 's e z', 'mcat2': 'abc xyz', 'num1': -0.10838220224884176, 'num2': 0.38568197098798007}"
      ]
     },
     "execution_count": 163,
     "metadata": {},
     "output_type": "execute_result"
    }
   ],
   "source": [
    "MultitaskTarget(target)"
   ]
  },
  {
   "cell_type": "code",
   "execution_count": null,
   "metadata": {},
   "outputs": [],
   "source": []
  },
  {
   "cell_type": "markdown",
   "metadata": {},
   "source": [
    "```\n",
    "class CategoryList(CategoryListBase):\n",
    "    \"Basic `ItemList` for single classification labels.\"\n",
    "    _processor=CategoryProcessor\n",
    "    def __init__(self, items:Iterator, classes:Collection=None, label_delim:str=None, **kwargs):\n",
    "        super().__init__(items, classes=classes, **kwargs)\n",
    "        self.loss_func = CrossEntropyFlat()\n",
    "\n",
    "    def get(self, i):\n",
    "        o = self.items[i]\n",
    "        if o is None: return None\n",
    "        return Category(o, self.classes[o])\n",
    "\n",
    "    def analyze_pred(self, pred, thresh:float=0.5): return pred.argmax()\n",
    "\n",
    "    def reconstruct(self, t):\n",
    "        return Category(t, self.classes[t])\n",
    "```"
   ]
  },
  {
   "cell_type": "code",
   "execution_count": null,
   "metadata": {},
   "outputs": [],
   "source": []
  },
  {
   "cell_type": "code",
   "execution_count": null,
   "metadata": {},
   "outputs": [],
   "source": []
  },
  {
   "cell_type": "code",
   "execution_count": null,
   "metadata": {},
   "outputs": [],
   "source": []
  },
  {
   "cell_type": "code",
   "execution_count": null,
   "metadata": {},
   "outputs": [],
   "source": []
  }
 ],
 "metadata": {
  "kernelspec": {
   "display_name": "fa1043",
   "language": "python",
   "name": "fa1043"
  },
  "language_info": {
   "codemirror_mode": {
    "name": "ipython",
    "version": 3
   },
   "file_extension": ".py",
   "mimetype": "text/x-python",
   "name": "python",
   "nbconvert_exporter": "python",
   "pygments_lexer": "ipython3",
   "version": "3.7.2"
  },
  "toc": {
   "base_numbering": 1,
   "nav_menu": {},
   "number_sections": true,
   "sideBar": true,
   "skip_h1_title": false,
   "title_cell": "Table of Contents",
   "title_sidebar": "Contents",
   "toc_cell": false,
   "toc_position": {},
   "toc_section_display": true,
   "toc_window_display": true
  }
 },
 "nbformat": 4,
 "nbformat_minor": 2
}
