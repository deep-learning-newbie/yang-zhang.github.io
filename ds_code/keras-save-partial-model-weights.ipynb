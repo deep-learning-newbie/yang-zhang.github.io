{
 "cells": [
  {
   "cell_type": "code",
   "execution_count": 76,
   "metadata": {},
   "outputs": [],
   "source": [
    "from keras.layers import Input, Dense, Embedding\n",
    "from keras.models import Model"
   ]
  },
  {
   "cell_type": "code",
   "execution_count": 77,
   "metadata": {},
   "outputs": [],
   "source": [
    "inputs = Input(shape=(10000,))\n",
    "\n",
    "x = Embedding(10000, 300, name='Embedding', trainable=False)(inputs)\n",
    "x = Dense(16, activation='relu', name='Dense-1')(x)\n",
    "x = Dense(16, activation='relu', name='Dense-2')(x)\n",
    "x = Dense(16, activation='relu', name='Dense-3')(x)\n",
    "x = Dense(2, activation='softmax')(x)\n",
    "\n",
    "orginal_model = Model(inputs=inputs, outputs=x)"
   ]
  },
  {
   "cell_type": "code",
   "execution_count": 78,
   "metadata": {},
   "outputs": [],
   "source": [
    "def make_model():\n",
    "    inputs = Input(shape=(10000,))\n",
    "\n",
    "    x = Embedding(10000, 300, name='Embedding', trainable=False)(inputs)\n",
    "    x = Dense(16, activation='relu', name='Dense-1')(x)\n",
    "    x = Dense(16, activation='relu', name='Dense-2')(x)\n",
    "    x = Dense(16, activation='relu', name='Dense-3')(x)\n",
    "    x = Dense(2, activation='softmax')(x)\n",
    "\n",
    "    return Model(inputs=inputs, outputs=x)"
   ]
  },
  {
   "cell_type": "code",
   "execution_count": 79,
   "metadata": {},
   "outputs": [],
   "source": [
    "orginal_model = make_model()"
   ]
  },
  {
   "cell_type": "code",
   "execution_count": 80,
   "metadata": {},
   "outputs": [
    {
     "name": "stdout",
     "output_type": "stream",
     "text": [
      "_________________________________________________________________\n",
      "Layer (type)                 Output Shape              Param #   \n",
      "=================================================================\n",
      "input_26 (InputLayer)        (None, 10000)             0         \n",
      "_________________________________________________________________\n",
      "Embedding (Embedding)        (None, 10000, 300)        3000000   \n",
      "_________________________________________________________________\n",
      "Dense-1 (Dense)              (None, 10000, 16)         4816      \n",
      "_________________________________________________________________\n",
      "Dense-2 (Dense)              (None, 10000, 16)         272       \n",
      "_________________________________________________________________\n",
      "Dense-3 (Dense)              (None, 10000, 16)         272       \n",
      "_________________________________________________________________\n",
      "dense_19 (Dense)             (None, 10000, 2)          34        \n",
      "=================================================================\n",
      "Total params: 3,005,394\n",
      "Trainable params: 5,394\n",
      "Non-trainable params: 3,000,000\n",
      "_________________________________________________________________\n"
     ]
    }
   ],
   "source": [
    "orginal_model.summary()"
   ]
  },
  {
   "cell_type": "code",
   "execution_count": 81,
   "metadata": {},
   "outputs": [],
   "source": [
    "orginal_model.save_weights('orginal_model.h5')"
   ]
  },
  {
   "cell_type": "code",
   "execution_count": 82,
   "metadata": {},
   "outputs": [
    {
     "name": "stdout",
     "output_type": "stream",
     "text": [
      "-rw-r--r-- 1 root root 12M Apr 13 18:48 orginal_model.h5\r\n"
     ]
    }
   ],
   "source": [
    "ls -hl orginal_model.h5"
   ]
  },
  {
   "cell_type": "code",
   "execution_count": 83,
   "metadata": {},
   "outputs": [],
   "source": [
    "inputs = Input(shape=(300,))\n",
    "\n",
    "# x = Embedding(10000, 300, name='Embedding', trainable=False)(inputs)\n",
    "x = Dense(16, activation='relu', name='Dense-1')(inputs)\n",
    "x = Dense(16, activation='relu', name='Dense-2')(x)\n",
    "x = Dense(16, activation='relu', name='Dense-3')(x)\n",
    "x = Dense(2, activation='softmax')(x)\n",
    "\n",
    "partial_model = Model(inputs=inputs, outputs=x)"
   ]
  },
  {
   "cell_type": "code",
   "execution_count": 84,
   "metadata": {},
   "outputs": [],
   "source": [
    "partial_model.load_weights('orginal_model.h5', by_name=True)"
   ]
  },
  {
   "cell_type": "code",
   "execution_count": 85,
   "metadata": {},
   "outputs": [],
   "source": [
    "partial_model.save_weights('partial_model.h5')"
   ]
  },
  {
   "cell_type": "code",
   "execution_count": 86,
   "metadata": {},
   "outputs": [
    {
     "name": "stdout",
     "output_type": "stream",
     "text": [
      "-rw-r--r-- 1 root root 12M Apr 13 18:48 orginal_model.h5\r\n",
      "-rw-r--r-- 1 root root 40K Apr 13 18:49 partial_model.h5\r\n"
     ]
    }
   ],
   "source": [
    "ls -hl orginal_model.h5 partial_model.h5"
   ]
  },
  {
   "cell_type": "code",
   "execution_count": 87,
   "metadata": {},
   "outputs": [],
   "source": [
    "new_model = make_model()"
   ]
  },
  {
   "cell_type": "code",
   "execution_count": 88,
   "metadata": {},
   "outputs": [],
   "source": [
    "new_model.load_weights('partial_model.h5', by_name=True)"
   ]
  },
  {
   "cell_type": "code",
   "execution_count": 89,
   "metadata": {},
   "outputs": [
    {
     "name": "stdout",
     "output_type": "stream",
     "text": [
      "_________________________________________________________________\n",
      "Layer (type)                 Output Shape              Param #   \n",
      "=================================================================\n",
      "input_28 (InputLayer)        (None, 10000)             0         \n",
      "_________________________________________________________________\n",
      "Embedding (Embedding)        (None, 10000, 300)        3000000   \n",
      "_________________________________________________________________\n",
      "Dense-1 (Dense)              (None, 10000, 16)         4816      \n",
      "_________________________________________________________________\n",
      "Dense-2 (Dense)              (None, 10000, 16)         272       \n",
      "_________________________________________________________________\n",
      "Dense-3 (Dense)              (None, 10000, 16)         272       \n",
      "_________________________________________________________________\n",
      "dense_21 (Dense)             (None, 10000, 2)          34        \n",
      "=================================================================\n",
      "Total params: 3,005,394\n",
      "Trainable params: 5,394\n",
      "Non-trainable params: 3,000,000\n",
      "_________________________________________________________________\n"
     ]
    }
   ],
   "source": [
    "new_model.summary()"
   ]
  },
  {
   "cell_type": "code",
   "execution_count": null,
   "metadata": {},
   "outputs": [],
   "source": []
  }
 ],
 "metadata": {
  "kernelspec": {
   "display_name": "Python 3",
   "language": "python",
   "name": "python3"
  },
  "language_info": {
   "codemirror_mode": {
    "name": "ipython",
    "version": 3
   },
   "file_extension": ".py",
   "mimetype": "text/x-python",
   "name": "python",
   "nbconvert_exporter": "python",
   "pygments_lexer": "ipython3",
   "version": "3.6.6"
  }
 },
 "nbformat": 4,
 "nbformat_minor": 2
}
