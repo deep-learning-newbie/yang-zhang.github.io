{
 "cells": [
  {
   "cell_type": "code",
   "execution_count": 1,
   "metadata": {
    "scrolled": true
   },
   "outputs": [
    {
     "data": {
      "text/plain": [
       "'1.0.19'"
      ]
     },
     "execution_count": 1,
     "metadata": {},
     "output_type": "execute_result"
    }
   ],
   "source": [
    "import fastai; fastai.__version__"
   ]
  },
  {
   "cell_type": "code",
   "execution_count": 2,
   "metadata": {},
   "outputs": [],
   "source": [
    "from fastai import *\n",
    "from fastai.vision import *"
   ]
  },
  {
   "cell_type": "code",
   "execution_count": 3,
   "metadata": {},
   "outputs": [],
   "source": [
    "class ImageRegressionDataset(ImageClassificationBase):\n",
    "    def __init__(self, fns:FilePathList, y:Collection[Number]):\n",
    "        super().__init__(fns, classes=[])\n",
    "        self.y = np.array(y, dtype=np.float32)[:, None]\n",
    "        self.c = 1\n",
    "        self.loss_func = F.mse_loss"
   ]
  },
  {
   "cell_type": "code",
   "execution_count": 4,
   "metadata": {},
   "outputs": [
    {
     "data": {
      "text/plain": [
       "[PosixPath('/data/cifar10/train/airplane/17015_airplane.png'),\n",
       " PosixPath('/data/cifar10/train/airplane/44932_airplane.png'),\n",
       " PosixPath('/data/cifar10/train/airplane/43160_airplane.png')]"
      ]
     },
     "execution_count": 4,
     "metadata": {},
     "output_type": "execute_result"
    }
   ],
   "source": [
    "pdata = Path('/data/cifar10/train/airplane/')\n",
    "\n",
    "list(pdata.glob('*.png'))[:3]"
   ]
  },
  {
   "cell_type": "code",
   "execution_count": 15,
   "metadata": {},
   "outputs": [
    {
     "data": {
      "image/png": "[encoded data removed]",
      "text/plain": [
       "<Figure size 216x216 with 1 Axes>"
      ]
     },
     "metadata": {
      "needs_background": "light"
     },
     "output_type": "display_data"
    }
   ],
   "source": [
    "n = 1000\n",
    "n_val = 20\n",
    "fns = list(pdata.glob('*.png'))[:n]\n",
    "y = np.random.randn(n)\n",
    "\n",
    "ds_trn = ImageRegressionDataset(fns[:-n_val], y[:-n_val])\n",
    "ds_val = ImageRegressionDataset(fns[-n_val:], y[-n_val:])\n",
    "\n",
    "img, y = ds_val[0]\n",
    "img.show(title=y[0])"
   ]
  },
  {
   "cell_type": "code",
   "execution_count": 16,
   "metadata": {},
   "outputs": [],
   "source": [
    "from fastai.vision.learner import cnn_config\n",
    "\n",
    "def create_cnn(data:DataBunch, arch:Callable, cut:Union[int,Callable]=None, pretrained:bool=True,\n",
    "                lin_ftrs:Optional[Collection[int]]=None, ps:Floats=0.5,\n",
    "                custom_head:Optional[nn.Module]=None, split_on:Optional[SplitFuncOrIdxList]=None,\n",
    "                classification:bool=True, y_range:OptRange=None, **kwargs:Any)->ClassificationLearner:\n",
    "    \"Build convnet style learners.\"\n",
    "    assert classification, 'Regression CNN not implemented yet, bug us on the forums if you want this!'\n",
    "    meta = cnn_config(arch)\n",
    "    body = create_body(arch(pretrained), ifnone(cut,meta['cut']))\n",
    "    nf = num_features_model(body) * 2\n",
    "    head = custom_head or create_head(nf, data.c, lin_ftrs, ps, y_range)\n",
    "    model = nn.Sequential(body, head)\n",
    "    learn = ClassificationLearner(data, model, **kwargs)\n",
    "    learn.split(ifnone(split_on,meta['split']))\n",
    "    if pretrained: learn.freeze()\n",
    "    apply_init(model[1], nn.init.kaiming_normal_)\n",
    "    return learn\n",
    "\n",
    "class ToRange(nn.Module):\n",
    "    def __init__(self, x_range):\n",
    "        \"create a layer that transforms the value of `x` within `x_range` using sigmoid function\"\n",
    "        super().__init__()\n",
    "        self.x_range=x_range\n",
    "    \n",
    "    def forward(self, x): \n",
    "        return (self.x_range[1]-self.x_range[0]) * F.sigmoid(x) + self.x_range[0]  \n",
    "\n",
    "def create_head(nf:int, nc:int, lin_ftrs:Optional[Collection[int]]=None, ps:Floats=0.5, y_range:OptRange=None):\n",
    "    \"\"\"Model head that takes `nf` features, runs through `lin_ftrs`, and about `nc` classes.\n",
    "    :param ps: dropout, can be a single float or a list for each layer.\"\"\"\n",
    "    lin_ftrs = [nf, 512, nc] if lin_ftrs is None else [nf] + lin_ftrs + [nc]\n",
    "    ps = listify(ps)\n",
    "    if len(ps)==1: ps = [ps[0]/2] * (len(lin_ftrs)-2) + ps\n",
    "    actns = [nn.ReLU(inplace=True)] * (len(lin_ftrs)-2) + [None]\n",
    "    layers = [AdaptiveConcatPool2d(), Flatten()]\n",
    "    for ni,no,p,actn in zip(lin_ftrs[:-1],lin_ftrs[1:],ps,actns):\n",
    "        layers += bn_drop_lin(ni,no,True,p,actn)\n",
    "    if y_range is not None:\n",
    "        layers.append(ToRange(y_range))\n",
    "    return nn.Sequential(*layers)\n"
   ]
  },
  {
   "cell_type": "code",
   "execution_count": 17,
   "metadata": {},
   "outputs": [
    {
     "name": "stdout",
     "output_type": "stream",
     "text": [
      "Total time: 00:00\n",
      "epoch  train_loss  valid_loss\n",
      "1      1.165546    1.695799    (00:00)\n",
      "\n"
     ]
    }
   ],
   "source": [
    "y_range = [0, 1]\n",
    "data = ImageDataBunch.create(ds_trn, ds_val)\n",
    "\n",
    "learn = create_cnn(data, models.resnet18, y_range=y_range)\n",
    "\n",
    "learn.fit(1)"
   ]
  },
  {
   "cell_type": "code",
   "execution_count": 18,
   "metadata": {},
   "outputs": [],
   "source": [
    "preds, _ = learn.get_preds()\n",
    "preds = preds.numpy()"
   ]
  },
  {
   "cell_type": "code",
   "execution_count": 19,
   "metadata": {},
   "outputs": [],
   "source": [
    "assert np.all(preds>y_range[0]) and np.all(preds<y_range[1])"
   ]
  },
  {
   "cell_type": "code",
   "execution_count": null,
   "metadata": {},
   "outputs": [],
   "source": []
  }
 ],
 "metadata": {
  "kernelspec": {
   "display_name": "Python [conda env:fastaiv1]",
   "language": "python",
   "name": "conda-env-fastaiv1-py"
  },
  "language_info": {
   "codemirror_mode": {
    "name": "ipython",
    "version": 3
   },
   "file_extension": ".py",
   "mimetype": "text/x-python",
   "name": "python",
   "nbconvert_exporter": "python",
   "pygments_lexer": "ipython3",
   "version": "3.7.0"
  },
  "toc": {
   "base_numbering": 1,
   "nav_menu": {},
   "number_sections": true,
   "sideBar": true,
   "skip_h1_title": false,
   "title_cell": "Table of Contents",
   "title_sidebar": "Contents",
   "toc_cell": false,
   "toc_position": {},
   "toc_section_display": true,
   "toc_window_display": false
  }
 },
 "nbformat": 4,
 "nbformat_minor": 2
}
